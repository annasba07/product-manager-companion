{
 "cells": [
  {
   "cell_type": "markdown",
   "metadata": {},
   "source": [
    "# Web Scraping Medium articles with tags ML/DL/AI using BS & SELENIUM"
   ]
  },
  {
   "cell_type": "code",
   "execution_count": 1,
   "metadata": {},
   "outputs": [],
   "source": [
    "#import all libraries\n",
    "import urllib.request\n",
    "import requests\n",
    "import bs4\n",
    "from bs4 import BeautifulSoup"
   ]
  },
  {
   "cell_type": "code",
   "execution_count": 3,
   "metadata": {},
   "outputs": [],
   "source": [
    "#save the links we wanna scrape\n",
    "arificial_intelligence = \"https://medium.com/tag/product-management\"\n"
   ]
  },
  {
   "cell_type": "code",
   "execution_count": 4,
   "metadata": {},
   "outputs": [
    {
     "name": "stdout",
     "output_type": "stream",
     "text": [
      "Requirement already satisfied: selenium in c:\\users\\annas\\appdata\\local\\programs\\python\\python311\\lib\\site-packages (4.7.2)\n",
      "Requirement already satisfied: urllib3[socks]~=1.26 in c:\\users\\annas\\appdata\\local\\programs\\python\\python311\\lib\\site-packages (from selenium) (1.26.13)\n",
      "Requirement already satisfied: trio~=0.17 in c:\\users\\annas\\appdata\\local\\programs\\python\\python311\\lib\\site-packages (from selenium) (0.22.0)\n",
      "Requirement already satisfied: trio-websocket~=0.9 in c:\\users\\annas\\appdata\\local\\programs\\python\\python311\\lib\\site-packages (from selenium) (0.9.2)\n",
      "Requirement already satisfied: certifi>=2021.10.8 in c:\\users\\annas\\appdata\\local\\programs\\python\\python311\\lib\\site-packages (from selenium) (2022.12.7)\n",
      "Requirement already satisfied: attrs>=19.2.0 in c:\\users\\annas\\appdata\\local\\programs\\python\\python311\\lib\\site-packages (from trio~=0.17->selenium) (22.1.0)\n",
      "Requirement already satisfied: sortedcontainers in c:\\users\\annas\\appdata\\local\\programs\\python\\python311\\lib\\site-packages (from trio~=0.17->selenium) (2.4.0)\n",
      "Requirement already satisfied: async-generator>=1.9 in c:\\users\\annas\\appdata\\local\\programs\\python\\python311\\lib\\site-packages (from trio~=0.17->selenium) (1.10)\n",
      "Requirement already satisfied: idna in c:\\users\\annas\\appdata\\local\\programs\\python\\python311\\lib\\site-packages (from trio~=0.17->selenium) (3.4)\n",
      "Requirement already satisfied: outcome in c:\\users\\annas\\appdata\\local\\programs\\python\\python311\\lib\\site-packages (from trio~=0.17->selenium) (1.2.0)\n",
      "Requirement already satisfied: sniffio in c:\\users\\annas\\appdata\\local\\programs\\python\\python311\\lib\\site-packages (from trio~=0.17->selenium) (1.3.0)\n",
      "Requirement already satisfied: cffi>=1.14 in c:\\users\\annas\\appdata\\local\\programs\\python\\python311\\lib\\site-packages (from trio~=0.17->selenium) (1.15.1)\n",
      "Requirement already satisfied: wsproto>=0.14 in c:\\users\\annas\\appdata\\local\\programs\\python\\python311\\lib\\site-packages (from trio-websocket~=0.9->selenium) (1.2.0)\n",
      "Requirement already satisfied: PySocks!=1.5.7,<2.0,>=1.5.6 in c:\\users\\annas\\appdata\\local\\programs\\python\\python311\\lib\\site-packages (from urllib3[socks]~=1.26->selenium) (1.7.1)\n",
      "Requirement already satisfied: pycparser in c:\\users\\annas\\appdata\\local\\programs\\python\\python311\\lib\\site-packages (from cffi>=1.14->trio~=0.17->selenium) (2.21)\n",
      "Requirement already satisfied: h11<1,>=0.9.0 in c:\\users\\annas\\appdata\\local\\programs\\python\\python311\\lib\\site-packages (from wsproto>=0.14->trio-websocket~=0.9->selenium) (0.14.0)\n"
     ]
    }
   ],
   "source": [
    "!pip install selenium\n",
    "from selenium import webdriver"
   ]
  },
  {
   "cell_type": "markdown",
   "metadata": {},
   "source": [
    "### Dynamic loading with selenium"
   ]
  },
  {
   "cell_type": "code",
   "execution_count": 5,
   "metadata": {},
   "outputs": [
    {
     "name": "stderr",
     "output_type": "stream",
     "text": [
      "C:\\Users\\annas\\AppData\\Local\\Temp\\ipykernel_11580\\200098488.py:1: DeprecationWarning: executable_path has been deprecated, please pass in a Service object\n",
      "  driver = webdriver.Chrome('C:/Software Projects/chromedriver_win32/chromedriver.exe')\n"
     ]
    }
   ],
   "source": [
    "driver = webdriver.Chrome('C:/Software Projects/chromedriver_win32/chromedriver.exe')\n",
    "driver.get(arificial_intelligence)"
   ]
  },
  {
   "cell_type": "markdown",
   "metadata": {},
   "source": [
    "### Load the webpage that is displayed till you reach the end to collect all tagged articles"
   ]
  },
  {
   "cell_type": "code",
   "execution_count": 6,
   "metadata": {},
   "outputs": [
    {
     "name": "stdout",
     "output_type": "stream",
     "text": [
      "<html lang=\"en\" data-rh=\"lang\"><head><title>The most insightful stories about Product Management - Medium</title><meta data-rh=\"true\" charset=\"utf-8\"><meta data-rh=\"true\" name=\"viewport\" content=\"width=device-width,minimum-scale=1,initial-scale=1,maximum-scale=1\"><meta data-rh=\"true\" name=\"theme-color\" content=\"#000000\"><meta data-rh=\"true\" name=\"twitter:app:name:iphone\" content=\"Medium\"><meta data-rh=\"true\" name=\"twitter:app:id:iphone\" content=\"828256236\"><meta data-rh=\"true\" property=\"al:ios:app_name\" content=\"Medium\"><meta data-rh=\"true\" property=\"al:ios:app_store_id\" content=\"828256236\"><meta data-rh=\"true\" property=\"al:android:package\" content=\"com.medium.reader\"><meta data-rh=\"true\" property=\"al:android:app_name\" content=\"Medium\"><meta data-rh=\"true\" property=\"fb:app_id\" content=\"542599432471018\"><meta data-rh=\"true\" property=\"og:site_name\" content=\"Medium\"><meta data-rh=\"true\" name=\"title\" content=\"The most insightful stories about Product Management - Medium\"><meta data-rh=\"true\" name=\"description\" content=\"Read stories about Product Management on Medium. Discover smart, unique perspectives on Product Management and the topics that matter most to you like Startup, Product, Product Design, Agile, Product Development, UX, Software Development, Product Manager, and Design.\"><meta data-rh=\"true\" name=\"robots\" content=\"index,follow\"><meta data-rh=\"true\" name=\"twitter:card\" content=\"summary_large_image\"><meta data-rh=\"true\" name=\"twitter:site\" content=\"@Medium\"><meta data-rh=\"true\" name=\"twitter:description\" content=\"Read stories about Product Management on Medium. Discover smart, unique perspectives on Product Management and the topics that matter most to you like Startup, Product, Product Design, Agile, Product Development, UX, Software Development, Product Manager, and Design.\"><meta data-rh=\"true\" name=\"twitter:image:src\" content=\"https://miro.medium.com/1*0L5w2b6T1yEVI3_ZYUWONw.png\"><meta data-rh=\"true\" property=\"og:title\" content=\"The most insightful stories about Product Management - Medium\"><meta data-rh=\"true\" property=\"og:type\" content=\"website\"><meta data-rh=\"true\" property=\"og:description\" content=\"Read stories about Product Management on Medium. Discover smart, unique perspectives on Product Management and the topics that matter most to you like Startup, Product, Product Design, Agile, Product Development, UX, Software Development, Product Manager, and Design.\"><meta data-rh=\"true\" property=\"og:image\" content=\"https://miro.medium.com/1*0L5w2b6T1yEVI3_ZYUWONw.png\"><link data-rh=\"true\" rel=\"icon\" href=\"https://miro.medium.com/1*m-R_BkNf1Qjr1YbyOIJY2w.png\"><link data-rh=\"true\" rel=\"search\" type=\"application/opensearchdescription+xml\" title=\"Medium\" href=\"/osd.xml\"><link data-rh=\"true\" rel=\"apple-touch-icon\" sizes=\"152x152\" href=\"https://miro.medium.com/fit/c/152/152/1*sHhtYhaCe2Uc3IU0IgKwIQ.png\"><link data-rh=\"true\" rel=\"apple-touch-icon\" sizes=\"120x120\" href=\"https://miro.medium.com/fit/c/120/120/1*sHhtYhaCe2Uc3IU0IgKwIQ.png\"><link data-rh=\"true\" rel=\"apple-touch-icon\" sizes=\"76x76\" href=\"https://miro.medium.com/fit/c/76/76/1*sHhtYhaCe2Uc3IU0IgKwIQ.png\"><link data-rh=\"true\" rel=\"apple-touch-icon\" sizes=\"60x60\" href=\"https://miro.medium.com/fit/c/60/60/1*sHhtYhaCe2Uc3IU0IgKwIQ.png\"><link data-rh=\"true\" rel=\"mask-icon\" href=\"https://cdn-static-1.medium.com/_/fp/icons/Medium-Avatar-500x500.svg\" color=\"#171717\"><link data-rh=\"true\" rel=\"preconnect\" href=\"https://glyph.medium.com\" crossorigin=\"\"><link data-rh=\"true\" id=\"glyph_preload_link\" rel=\"preload\" as=\"style\" type=\"text/css\" href=\"https://glyph.medium.com/css/unbound.css\"><link data-rh=\"true\" id=\"glyph_link\" rel=\"stylesheet\" type=\"text/css\" href=\"https://glyph.medium.com/css/unbound.css\"><link data-rh=\"true\" rel=\"canonical\" href=\"https://medium.com/tag/product-management\"><style type=\"text/css\" data-fela-rehydration=\"396\" data-fela-type=\"STATIC\">html{box-sizing:border-box;-webkit-text-size-adjust:100%}*, *:before, *:after{box-sizing:inherit}body{margin:0;padding:0;text-rendering:optimizeLegibility;-webkit-font-smoothing:antialiased;color:rgba(0,0,0,0.8);position:relative;min-height:100vh}h1, h2, h3, h4, h5, h6, dl, dd, ol, ul, menu, figure, blockquote, p, pre, form{margin:0}menu, ol, ul{padding:0;list-style:none;list-style-image:none}main{display:block}a{color:inherit;text-decoration:none}a, button, input{-webkit-tap-highlight-color:transparent}img, svg{vertical-align:middle}button{background:transparent;overflow:visible}button, input, optgroup, select, textarea{margin:0}:root{--reach-tabs:1;--reach-menu-button:1}#speechify-root{font-family:Sohne, sans-serif}div[data-popper-reference-hidden=\"true\"]{visibility:hidden;pointer-events:none}\n",
      "/*XCode style (c) Angel Garcia <angelgarcia.mail@gmail.com>*/.hljs {background: #fff;color: black;\n",
      "}/* Gray DOCTYPE selectors like WebKit */\n",
      ".xml .hljs-meta {color: #c0c0c0;\n",
      "}.hljs-comment,\n",
      ".hljs-quote {color: #007400;\n",
      "}.hljs-tag,\n",
      ".hljs-attribute,\n",
      ".hljs-keyword,\n",
      ".hljs-selector-tag,\n",
      ".hljs-literal,\n",
      ".hljs-name {color: #aa0d91;\n",
      "}.hljs-variable,\n",
      ".hljs-template-variable {color: #3F6E74;\n",
      "}.hljs-code,\n",
      ".hljs-string,\n",
      ".hljs-meta .hljs-string {color: #c41a16;\n",
      "}.hljs-regexp,\n",
      ".hljs-link {color: #0E0EFF;\n",
      "}.hljs-title,\n",
      ".hljs-symbol,\n",
      ".hljs-bullet,\n",
      ".hljs-number {color: #1c00cf;\n",
      "}.hljs-section,\n",
      ".hljs-meta {color: #643820;\n",
      "}.hljs-title.class_,\n",
      ".hljs-class .hljs-title,\n",
      ".hljs-type,\n",
      ".hljs-built_in,\n",
      ".hljs-params {color: #5c2699;\n",
      "}.hljs-attr {color: #836C28;\n",
      "}.hljs-subst {color: #000;\n",
      "}.hljs-formula {background-color: #eee;font-style: italic;\n",
      "}.hljs-addition {background-color: #baeeba;\n",
      "}.hljs-deletion {background-color: #ffc8bd;\n",
      "}.hljs-selector-id,\n",
      ".hljs-selector-class {color: #9b703f;\n",
      "}.hljs-doctag,\n",
      ".hljs-strong {font-weight: bold;\n",
      "}.hljs-emphasis {font-style: italic;\n",
      "}\n",
      "</style><style type=\"text/css\" data-fela-rehydration=\"396\" data-fela-type=\"KEYFRAME\">@-webkit-keyframes k1{0%{opacity:0.8}50%{opacity:0.5}100%{opacity:0.8}}@-moz-keyframes k1{0%{opacity:0.8}50%{opacity:0.5}100%{opacity:0.8}}@keyframes k1{0%{opacity:0.8}50%{opacity:0.5}100%{opacity:0.8}}</style><style type=\"text/css\" data-fela-rehydration=\"396\" data-fela-type=\"RULE\">.a{font-family:medium-content-sans-serif-font, -apple-system, BlinkMacSystemFont, \"Segoe UI\", Roboto, Oxygen, Ubuntu, Cantarell, \"Open Sans\", \"Helvetica Neue\", sans-serif}.b{font-weight:400}.c{background-color:rgba(255, 255, 255, 1)}.l{display:block}.m{position:sticky}.n{top:0}.o{z-index:500}.p{padding:0 24px}.q{align-items:center}.r{border-bottom:solid 1px rgba(242, 242, 242, 1)}.y{height:41px}.z{line-height:20px}.ab{display:flex}.ac{height:57px}.ad{flex:1 0 auto}.ae{color:inherit}.af{fill:inherit}.ag{font-size:inherit}.ah{border:inherit}.ai{font-family:inherit}.aj{letter-spacing:inherit}.ak{font-weight:inherit}.al{padding:0}.am{margin:0}.aq:disabled{cursor:default}.ar:disabled{color:rgba(117, 117, 117, 1)}.as:disabled{fill:rgba(117, 117, 117, 1)}.at{height:25px}.au{fill:rgba(41, 41, 41, 1)}.av{margin-left:16px}.aw{border:none}.ax{border-radius:20px}.ay{width:240px}.az{background:rgba(250, 250, 250, 1)}.ba path{fill:rgba(117, 117, 117, 1)}.bc{outline:none}.bd{font-family:sohne, \"Helvetica Neue\", Helvetica, Arial, sans-serif}.be{font-size:14px}.bf{width:100%}.bg{padding:10px 20px 10px 0}.bh{background-color:transparent}.bi{color:rgba(41, 41, 41, 1)}.bj::placeholder{color:rgba(117, 117, 117, 1)}.bk{display:inline-block}.bl{margin-left:12px}.bm{margin-right:12px}.bn{border-radius:4px}.bo{margin-left:24px}.bp{height:24px}.bv{background-color:rgba(250, 250, 250, 1)}.bw{border-radius:50%}.bx{height:32px}.by{width:32px}.bz{margin:auto}.ca{max-width:1336px}.cb{flex-direction:row}.cc{justify-content:space-evenly}.cj{flex:1 1 auto}.ck{padding-right:24px}.dc{box-sizing:border-box}.dd{border-left:1px solid rgba(242, 242, 242, 1)}.de{min-height:100vh}.df{height:100%}.dg{position:relative}.dh{word-break:break-all}.di{justify-content:center}.dj{min-width:0}.dk{margin:0 24px}.dy{margin-bottom:0}.dz{vertical-align:text-bottom}.ea{padding:2px 0}.eb{width:28px}.ec{align-self:center}.ed{flex:0 0 auto}.ee{background-color:rgba(237, 237, 237, 1)}.ef{text-align:center}.eg{font-size:18px}.eh{line-height:24px}.ei{padding-left:8px}.ej{font-weight:700}.ff{overflow:hidden}.fg{text-overflow:ellipsis}.fh{display:-webkit-box}.fi{-webkit-line-clamp:1}.fj{-webkit-box-orient:vertical}.fl{padding-top:16px}.fm{margin-right:16px}.fn{max-width:88px}.fo{padding-right:8px}.fp{padding-right:4px}.fq{font-size:16px}.fr{color:rgba(117, 117, 117, 1)}.fs{padding:16px 10px 8px}.ft{color:rgba(255, 255, 255, 1)}.fu{padding:4px 12px 6px}.fv{fill:rgba(255, 255, 255, 1)}.fw{background:rgba(26, 137, 23, 1)}.fx{border-color:rgba(26, 137, 23, 1)}.ga:disabled{cursor:inherit !important}.gb:disabled{opacity:0.3}.gc:disabled:hover{background:rgba(26, 137, 23, 1)}.gd:disabled:hover{border-color:rgba(26, 137, 23, 1)}.ge{border-radius:99em}.gf{border-width:1px}.gg{border-style:solid}.gh{text-decoration:none}.gi{padding:16px 10px 8px 0px}.gj{color:rgba(26, 137, 23, 1)}.gk{background:0}.gl{fill:rgba(26, 137, 23, 1)}.go:disabled:hover{color:rgba(26, 137, 23, 1)}.gp:disabled:hover{fill:rgba(26, 137, 23, 1)}.gq{border-bottom:1px solid rgba(230, 230, 230, 1)}.gr{list-style-type:none}.gs{white-space:nowrap}.gt{overflow-x:auto}.gu{margin-bottom:-1px}.gv{line-height:40px}.gw{margin-right:18px}.gx{padding-left:2px}.gy{padding-bottom:16px}.gz{border-bottom:1px solid rgba(117, 117, 117, 1)}.ha{border-bottom:none}.hb{margin-left:10px}.hc{align-items:flex-end}.hh{background:transparent}.hi{padding:16px 10px 16px}.hj{cursor:pointer}.hk{display:inline}.hl{padding-top:40px}.hm{animation:k1 1.2s ease-in-out infinite}.hn{margin-bottom:16px}.ho{align-items:flex-start}.hp{justify-content:space-between}.hq{margin-bottom:20px}.hr{border-radius:10px}.hs{margin-right:8px}.ht{height:20px}.hu{width:20px}.hv{background-color:rgba(242, 242, 242, 1)}.hw{height:8px}.hx{width:82px}.hy{margin-bottom:12px}.hz{height:16px}.ia{width:80%}.ib{width:65%}.ic{height:133px}.id{width:200px}.ie{top:57px}.if{min-height:calc(100vh - 57px)}.ig{flex-direction:column}.ih{padding-bottom:0px}.ii{margin-top:40px}.ij{color:rgba(242, 242, 242, 1)}.ik{padding:7px 16px 9px}.il{fill:rgba(242, 242, 242, 1)}.im{background:rgba(242, 242, 242, 1)}.in{border-color:rgba(242, 242, 242, 1)}.it:disabled{opacity:0.1}.iu:disabled:hover{background:rgba(25, 25, 25, 1)}.iv:disabled:hover{border-color:rgba(25, 25, 25, 1)}.iw{padding-bottom:40px}.ix{font-size:22px}.iy{line-height:28px}.iz{letter-spacing:0}.ja{margin-top:10px}.jb{font-weight:500}.jc{flex-wrap:wrap}.jd{margin-bottom:10px}.je{height:40px}.jf{padding:8px 16px}.jg{border-radius:100px}.jh{transition:background 300ms ease}.jj{padding:24px 0}.jk{margin-right:6px}.jl{font-size:11px}.jm{line-height:16px}.jn{margin-left:auto}.jo{margin-right:auto}.jp{box-sizing:content-box}.jq{box-shadow:inset 0 0 0 1px rgba(0, 0, 0, 0.05)}.jr{width:24px}.js{position:absolute}.jt{margin-left:8px}.ju{flex-wrap:nowrap}.jv{max-height:20px}.jw{margin:0 4px}.jx{margin-top:12px}.jy{opacity:1}.jz{transition:opacity 0ms ease-in}.ka{transition-delay:0s}.kb{opacity:0}.kc{height:0}.kd{word-break:break-word}.le{font-family:source-serif-pro, Georgia, Cambria, \"Times New Roman\", Times, serif}.lf{max-height:72px}.lg{-webkit-line-clamp:3}.mg{padding:2px 8px}.mh{font-size:13px}.mi{justify-content:flex-end}.mj{flex:0 0 0}.mt{border:0}.mu{height:1px}.mv{background-color:rgba(230, 230, 230, 1)}.mw{padding-top:24px}.mx{padding:0 2px}.my{padding:40px 0}.mz{padding-bottom:14px}.na{padding-left:24px}.nb{line-height:18px}.nc{letter-spacing:0.077em}.nd{text-transform:uppercase}.ne{overflow-x:scroll}.nf::-webkit-scrollbar{display:none}.ng{scrollbar-width:none}.nh{-ms-overflow-style:none}.ni{height:56px}.nj{height:36px}.nk{max-height:48px}.nl{-webkit-line-clamp:2}.nm{margin-right:4px}.nn{padding:0 0 0 8px}.nv{max-height:40px}.nw{margin-top:4px}.an:hover{cursor:pointer}.ao:hover{color:rgba(25, 25, 25, 1)}.ap:hover{fill:rgba(25, 25, 25, 1)}.fy:hover{background:rgba(15, 115, 12, 1)}.fz:hover{border-color:rgba(15, 115, 12, 1)}.gm:hover{color:rgba(15, 115, 12, 1)}.gn:hover{fill:rgba(15, 115, 12, 1)}.io:hover{background:rgba(242, 242, 242, 1)}.ip:hover{border-color:rgba(242, 242, 242, 1)}.iq:hover{cursor:wait}.ir:hover{color:rgba(242, 242, 242, 1)}.is:hover{fill:rgba(242, 242, 242, 1)}.ji:hover{background-color:rgba(230, 230, 230, 1)}.bb:focus-within path{fill:rgba(41, 41, 41, 1)}</style><style type=\"text/css\" data-fela-rehydration=\"396\" data-fela-type=\"RULE\" media=\"all and (min-width: 1080px)\">.d{display:none}.bu{width:64px}.cd{max-width:728px}.ce{min-width:728px}.cy{padding-left:clamp(24px, 24px + 100vw - 1080px, 40px)}.cz{display:block}.da{min-width:368px}.db{max-width:368px}.dn{max-width:680px}.dw{margin-bottom:32px}.dx{margin-top:52px}.fb{font-size:42px}.fc{line-height:52px}.fd{max-height:52px}.fe{letter-spacing:0}.hf{margin-top:8px}.ki{padding-bottom:8px}.kz{font-size:22px}.la{line-height:28px}.lb{max-height:84px}.lc{-webkit-line-clamp:3}.ll{padding:32px 0}.ly{padding:0px}.lz{max-width:unset}.ma{flex:1 0 auto}.mf{overflow:visible}.mo{margin-left:60px}.np{display:flex}.of{max-height:40px}.og{-webkit-line-clamp:2}</style><style type=\"text/css\" data-fela-rehydration=\"396\" data-fela-type=\"RULE\" media=\"all and (max-width: 1079.98px)\">.e{display:none}.he{margin-top:8px}</style><style type=\"text/css\" data-fela-rehydration=\"396\" data-fela-type=\"RULE\" media=\"all and (max-width: 903.98px)\">.f{display:none}.nq{padding-left:0}.nr{padding-right:0}.ns{padding:40px 0}.nt{margin:40px 0}.nu{box-sizing:border-box}</style><style type=\"text/css\" data-fela-rehydration=\"396\" data-fela-type=\"RULE\" media=\"all and (max-width: 727.98px)\">.g{display:none}.hd{margin-top:0}.hg{display:block}</style><style type=\"text/css\" data-fela-rehydration=\"396\" data-fela-type=\"RULE\" media=\"all and (max-width: 551.98px)\">.h{display:none}.s{display:flex}.t{justify-content:space-between}.bq{width:24px}.ci{min-width:0}.cl{padding-left:24px}.cm{min-width:352px}.cn{max-width:352px}.do{margin-bottom:24px}.dp{margin-top:24px}.ek{font-size:22px}.el{line-height:28px}.em{max-height:28px}.eo{letter-spacing:0}.ke{padding-bottom:0}.kj{font-size:16px}.kk{line-height:20px}.kl{max-height:40px}.km{-webkit-line-clamp:2}.lh{padding:16px 0}.lm{padding:16px 0px}.ln{max-width:56%}.lo{flex:1 0 0}.mb{overflow:hidden}.mk{margin-left:24px}.mp{display:block}.mr{padding:0}.nx{max-height:20px}.ny{-webkit-line-clamp:1}</style><style type=\"text/css\" data-fela-rehydration=\"396\" data-fela-type=\"RULE\" media=\"all and (min-width: 904px) and (max-width: 1079.98px)\">.i{display:none}.bt{width:64px}.cf{min-width:0}.cu{padding-left:24px}.cv{display:block}.cw{min-width:352px}.cx{max-width:352px}.dm{max-width:680px}.du{margin-bottom:32px}.dv{margin-top:52px}.ex{font-size:42px}.ey{line-height:52px}.ez{max-height:52px}.fa{letter-spacing:0}.kh{padding-bottom:8px}.kv{font-size:22px}.kw{line-height:28px}.kx{max-height:84px}.ky{-webkit-line-clamp:3}.lk{padding:32px 0}.lv{padding:0px}.lw{max-width:unset}.lx{flex:1 0 auto}.me{overflow:visible}.mn{margin-left:60px}.no{display:flex}.od{max-height:20px}.oe{-webkit-line-clamp:1}</style><style type=\"text/css\" data-fela-rehydration=\"396\" data-fela-type=\"RULE\" media=\"all and (min-width: 728px) and (max-width: 903.98px)\">.j{display:none}.w{display:flex}.x{justify-content:flex-end}.bs{width:64px}.cg{min-width:0}.cr{padding-left:24px}.cs{min-width:352px}.ct{max-width:352px}.dl{max-width:680px}.ds{margin-bottom:32px}.dt{margin-top:52px}.et{font-size:42px}.eu{line-height:52px}.ev{max-height:52px}.ew{letter-spacing:0}.kg{padding-bottom:8px}.kr{font-size:22px}.ks{line-height:28px}.kt{max-height:84px}.ku{-webkit-line-clamp:3}.ld{display:block}.lj{padding:32px 0}.ls{padding:0px}.lt{max-width:unset}.lu{flex:1 0 auto}.md{overflow:visible}.mm{margin-left:60px}.ob{max-height:20px}.oc{-webkit-line-clamp:1}</style><style type=\"text/css\" data-fela-rehydration=\"396\" data-fela-type=\"RULE\" media=\"all and (min-width: 552px) and (max-width: 727.98px)\">.k{display:none}.u{display:flex}.v{justify-content:space-between}.br{width:24px}.ch{min-width:0}.co{padding-left:24px}.cp{min-width:352px}.cq{max-width:352px}.dq{margin-bottom:24px}.dr{margin-top:24px}.ep{font-size:22px}.eq{line-height:28px}.er{max-height:28px}.es{letter-spacing:0}.kf{padding-bottom:0}.kn{font-size:16px}.ko{line-height:20px}.kp{max-height:40px}.kq{-webkit-line-clamp:2}.li{padding:16px 0}.lp{padding:16px 0px}.lq{max-width:56%}.lr{flex:1 0 0}.mc{overflow:hidden}.ml{margin-left:24px}.mq{display:block}.ms{padding:0}.nz{max-height:20px}.oa{-webkit-line-clamp:1}</style><style type=\"text/css\" data-fela-rehydration=\"396\" data-fela-type=\"RULE\" media=\"(orientation: landscape) and (max-width: 903.98px)\">.fk{max-height:none}</style><script async=\"\" src=\"https://cdn.branch.io/branch-latest.min.js\"></script><script async=\"\" src=\"https://www.google-analytics.com/analytics.js\"></script><script data-rh=\"true\">(function(i,s,o,g,r,a,m){i['GoogleAnalyticsObject']=r;i[r]=i[r]||function(){\n",
      "(i[r].q=i[r].q||[]).push(arguments)},i[r].l=1*new Date();a=s.createElement(o),\n",
      "m=s.getElementsByTagName(o)[0];a.async=1;a.src=g;m.parentNode.insertBefore(a,m)\n",
      "})(window,document,'script','https://www.google-analytics.com/analytics.js','ga');\n",
      "ga('create', 'UA-24232453-2', 'auto');\n",
      "ga('send', 'pageview');</script><script type=\"text/javascript\" data-rh=\"true\">(function(b,r,a,n,c,h,_,s,d,k){if(!b[n]||!b[n]._q){for(;s<_.length;)c(h,_[s++]);d=r.createElement(a);d.async=1;d.src=\"https://cdn.branch.io/branch-latest.min.js\";k=r.getElementsByTagName(a)[0];k.parentNode.insertBefore(d,k);b[n]=h}})(window,document,\"script\",\"branch\",function(b,r){b[r]=function(){b._q.push([r,arguments])}},{_q:[],_v:1},\"addListener applyCode autoAppIndex banner closeBanner closeJourney creditHistory credits data deepview deepviewCta first getCode init link logout redeem referrals removeListener sendSMS setBranchViewData setIdentity track validateCode trackCommerceEvent logEvent\".split(\" \"), 0);\n",
      "branch.init('key_live_ofxXr2qTrrU9NqURK8ZwEhknBxiI6KBm', {metadata: {}, 'no_journeys': true, 'disable_exit_animation': true, 'disable_entry_animation': true, 'tracking_disabled': null}, function(err, data) {});</script></head><body><div id=\"root\"><div class=\"a b c\"><div class=\"d e f g h i j k\"></div><script>document.domain = document.domain;</script><div><script>if (window.self !== window.top) window.location = \"about:blank\"</script></div><div class=\"l c\"><div class=\"l m n o c\" style=\"transform: translateY(0px);\"><div class=\"p q r s t u v w x i d y z\"><a class=\"fr af mh bd aj b al am an ao ap aq ar as s u j i d q df z\" href=\"https://rsci.app.link/?%24canonical_url=https%3A%2F%2Fmedium.com%2Ftag%2Fproduct-management&amp;%7Efeature=LoOpenInAppButton&amp;%7Echannel=ShowTagPosts&amp;source=---two_column_layout_nav----------------------------------\" rel=\"noopener follow\">Open in app<svg width=\"10\" height=\"10\" viewBox=\"0 0 10 10\" fill=\"none\" class=\"jt\"><path d=\"M.98 8.48a.37.37 0 1 0 .54.54l-.54-.54zm7.77-7.23h.38c0-.2-.17-.38-.38-.38v.38zM8.37 6.5a.37.37 0 1 0 .76 0h-.76zM3.5.87a.37.37 0 1 0 0 .76V.88zM1.52 9.03l7.5-7.5-.54-.54-7.5 7.5.54.54zm6.86-7.77V6.5h.74V1.25h-.74zm-4.88.38h5.25V.88H3.5v.74z\" fill=\"currentColor\"></path></svg></a><div class=\"ab q\"><p class=\"bd b ok kk ol ko om on oo op oq or fr\"><span><button class=\"bd b ok kk os ol ko ot om on ou oo op ov oq or ow ft fv fw fx fy fz an ga gb gc gd ge gf gg dc bk gh\">Sign up</button></span></p><div class=\"av l\"><p class=\"bd b ok kk ol ko om on oo op oq or fr\"><span><a class=\"ae af ag ah ai aj ak al am an ao ap aq ar as\" rel=\"noopener follow\" href=\"/m/signin?operation=login&amp;redirect=https%3A%2F%2Fmedium.com%2Ftag%2Fproduct-management&amp;source=login---two_column_layout_nav-----------------------global_nav-----------\">Sign In</a></span></p></div></div></div><div class=\"p q r ab ac\"><div class=\"ab q ad\"><a class=\"ae af ag ah ai aj ak al am an ao ap aq ar as ab\" aria-label=\"Homepage\" rel=\"noopener follow\" href=\"/?source=---two_column_layout_nav----------------------------------\"><svg viewBox=\"0 0 1043.63 592.71\" class=\"at au\"><g data-name=\"Layer 2\"><g data-name=\"Layer 1\"><path d=\"M588.67 296.36c0 163.67-131.78 296.35-294.33 296.35S0 460 0 296.36 131.78 0 294.34 0s294.33 132.69 294.33 296.36M911.56 296.36c0 154.06-65.89 279-147.17 279s-147.17-124.94-147.17-279 65.88-279 147.16-279 147.17 124.9 147.17 279M1043.63 296.36c0 138-23.17 249.94-51.76 249.94s-51.75-111.91-51.75-249.94 23.17-249.94 51.75-249.94 51.76 111.9 51.76 249.94\"></path></g></g></svg></a><div class=\"av h\"><div class=\"ab aw ax ay az q ba bb\"><div class=\"bk\" aria-hidden=\"false\" aria-describedby=\"searchResults\" aria-labelledby=\"searchResults\"></div><div class=\"bl bm ab\"><svg width=\"24\" height=\"24\" viewBox=\"0 0 24 24\" fill=\"none\"><path fill-rule=\"evenodd\" clip-rule=\"evenodd\" d=\"M4.1 11.06a6.95 6.95 0 1 1 13.9 0 6.95 6.95 0 0 1-13.9 0zm6.94-8.05a8.05 8.05 0 1 0 5.13 14.26l3.75 3.75a.56.56 0 1 0 .8-.79l-3.74-3.73A8.05 8.05 0 0 0 11.04 3v.01z\" fill=\"currentColor\"></path></svg></div><input role=\"combobox\" aria-controls=\"searchResults\" aria-expanded=\"false\" aria-label=\"search\" tabindex=\"0\" class=\"aw bc bd be z bf bg bh bi bj\" placeholder=\"Search Medium\" value=\"\"></div></div></div><div class=\"h k w no np\"><div class=\"ox ab\"><span><a class=\"ae af ag ah ai aj ak al am an ao ap aq ar as\" rel=\"noopener follow\" href=\"/m/signin?operation=register&amp;redirect=https%3A%2F%2Fmedium.com%2Fnew-story&amp;source=---two_column_layout_nav-----------------------new_post_sidenav-----------\"><div class=\"bd b be z fr dg oy ab q oz pa\"><svg width=\"24\" height=\"24\" viewBox=\"0 0 24 24\" fill=\"none\" aria-label=\"Write\"><path d=\"M14 4a.5.5 0 0 0 0-1v1zm7 6a.5.5 0 0 0-1 0h1zm-7-7H4v1h10V3zM3 4v16h1V4H3zm1 17h16v-1H4v1zm17-1V10h-1v10h1zm-1 1a1 1 0 0 0 1-1h-1v1zM3 20a1 1 0 0 0 1 1v-1H3zM4 3a1 1 0 0 0-1 1h1V3z\" fill=\"currentColor\"></path><path d=\"M17.5 4.5l-8.46 8.46a.25.25 0 0 0-.06.1l-.82 2.47c-.07.2.12.38.31.31l2.47-.82a.25.25 0 0 0 .1-.06L19.5 6.5m-2-2l2.32-2.32c.1-.1.26-.1.36 0l1.64 1.64c.1.1.1.26 0 .36L19.5 6.5m-2-2l2 2\" stroke=\"currentColor\"></path></svg><div class=\"jt l\">Write</div></div></a></span></div></div><div class=\"k j i d\"><div class=\"ox ab\"><a class=\"ae af ag ah ai aj ak al am an ao ap aq ar as\" rel=\"noopener follow\" href=\"/search?source=---two_column_layout_nav----------------------------------\"><div class=\"bd b be z fr dg oy ab q oz pa\"><svg width=\"24\" height=\"24\" viewBox=\"0 0 24 24\" fill=\"none\" aria-label=\"Search\"><path fill-rule=\"evenodd\" clip-rule=\"evenodd\" d=\"M4.1 11.06a6.95 6.95 0 1 1 13.9 0 6.95 6.95 0 0 1-13.9 0zm6.94-8.05a8.05 8.05 0 1 0 5.13 14.26l3.75 3.75a.56.56 0 1 0 .8-.79l-3.74-3.73A8.05 8.05 0 0 0 11.04 3v.01z\" fill=\"currentColor\"></path></svg></div></a></div></div><div class=\"ox h k j\"><div class=\"ab q\"><p class=\"bd b ok kk ol ko om on oo op oq or fr\"><span><button class=\"bd b ok kk os ol ko ot om on ou oo op ov oq or ow ft fv fw fx fy fz an ga gb gc gd ge gf gg dc bk gh\">Sign up</button></span></p><div class=\"av l\"><p class=\"bd b ok kk ol ko om on oo op oq or fr\"><span><a class=\"ae af ag ah ai aj ak al am an ao ap aq ar as\" rel=\"noopener follow\" href=\"/m/signin?operation=login&amp;redirect=https%3A%2F%2Fmedium.com%2Ftag%2Fproduct-management&amp;source=login---two_column_layout_nav-----------------------global_nav-----------\">Sign In</a></span></p></div></div></div><div class=\"l\" aria-hidden=\"false\"><button class=\"aw hh al ab q hj pb pc pd\" aria-label=\"user options menu\"><div class=\"l dg\"><img alt=\"\" class=\"l dc bw bx by hv\" src=\"https://miro.medium.com/fit/c/48/48/1*dmbNkD5D-u45r44go_cf0g.png\" width=\"32\" height=\"32\" loading=\"lazy\" role=\"presentation\"><div class=\"jq bw l bx by js n\"></div></div><svg width=\"12px\" height=\"12px\" viewBox=\"0 0 15 15\"><path d=\"M3.85 5.15a.5.5 0 0 0-.7.7l4.35 4.36 4.35-4.36a.5.5 0 1 0-.7-.7L7.5 8.79 3.85 5.15z\" fill-rule=\"evenodd\"></path></svg></button></div></div></div><div class=\"bz ca l\"><div class=\"ab cb cc\"><main class=\"cd ce cf cg ch ci l cj\"><div class=\"ab di\"><div class=\"dj bf dk dl dm dn\"><div class=\"do dp dq dr ds dt du dv dw dx l\"><div class=\"dy l\"><div class=\"ab\"><div class=\"ea bw eb l ec ed ee ef\"><h3 class=\"bd b eg eh bi\"><svg width=\"21\" height=\"21\" class=\"dz\"><path d=\"M4.66 8.72L3.43 9.95a1.75 1.75 0 0 0 0 2.48l5.14 5.13c.7.7 1.8.69 2.48 0l1.23-1.22 5.35-5.35a2 2 0 0 0 .51-1.36l-.32-4.29a2.42 2.42 0 0 0-2.15-2.14l-4.3-.33c-.43-.03-1.05.2-1.36.51l-.79.8-2.27 2.28-2.28 2.27zm9.83-.98a1.25 1.25 0 1 0 0-2.5 1.25 1.25 0 0 0 0 2.5z\" fill-rule=\"evenodd\"></path></svg></h3></div><div class=\"ei l\"><div class=\"dh\"><div class=\"l\"><h1 class=\"bd ej ek el em eo ep eq er es et eu ev ew ex ey ez fa fb fc fd fe ff fg fh fi fj dh fk bi\">Product Management</h1></div></div></div></div><div class=\"fl s u j i d\"><div class=\"fm fn l\"><div class=\"pl l\"><div class=\"pm l\"><div class=\"pj pk\"><div class=\"l pe je bw pf pg\"><div class=\"l dg\"><img alt=\"Khushboosamkaria\" class=\"l dc bw nj pn hv\" src=\"https://miro.medium.com/fit/c/54/54/0*f7_gGdF56vbddWu5\" width=\"36\" height=\"36\" loading=\"lazy\"><div class=\"jq bw l nj pn js n\"></div></div></div><div class=\"l pe je bw pf ph\"><div class=\"l dg\"><img alt=\"Dhaval Thakur\" class=\"l dc bw nj pn hv\" src=\"https://miro.medium.com/fit/c/54/54/1*8WfkWzybcqZL_9bciv0qnA.jpeg\" width=\"36\" height=\"36\" loading=\"lazy\"><div class=\"jq bw l nj pn js n\"></div></div></div><div class=\"l pe je bw pf pi\"><div class=\"l dg\"><img alt=\"UX NATA\" class=\"l dc bw nj pn hv\" src=\"https://miro.medium.com/fit/c/54/54/1*vRSCIqwcbXQ5qRY2NM-wOQ.png\" width=\"36\" height=\"36\" loading=\"lazy\"><div class=\"jq bw l nj pn js n\"></div></div></div></div></div></div></div><div class=\"ab q\"><div class=\"fo ab\"><div class=\"fp l\"><p class=\"bd b fq eh bi\">72K</p></div><p class=\"bd b fq eh fr\">Stories</p></div><div class=\"fo ab\"><div class=\"fp l\"><p class=\"bd b fq eh bi\">29K</p></div><p class=\"bd b fq eh fr\">Writers</p></div></div></div><div class=\"ab\"><div class=\"fs l\"><div class=\"l\"><span><a class=\"ae af ag ah ai aj ak al am an ao ap aq ar as\" rel=\"noopener follow\" href=\"/m/signin?actionUrl=https%3A%2F%2Fmedium.com%2Fsignedin%2Fsubscriptions%2Ftag%2Fproduct-management%3FfollowSource%3Dtopics_v2&amp;operation=register&amp;redirect=https%3A%2F%2Fmedium.com%2Ftag%2Fproduct-management&amp;source=--------------------------follow_tag-----------\"><button class=\"bd b be z ft fu fv fw fx fy fz an ga gb gc gd ge gf gg dc bk gh\">Follow</button></a></span></div></div><div class=\"gi l\"><a class=\"bd b be z gj fu gk gl fx gm gn fz an ga gb go gp gd ge gf gg dc bk gh\" href=\"https://medium.com/new-story?source=topic_page-------------------------------------\" rel=\"noopener follow\">Start writing</a></div></div></div><div class=\"gq l\"><div class=\"hb ab hc hd he hf\"><div class=\"l g\"><ul class=\"gr am gs gt gu\"><li class=\"bk gv gw gx fl gy gz bc\"><p class=\"bd b be z bi\"><a class=\"ae af ag ah ai aj ak al am an ao ap aq ar as\" rel=\"noopener follow\" href=\"/tag/product-management?source=topic_page-------------------------------------\">Trending</a></p></li><li class=\"bk gv gw gx fl gy ha bc\"><p class=\"bd b be z fr\"><a class=\"ae af ag ah ai aj ak al am an ao ap aq ar as\" rel=\"noopener follow\" href=\"/tag/product-management/latest?source=topic_page-------------------------------------\">Latest</a></p></li><li class=\"bk gv gw gx fl gy ha bc\"><p class=\"bd b be z fr\"><a class=\"ae af ag ah ai aj ak al am an ao ap aq ar as\" rel=\"noopener follow\" href=\"/tag/product-management/top/year?source=topic_page-------------------------------------\">Best</a></p></li></ul></div><div class=\"l hg e d\"><div class=\"bk\" aria-hidden=\"false\"><button class=\"bi aw hh hi bd b be z q hj ab\"><span class=\"fo hk\">Trending</span><svg width=\"15\" height=\"15\" viewBox=\"0 0 15 15\"><path d=\"M3.85 5.15a.5.5 0 0 0-.7.7l4.35 4.36 4.35-4.36a.5.5 0 1 0-.7-.7L7.5 8.79 3.85 5.15z\" fill-rule=\"evenodd\"></path></svg></button></div></div></div></div></div></div></div><div><div class=\"l\"><article><div class=\"jn jo jp l\"><div class=\"ab di\"><div class=\"dj bf dk dl dm dn\"><div class=\"bf df\"><div class=\"l\"><div class=\"q ab\"><div><a rel=\"noopener follow\" href=\"/@doloresmaekivi?source=topics_v2---------0-84--------------------e32e19b0_4754_46c6_93e0_6b8d4aff325a-------17\"><div class=\"l dg\"><img alt=\"Dolores Mäekivi\" class=\"l dc bw bp jr hv\" src=\"https://miro.medium.com/fit/c/36/36/1*JBiad_ETDnwiVzgrrUBD0g.jpeg\" width=\"24\" height=\"24\" loading=\"lazy\"><div class=\"jq bw l bp jr js n\"></div></div></a></div><div class=\"jt bf ab ju\"><div class=\"ab\"><div style=\"flex: 1 1 0%;\"><span class=\"bd b be z bi\"><div class=\"ab q ju\"><a class=\"ae af ag ah ai aj ak al am an ao ap aq ar as\" rel=\"noopener follow\" href=\"/@doloresmaekivi?source=topics_v2---------0-84--------------------e32e19b0_4754_46c6_93e0_6b8d4aff325a-------17\"><p class=\"bd b be z ff jv fg fh fi fj dh fk bi\">Dolores Mäekivi</p></a></div></span></div></div><div class=\"l ed\"><span class=\"bd b be z fr\"><div class=\"ab q\"><a class=\"\" rel=\"noopener follow\" href=\"/@doloresmaekivi/alternative-to-classical-ux-research-methods-d78285b38715?source=topics_v2---------0-84--------------------e32e19b0_4754_46c6_93e0_6b8d4aff325a-------17\"><p class=\"bd b be z fr\"><span class=\"jw\">·</span>1 day ago</p></a></div></span></div></div></div><div class=\"jx l\"><div class=\"l\"><div class=\"l dg\"><div class=\"jy\"><div class=\"l\"><div><div class=\"ab\"><div class=\"l cj kd\"><div class=\"l\"><a class=\"ae af ag ah ai aj ak al am an ao ap aq ar as\" aria-label=\"Post Preview Title\" rel=\"noopener follow\" href=\"/@doloresmaekivi/alternative-to-classical-ux-research-methods-d78285b38715?source=topics_v2---------0-84--------------------e32e19b0_4754_46c6_93e0_6b8d4aff325a-------17\"><div class=\"ke kf kg kh ki l\"><h2 class=\"bd ej kj kk kl km eo kn ko kp kq es kr ks kt ku ew kv kw kx ky fa kz la lb lc fe ff fg fh fj fk bi\">Alternative to classical UX research methods</h2></div><div class=\"h k ld cv cz\"><p class=\"le b fq eh ff lf fg fh lg fj fk iz bi\">Every applied researcher has some studies that made a great impact and some that were left on “read” by stakeholders. Those findings that prove to be valuable over multiple years are the special highlights of a researcher’s career 🌟 This brings me to a successful study that I and my…</p></div></a></div><div class=\"lh h li k lj ld lk cv ll cz\"><div class=\"ab hp\"><div class=\"lm ln lo lp lq lr ls lt lu lv lw lx ly lz ma ab q\"><div class=\"fo mb mc md me mf ab\"><a class=\"bf\" rel=\"noopener follow\" href=\"/tag/product-management?source=topics_v2----------84----------product_management----------e32e19b0_4754_46c6_93e0_6b8d4aff325a-------17\"><div class=\"mg dg hv jg jh ji bd b mh z bi gs ff fg\">Product Management</div></a></div><div class=\"ab ed\"><a class=\"ae af ag ah ai aj ak al am an ao ap aq ar as\" aria-label=\"Post Preview Reading Time\" rel=\"noopener follow\" href=\"/@doloresmaekivi/alternative-to-classical-ux-research-methods-d78285b38715?source=topics_v2---------0-84--------------------e32e19b0_4754_46c6_93e0_6b8d4aff325a-------17\"><p class=\"bd b mh z fr\"><span>6 min read</span></p></a></div></div><div class=\"ab q mi mj\"><div><div class=\"bk\" aria-hidden=\"false\" aria-describedby=\"5\" aria-labelledby=\"5\"><span><a class=\"ae af ag ah ai aj ak al am an ao ap aq ar as\" rel=\"noopener follow\" href=\"/m/signin?actionUrl=https%3A%2F%2Fmedium.com%2F_%2Fbookmark%2Fp%2Fd78285b38715&amp;operation=register&amp;redirect=https%3A%2F%2Fmedium.com%2F%40doloresmaekivi%2Falternative-to-classical-ux-research-methods-d78285b38715&amp;source=---------0-84----------------bookmark_preview----e32e19b0_4754_46c6_93e0_6b8d4aff325a-------17\"><svg width=\"25\" height=\"25\" viewBox=\"0 0 25 25\" fill=\"none\" class=\"po pp\"><path d=\"M18 2.5a.5.5 0 0 1 1 0V5h2.5a.5.5 0 0 1 0 1H19v2.5a.5.5 0 1 1-1 0V6h-2.5a.5.5 0 0 1 0-1H18V2.5zM7 7a1 1 0 0 1 1-1h3.5a.5.5 0 0 0 0-1H8a2 2 0 0 0-2 2v14a.5.5 0 0 0 .8.4l5.7-4.4 5.7 4.4a.5.5 0 0 0 .8-.4v-8.5a.5.5 0 0 0-1 0v7.48l-5.2-4a.5.5 0 0 0-.6 0l-5.2 4V7z\" fill=\"#292929\"></path></svg></a></span></div></div></div></div></div></div><div class=\"mk ml mm mn mo l\"><a class=\"ae af ag ah ai aj ak al am an ao ap aq ar as\" aria-label=\"Post Preview Image\" rel=\"noopener follow\" href=\"/@doloresmaekivi/alternative-to-classical-ux-research-methods-d78285b38715?source=topics_v2---------0-84--------------------e32e19b0_4754_46c6_93e0_6b8d4aff325a-------17\"><div class=\"h k ld cv cz\"><img alt=\"Alternative to classical UX research methods\" class=\"\" src=\"https://miro.medium.com/fit/c/168/168/0*EJvMo1quq92WOcK1\" width=\"112\" height=\"112\" loading=\"lazy\"></div><div class=\"mp mq j i d\"><img alt=\"Alternative to classical UX research methods\" class=\"\" src=\"https://miro.medium.com/fit/c/120/84/0*EJvMo1quq92WOcK1\" width=\"80\" height=\"56\" loading=\"lazy\"></div></a></div></div><div class=\"l\"><div class=\"mr mp ms mq lj j lk i ll d\"><div class=\"ab hp\"><div class=\"lm ln lo lp lq lr ls lt lu lv lw lx ly lz ma ab q\"><div class=\"fo mb mc md me mf ab\"><a class=\"bf\" rel=\"noopener follow\" href=\"/tag/product-management?source=topics_v2----------84----------product_management----------e32e19b0_4754_46c6_93e0_6b8d4aff325a-------17\"><div class=\"mg dg hv jg jh ji bd b mh z bi gs ff fg\">Product Management</div></a></div><div class=\"ab ed\"><a class=\"ae af ag ah ai aj ak al am an ao ap aq ar as\" aria-label=\"Post Preview Reading Time\" rel=\"noopener follow\" href=\"/@doloresmaekivi/alternative-to-classical-ux-research-methods-d78285b38715?source=topics_v2---------0-84--------------------e32e19b0_4754_46c6_93e0_6b8d4aff325a-------17\"><p class=\"bd b mh z fr\"><span>6 min read</span></p></a></div></div><div class=\"ab q mi mj\"><div><div class=\"bk\" aria-hidden=\"false\" aria-describedby=\"6\" aria-labelledby=\"6\"><span><a class=\"ae af ag ah ai aj ak al am an ao ap aq ar as\" rel=\"noopener follow\" href=\"/m/signin?actionUrl=https%3A%2F%2Fmedium.com%2F_%2Fbookmark%2Fp%2Fd78285b38715&amp;operation=register&amp;redirect=https%3A%2F%2Fmedium.com%2F%40doloresmaekivi%2Falternative-to-classical-ux-research-methods-d78285b38715&amp;source=---------0-84----------------bookmark_preview----e32e19b0_4754_46c6_93e0_6b8d4aff325a-------17\"><svg width=\"25\" height=\"25\" viewBox=\"0 0 25 25\" fill=\"none\" class=\"po pp\"><path d=\"M18 2.5a.5.5 0 0 1 1 0V5h2.5a.5.5 0 0 1 0 1H19v2.5a.5.5 0 1 1-1 0V6h-2.5a.5.5 0 0 1 0-1H18V2.5zM7 7a1 1 0 0 1 1-1h3.5a.5.5 0 0 0 0-1H8a2 2 0 0 0-2 2v14a.5.5 0 0 0 .8.4l5.7-4.4 5.7 4.4a.5.5 0 0 0 .8-.4v-8.5a.5.5 0 0 0-1 0v7.48l-5.2-4a.5.5 0 0 0-.6 0l-5.2 4V7z\" fill=\"#292929\"></path></svg></a></span></div></div></div></div></div></div></div></div></div></div><div class=\"jz ka kb kc ff\"></div></div></div></div></div></div></div></div></article><article><div class=\"jn jo jp l\"><div class=\"ab di\"><div class=\"dj bf dk dl dm dn\"><hr class=\"mt mu mv am\" aria-hidden=\"true\"><div class=\"bf df\"><div class=\"mw l\"><div class=\"q ab\"><div><a rel=\"noopener follow\" href=\"/@scottbelsky?source=topics_v2---------1-84--------------------e32e19b0_4754_46c6_93e0_6b8d4aff325a-------17\"><div class=\"l dg\"><img alt=\"Scott Belsky\" class=\"l dc bw bp jr hv\" src=\"https://miro.medium.com/fit/c/36/36/0*5UCuQBDPhqlcOcoz.jpeg\" width=\"24\" height=\"24\" loading=\"lazy\"><div class=\"jq bw l bp jr js n\"></div></div></a></div><div class=\"jt bf ab ju\"><div class=\"ab\"><div style=\"flex: 1 1 0%;\"><span class=\"bd b be z bi\"><div class=\"ab q ju\"><a class=\"ae af ag ah ai aj ak al am an ao ap aq ar as\" rel=\"noopener follow\" href=\"/@scottbelsky?source=topics_v2---------1-84--------------------e32e19b0_4754_46c6_93e0_6b8d4aff325a-------17\"><p class=\"bd b be z ff jv fg fh fi fj dh fk bi\">Scott Belsky</p></a></div></span></div></div><div class=\"l ed\"><span class=\"bd b be z fr\"><div class=\"ab q\"><a class=\"\" rel=\"noopener follow\" href=\"/@scottbelsky/creating-in-the-era-of-creative-confidence-b4e251d725f?source=topics_v2---------1-84--------------------e32e19b0_4754_46c6_93e0_6b8d4aff325a-------17\"><p class=\"bd b be z fr\"><span class=\"jw\">·</span>2 days ago</p></a></div></span></div></div></div><div class=\"jx l\"><div class=\"l\"><div class=\"l dg\"><div class=\"jy\"><div class=\"l\"><div><div class=\"ab\"><div class=\"l cj kd\"><div class=\"l\"><a class=\"ae af ag ah ai aj ak al am an ao ap aq ar as\" aria-label=\"Post Preview Title\" rel=\"noopener follow\" href=\"/@scottbelsky/creating-in-the-era-of-creative-confidence-b4e251d725f?source=topics_v2---------1-84--------------------e32e19b0_4754_46c6_93e0_6b8d4aff325a-------17\"><div class=\"ke kf kg kh ki l\"><h2 class=\"bd ej kj kk kl km eo kn ko kp kq es kr ks kt ku ew kv kw kx ky fa kz la lb lc fe ff fg fh fj fk bi\">Creating in The Era of Creative Confidence</h2></div><div class=\"h k ld cv cz\"><p class=\"le b fq eh ff lf fg fh lg fj fk iz bi\">It’s remarkable to watch a five-year-old draw, void of any anxiety about what the world will think. We all start our lives creatively confident, happy to create and share our work with pride. And then, as we age, our comfort with creative expression declines. We’re discouraged by the learning curve…</p></div></a></div><div class=\"lh h li k lj ld lk cv ll cz\"><div class=\"ab hp\"><div class=\"lm ln lo lp lq lr ls lt lu lv lw lx ly lz ma ab q\"><div class=\"fo mb mc md me mf ab\"><a class=\"bf\" rel=\"noopener follow\" href=\"/tag/product-management?source=topics_v2----------84----------product_management----------e32e19b0_4754_46c6_93e0_6b8d4aff325a-------17\"><div class=\"mg dg hv jg jh ji bd b mh z bi gs ff fg\">Product Management</div></a></div><div class=\"ab ed\"><a class=\"ae af ag ah ai aj ak al am an ao ap aq ar as\" aria-label=\"Post Preview Reading Time\" rel=\"noopener follow\" href=\"/@scottbelsky/creating-in-the-era-of-creative-confidence-b4e251d725f?source=topics_v2---------1-84--------------------e32e19b0_4754_46c6_93e0_6b8d4aff325a-------17\"><p class=\"bd b mh z fr\"><span>10 min read</span></p></a></div></div><div class=\"ab q mi mj\"><div><div class=\"bk\" aria-hidden=\"false\" aria-describedby=\"7\" aria-labelledby=\"7\"><span><a class=\"ae af ag ah ai aj ak al am an ao ap aq ar as\" rel=\"noopener follow\" href=\"/m/signin?actionUrl=https%3A%2F%2Fmedium.com%2F_%2Fbookmark%2Fp%2Fb4e251d725f&amp;operation=register&amp;redirect=https%3A%2F%2Fscottbelsky.medium.com%2Fcreating-in-the-era-of-creative-confidence-b4e251d725f&amp;source=---------1-84----------------bookmark_preview----e32e19b0_4754_46c6_93e0_6b8d4aff325a-------17\"><svg width=\"25\" height=\"25\" viewBox=\"0 0 25 25\" fill=\"none\" class=\"po pp\"><path d=\"M18 2.5a.5.5 0 0 1 1 0V5h2.5a.5.5 0 0 1 0 1H19v2.5a.5.5 0 1 1-1 0V6h-2.5a.5.5 0 0 1 0-1H18V2.5zM7 7a1 1 0 0 1 1-1h3.5a.5.5 0 0 0 0-1H8a2 2 0 0 0-2 2v14a.5.5 0 0 0 .8.4l5.7-4.4 5.7 4.4a.5.5 0 0 0 .8-.4v-8.5a.5.5 0 0 0-1 0v7.48l-5.2-4a.5.5 0 0 0-.6 0l-5.2 4V7z\" fill=\"#292929\"></path></svg></a></span></div></div></div></div></div></div><div class=\"mk ml mm mn mo l\"><a class=\"ae af ag ah ai aj ak al am an ao ap aq ar as\" aria-label=\"Post Preview Image\" rel=\"noopener follow\" href=\"/@scottbelsky/creating-in-the-era-of-creative-confidence-b4e251d725f?source=topics_v2---------1-84--------------------e32e19b0_4754_46c6_93e0_6b8d4aff325a-------17\"><div class=\"h k ld cv cz\"><img alt=\"Creating in The Era of Creative Confidence\" class=\"\" src=\"https://miro.medium.com/fit/c/168/168/1*0qntmI2bOt_FLYfv4MRA-g.png\" width=\"112\" height=\"112\" loading=\"lazy\"></div><div class=\"mp mq j i d\"><img alt=\"Creating in The Era of Creative Confidence\" class=\"\" src=\"https://miro.medium.com/fit/c/120/84/1*0qntmI2bOt_FLYfv4MRA-g.png\" width=\"80\" height=\"56\" loading=\"lazy\"></div></a></div></div><div class=\"l\"><div class=\"mr mp ms mq lj j lk i ll d\"><div class=\"ab hp\"><div class=\"lm ln lo lp lq lr ls lt lu lv lw lx ly lz ma ab q\"><div class=\"fo mb mc md me mf ab\"><a class=\"bf\" rel=\"noopener follow\" href=\"/tag/product-management?source=topics_v2----------84----------product_management----------e32e19b0_4754_46c6_93e0_6b8d4aff325a-------17\"><div class=\"mg dg hv jg jh ji bd b mh z bi gs ff fg\">Product Management</div></a></div><div class=\"ab ed\"><a class=\"ae af ag ah ai aj ak al am an ao ap aq ar as\" aria-label=\"Post Preview Reading Time\" rel=\"noopener follow\" href=\"/@scottbelsky/creating-in-the-era-of-creative-confidence-b4e251d725f?source=topics_v2---------1-84--------------------e32e19b0_4754_46c6_93e0_6b8d4aff325a-------17\"><p class=\"bd b mh z fr\"><span>10 min read</span></p></a></div></div><div class=\"ab q mi mj\"><div><div class=\"bk\" aria-hidden=\"false\" aria-describedby=\"8\" aria-labelledby=\"8\"><span><a class=\"ae af ag ah ai aj ak al am an ao ap aq ar as\" rel=\"noopener follow\" href=\"/m/signin?actionUrl=https%3A%2F%2Fmedium.com%2F_%2Fbookmark%2Fp%2Fb4e251d725f&amp;operation=register&amp;redirect=https%3A%2F%2Fscottbelsky.medium.com%2Fcreating-in-the-era-of-creative-confidence-b4e251d725f&amp;source=---------1-84----------------bookmark_preview----e32e19b0_4754_46c6_93e0_6b8d4aff325a-------17\"><svg width=\"25\" height=\"25\" viewBox=\"0 0 25 25\" fill=\"none\" class=\"po pp\"><path d=\"M18 2.5a.5.5 0 0 1 1 0V5h2.5a.5.5 0 0 1 0 1H19v2.5a.5.5 0 1 1-1 0V6h-2.5a.5.5 0 0 1 0-1H18V2.5zM7 7a1 1 0 0 1 1-1h3.5a.5.5 0 0 0 0-1H8a2 2 0 0 0-2 2v14a.5.5 0 0 0 .8.4l5.7-4.4 5.7 4.4a.5.5 0 0 0 .8-.4v-8.5a.5.5 0 0 0-1 0v7.48l-5.2-4a.5.5 0 0 0-.6 0l-5.2 4V7z\" fill=\"#292929\"></path></svg></a></span></div></div></div></div></div></div></div></div></div></div><div class=\"jz ka kb kc ff\"></div></div></div></div></div></div></div></div></article><article><div class=\"jn jo jp l\"><div class=\"ab di\"><div class=\"dj bf dk dl dm dn\"><hr class=\"mt mu mv am\" aria-hidden=\"true\"><div class=\"bf df\"><div class=\"mw l\"><div class=\"q ab\"><div><a rel=\"noopener follow\" href=\"/@tina-mai?source=topics_v2---------2-84--------------------e32e19b0_4754_46c6_93e0_6b8d4aff325a-------17\"><div class=\"l dg\"><img alt=\"Tina Mai\" class=\"l dc bw bp jr hv\" src=\"https://miro.medium.com/fit/c/36/36/1*Vnob2cnuU7OHAdgsaU6Dbw.jpeg\" width=\"24\" height=\"24\" loading=\"lazy\"><div class=\"jq bw l bp jr js n\"></div></div></a></div><div class=\"jt bf ab ju\"><div class=\"ab\"><div style=\"flex: 1 1 0%;\"><span class=\"bd b be z bi\"><div class=\"ab q ju\"><a class=\"ae af ag ah ai aj ak al am an ao ap aq ar as\" rel=\"noopener follow\" href=\"/@tina-mai?source=topics_v2---------2-84--------------------e32e19b0_4754_46c6_93e0_6b8d4aff325a-------17\"><p class=\"bd b be z ff jv fg fh fi fj dh fk bi\">Tina Mai</p></a></div></span></div></div><div class=\"l ed\"><span class=\"bd b be z fr\"><div class=\"ab q\"><a class=\"\" rel=\"noopener follow\" href=\"/@tina-mai/machine-learning-for-product-designers-9d4002909964?source=topics_v2---------2-84--------------------e32e19b0_4754_46c6_93e0_6b8d4aff325a-------17\"><p class=\"bd b be z fr\"><span class=\"jw\">·</span>1 day ago</p></a></div></span></div></div></div><div class=\"jx l\"><div class=\"l\"><div class=\"l dg\"><div class=\"jy\"><div class=\"l\"><div><div class=\"ab\"><div class=\"l cj kd\"><div class=\"l\"><a class=\"ae af ag ah ai aj ak al am an ao ap aq ar as\" aria-label=\"Post Preview Title\" rel=\"noopener follow\" href=\"/@tina-mai/machine-learning-for-product-designers-9d4002909964?source=topics_v2---------2-84--------------------e32e19b0_4754_46c6_93e0_6b8d4aff325a-------17\"><div class=\"ke kf kg kh ki l\"><h2 class=\"bd ej kj kk kl km eo kn ko kp kq es kr ks kt ku ew kv kw kx ky fa kz la lb lc fe ff fg fh fj fk bi\">Deconstructing Machine Learning for Product Design</h2></div><div class=\"h k ld cv cz\"><p class=\"le b fq eh ff lf fg fh lg fj fk iz bi\">How data and design can collaborate in user-centric products —  The intersection of AI and design is a unique one: on one hand are the data matrices and Ex Machina robots being programmed at 3am, and on the other are the color theories and UI mockups being concocted in Figma. In the past, these two fields have been thought of…</p></div></a></div><div class=\"lh h li k lj ld lk cv ll cz\"><div class=\"ab hp\"><div class=\"lm ln lo lp lq lr ls lt lu lv lw lx ly lz ma ab q\"><div class=\"fo mb mc md me mf ab\"><a class=\"bf\" rel=\"noopener follow\" href=\"/tag/product-management?source=topics_v2----------84----------product_management----------e32e19b0_4754_46c6_93e0_6b8d4aff325a-------17\"><div class=\"mg dg hv jg jh ji bd b mh z bi gs ff fg\">Product Management</div></a></div><div class=\"ab ed\"><a class=\"ae af ag ah ai aj ak al am an ao ap aq ar as\" aria-label=\"Post Preview Reading Time\" rel=\"noopener follow\" href=\"/@tina-mai/machine-learning-for-product-designers-9d4002909964?source=topics_v2---------2-84--------------------e32e19b0_4754_46c6_93e0_6b8d4aff325a-------17\"><p class=\"bd b mh z fr\"><span>11 min read</span></p></a></div></div><div class=\"ab q mi mj\"><div><div class=\"bk\" aria-hidden=\"false\" aria-describedby=\"9\" aria-labelledby=\"9\"><span><a class=\"ae af ag ah ai aj ak al am an ao ap aq ar as\" rel=\"noopener follow\" href=\"/m/signin?actionUrl=https%3A%2F%2Fmedium.com%2F_%2Fbookmark%2Fp%2F9d4002909964&amp;operation=register&amp;redirect=https%3A%2F%2Ftina-mai.medium.com%2Fmachine-learning-for-product-designers-9d4002909964&amp;source=---------2-84----------------bookmark_preview----e32e19b0_4754_46c6_93e0_6b8d4aff325a-------17\"><svg width=\"25\" height=\"25\" viewBox=\"0 0 25 25\" fill=\"none\" class=\"po pp\"><path d=\"M18 2.5a.5.5 0 0 1 1 0V5h2.5a.5.5 0 0 1 0 1H19v2.5a.5.5 0 1 1-1 0V6h-2.5a.5.5 0 0 1 0-1H18V2.5zM7 7a1 1 0 0 1 1-1h3.5a.5.5 0 0 0 0-1H8a2 2 0 0 0-2 2v14a.5.5 0 0 0 .8.4l5.7-4.4 5.7 4.4a.5.5 0 0 0 .8-.4v-8.5a.5.5 0 0 0-1 0v7.48l-5.2-4a.5.5 0 0 0-.6 0l-5.2 4V7z\" fill=\"#292929\"></path></svg></a></span></div></div></div></div></div></div><div class=\"mk ml mm mn mo l\"><a class=\"ae af ag ah ai aj ak al am an ao ap aq ar as\" aria-label=\"Post Preview Image\" rel=\"noopener follow\" href=\"/@tina-mai/machine-learning-for-product-designers-9d4002909964?source=topics_v2---------2-84--------------------e32e19b0_4754_46c6_93e0_6b8d4aff325a-------17\"><div class=\"h k ld cv cz\"><img alt=\"Deconstructing Machine Learning for Product Design\" class=\"\" src=\"https://miro.medium.com/fit/c/168/168/1*QSGtt8Yb36Bu4DdsS4z5XQ.png\" width=\"112\" height=\"112\" loading=\"lazy\"></div><div class=\"mp mq j i d\"><img alt=\"Deconstructing Machine Learning for Product Design\" class=\"\" src=\"https://miro.medium.com/fit/c/120/84/1*QSGtt8Yb36Bu4DdsS4z5XQ.png\" width=\"80\" height=\"56\" loading=\"lazy\"></div></a></div></div><div class=\"l\"><div class=\"mr mp ms mq lj j lk i ll d\"><div class=\"ab hp\"><div class=\"lm ln lo lp lq lr ls lt lu lv lw lx ly lz ma ab q\"><div class=\"fo mb mc md me mf ab\"><a class=\"bf\" rel=\"noopener follow\" href=\"/tag/product-management?source=topics_v2----------84----------product_management----------e32e19b0_4754_46c6_93e0_6b8d4aff325a-------17\"><div class=\"mg dg hv jg jh ji bd b mh z bi gs ff fg\">Product Management</div></a></div><div class=\"ab ed\"><a class=\"ae af ag ah ai aj ak al am an ao ap aq ar as\" aria-label=\"Post Preview Reading Time\" rel=\"noopener follow\" href=\"/@tina-mai/machine-learning-for-product-designers-9d4002909964?source=topics_v2---------2-84--------------------e32e19b0_4754_46c6_93e0_6b8d4aff325a-------17\"><p class=\"bd b mh z fr\"><span>11 min read</span></p></a></div></div><div class=\"ab q mi mj\"><div><div class=\"bk\" aria-hidden=\"false\" aria-describedby=\"10\" aria-labelledby=\"10\"><span><a class=\"ae af ag ah ai aj ak al am an ao ap aq ar as\" rel=\"noopener follow\" href=\"/m/signin?actionUrl=https%3A%2F%2Fmedium.com%2F_%2Fbookmark%2Fp%2F9d4002909964&amp;operation=register&amp;redirect=https%3A%2F%2Ftina-mai.medium.com%2Fmachine-learning-for-product-designers-9d4002909964&amp;source=---------2-84----------------bookmark_preview----e32e19b0_4754_46c6_93e0_6b8d4aff325a-------17\"><svg width=\"25\" height=\"25\" viewBox=\"0 0 25 25\" fill=\"none\" class=\"po pp\"><path d=\"M18 2.5a.5.5 0 0 1 1 0V5h2.5a.5.5 0 0 1 0 1H19v2.5a.5.5 0 1 1-1 0V6h-2.5a.5.5 0 0 1 0-1H18V2.5zM7 7a1 1 0 0 1 1-1h3.5a.5.5 0 0 0 0-1H8a2 2 0 0 0-2 2v14a.5.5 0 0 0 .8.4l5.7-4.4 5.7 4.4a.5.5 0 0 0 .8-.4v-8.5a.5.5 0 0 0-1 0v7.48l-5.2-4a.5.5 0 0 0-.6 0l-5.2 4V7z\" fill=\"#292929\"></path></svg></a></span></div></div></div></div></div></div></div></div></div></div><div class=\"jz ka kb kc ff\"></div></div></div></div></div></div></div></div></article><article><div class=\"jn jo jp l\"><div class=\"ab di\"><div class=\"dj bf dk dl dm dn\"><hr class=\"mt mu mv am\" aria-hidden=\"true\"><div class=\"bf df\"><div class=\"mw l\"><div class=\"q ab\"><div><a rel=\"noopener follow\" href=\"/@maayan9795?source=topics_v2---------3-84--------------------e32e19b0_4754_46c6_93e0_6b8d4aff325a-------17\"><div class=\"l dg\"><img alt=\"Maayan Sela\" class=\"l dc bw bp jr hv\" src=\"https://miro.medium.com/fit/c/36/36/1*iPptvwkKULRnCoxslFDOtw.png\" width=\"24\" height=\"24\" loading=\"lazy\"><div class=\"jq bw l bp jr js n\"></div></div></a></div><div class=\"jt bf ab ju\"><div class=\"ab\"><div style=\"flex: 1 1 0%;\"><span class=\"bd b be z bi\"><div class=\"ab q ju\"><a class=\"ae af ag ah ai aj ak al am an ao ap aq ar as\" rel=\"noopener follow\" href=\"/@maayan9795?source=topics_v2---------3-84--------------------e32e19b0_4754_46c6_93e0_6b8d4aff325a-------17\"><p class=\"bd b be z ff jv fg fh fi fj dh fk bi\">Maayan Sela</p></a></div></span></div></div><div class=\"l ed\"><span class=\"bd b be z fr\"><div class=\"ab q\"><a class=\"\" rel=\"noopener follow\" href=\"/@maayan9795/my-first-90-days-as-a-product-manager-at-tanium-f733d2a55e80?source=topics_v2---------3-84--------------------e32e19b0_4754_46c6_93e0_6b8d4aff325a-------17\"><p class=\"bd b be z fr\"><span class=\"jw\">·</span>1 day ago</p></a></div></span></div></div></div><div class=\"jx l\"><div class=\"l\"><div class=\"l dg\"><div class=\"jy\"><div class=\"l\"><div><div class=\"ab\"><div class=\"l cj kd\"><div class=\"l\"><a class=\"ae af ag ah ai aj ak al am an ao ap aq ar as\" aria-label=\"Post Preview Title\" rel=\"noopener follow\" href=\"/@maayan9795/my-first-90-days-as-a-product-manager-at-tanium-f733d2a55e80?source=topics_v2---------3-84--------------------e32e19b0_4754_46c6_93e0_6b8d4aff325a-------17\"><div class=\"ke kf kg kh ki l\"><h2 class=\"bd ej kj kk kl km eo kn ko kp kq es kr ks kt ku ew kv kw kx ky fa kz la lb lc fe ff fg fh fj fk bi\">My First 90 Days as a Product Manager at Tanium</h2></div><div class=\"h k ld cv cz\"><p class=\"le b fq eh ff lf fg fh lg fj fk iz bi\">My First 90 Days as a Product Manager at Tanium This week marks 90 days since I joined the product management team at Tanium full-time, and it has been a challenging and rewarding experience. Here are some of the key things I’ve learned: Get comfortable with feeling like you are “drinking from the firehose”. Learning a lot of new information…</p></div></a></div><div class=\"lh h li k lj ld lk cv ll cz\"><div class=\"ab hp\"><div class=\"lm ln lo lp lq lr ls lt lu lv lw lx ly lz ma ab q\"><div class=\"fo mb mc md me mf ab\"><a class=\"bf\" rel=\"noopener follow\" href=\"/tag/product-management?source=topics_v2----------84----------product_management----------e32e19b0_4754_46c6_93e0_6b8d4aff325a-------17\"><div class=\"mg dg hv jg jh ji bd b mh z bi gs ff fg\">Product Management</div></a></div><div class=\"ab ed\"><a class=\"ae af ag ah ai aj ak al am an ao ap aq ar as\" aria-label=\"Post Preview Reading Time\" rel=\"noopener follow\" href=\"/@maayan9795/my-first-90-days-as-a-product-manager-at-tanium-f733d2a55e80?source=topics_v2---------3-84--------------------e32e19b0_4754_46c6_93e0_6b8d4aff325a-------17\"><p class=\"bd b mh z fr\"><span>3 min read</span></p></a></div></div><div class=\"ab q mi mj\"><div><div class=\"bk\" aria-hidden=\"false\" aria-describedby=\"11\" aria-labelledby=\"11\"><span><a class=\"ae af ag ah ai aj ak al am an ao ap aq ar as\" rel=\"noopener follow\" href=\"/m/signin?actionUrl=https%3A%2F%2Fmedium.com%2F_%2Fbookmark%2Fp%2Ff733d2a55e80&amp;operation=register&amp;redirect=https%3A%2F%2Fmedium.com%2F%40maayan9795%2Fmy-first-90-days-as-a-product-manager-at-tanium-f733d2a55e80&amp;source=---------3-84----------------bookmark_preview----e32e19b0_4754_46c6_93e0_6b8d4aff325a-------17\"><svg width=\"25\" height=\"25\" viewBox=\"0 0 25 25\" fill=\"none\" class=\"po pp\"><path d=\"M18 2.5a.5.5 0 0 1 1 0V5h2.5a.5.5 0 0 1 0 1H19v2.5a.5.5 0 1 1-1 0V6h-2.5a.5.5 0 0 1 0-1H18V2.5zM7 7a1 1 0 0 1 1-1h3.5a.5.5 0 0 0 0-1H8a2 2 0 0 0-2 2v14a.5.5 0 0 0 .8.4l5.7-4.4 5.7 4.4a.5.5 0 0 0 .8-.4v-8.5a.5.5 0 0 0-1 0v7.48l-5.2-4a.5.5 0 0 0-.6 0l-5.2 4V7z\" fill=\"#292929\"></path></svg></a></span></div></div></div></div></div></div><div class=\"mk ml mm mn mo l\"><a class=\"ae af ag ah ai aj ak al am an ao ap aq ar as\" aria-label=\"Post Preview Image\" rel=\"noopener follow\" href=\"/@maayan9795/my-first-90-days-as-a-product-manager-at-tanium-f733d2a55e80?source=topics_v2---------3-84--------------------e32e19b0_4754_46c6_93e0_6b8d4aff325a-------17\"><div class=\"h k ld cv cz\"><img alt=\"My First 90 Days as a Product Manager at Tanium\" class=\"\" src=\"https://miro.medium.com/fit/c/168/168/1*Mcd4npL1BXVXGncYcciLJQ.jpeg\" width=\"112\" height=\"112\" loading=\"lazy\"></div><div class=\"mp mq j i d\"><img alt=\"My First 90 Days as a Product Manager at Tanium\" class=\"\" src=\"https://miro.medium.com/fit/c/120/84/1*Mcd4npL1BXVXGncYcciLJQ.jpeg\" width=\"80\" height=\"56\" loading=\"lazy\"></div></a></div></div><div class=\"l\"><div class=\"mr mp ms mq lj j lk i ll d\"><div class=\"ab hp\"><div class=\"lm ln lo lp lq lr ls lt lu lv lw lx ly lz ma ab q\"><div class=\"fo mb mc md me mf ab\"><a class=\"bf\" rel=\"noopener follow\" href=\"/tag/product-management?source=topics_v2----------84----------product_management----------e32e19b0_4754_46c6_93e0_6b8d4aff325a-------17\"><div class=\"mg dg hv jg jh ji bd b mh z bi gs ff fg\">Product Management</div></a></div><div class=\"ab ed\"><a class=\"ae af ag ah ai aj ak al am an ao ap aq ar as\" aria-label=\"Post Preview Reading Time\" rel=\"noopener follow\" href=\"/@maayan9795/my-first-90-days-as-a-product-manager-at-tanium-f733d2a55e80?source=topics_v2---------3-84--------------------e32e19b0_4754_46c6_93e0_6b8d4aff325a-------17\"><p class=\"bd b mh z fr\"><span>3 min read</span></p></a></div></div><div class=\"ab q mi mj\"><div><div class=\"bk\" aria-hidden=\"false\" aria-describedby=\"12\" aria-labelledby=\"12\"><span><a class=\"ae af ag ah ai aj ak al am an ao ap aq ar as\" rel=\"noopener follow\" href=\"/m/signin?actionUrl=https%3A%2F%2Fmedium.com%2F_%2Fbookmark%2Fp%2Ff733d2a55e80&amp;operation=register&amp;redirect=https%3A%2F%2Fmedium.com%2F%40maayan9795%2Fmy-first-90-days-as-a-product-manager-at-tanium-f733d2a55e80&amp;source=---------3-84----------------bookmark_preview----e32e19b0_4754_46c6_93e0_6b8d4aff325a-------17\"><svg width=\"25\" height=\"25\" viewBox=\"0 0 25 25\" fill=\"none\" class=\"po pp\"><path d=\"M18 2.5a.5.5 0 0 1 1 0V5h2.5a.5.5 0 0 1 0 1H19v2.5a.5.5 0 1 1-1 0V6h-2.5a.5.5 0 0 1 0-1H18V2.5zM7 7a1 1 0 0 1 1-1h3.5a.5.5 0 0 0 0-1H8a2 2 0 0 0-2 2v14a.5.5 0 0 0 .8.4l5.7-4.4 5.7 4.4a.5.5 0 0 0 .8-.4v-8.5a.5.5 0 0 0-1 0v7.48l-5.2-4a.5.5 0 0 0-.6 0l-5.2 4V7z\" fill=\"#292929\"></path></svg></a></span></div></div></div></div></div></div></div></div></div></div><div class=\"jz ka kb kc ff\"></div></div></div></div></div></div></div></div></article><article><div class=\"jn jo jp l\"><div class=\"ab di\"><div class=\"dj bf dk dl dm dn\"><hr class=\"mt mu mv am\" aria-hidden=\"true\"><div class=\"bf df\"><div class=\"mw l\"><div class=\"q ab\"><div><a rel=\"noopener follow\" href=\"/@martydj?source=topics_v2---------4-84--------------------e32e19b0_4754_46c6_93e0_6b8d4aff325a-------17\"><div class=\"l dg\"><img alt=\"Marty de Jonge\" class=\"l dc bw bp jr hv\" src=\"https://miro.medium.com/fit/c/36/36/1*2k2XyAI2F0rrvQU3yOhNvQ.jpeg\" width=\"24\" height=\"24\" loading=\"lazy\"><div class=\"jq bw l bp jr js n\"></div></div></a></div><div class=\"jt bf ab ju\"><div class=\"ab\"><div style=\"flex: 1 1 0%;\"><span class=\"bd b be z bi\"><div class=\"ab q ju\"><a class=\"ae af ag ah ai aj ak al am an ao ap aq ar as\" rel=\"noopener follow\" href=\"/@martydj?source=topics_v2---------4-84--------------------e32e19b0_4754_46c6_93e0_6b8d4aff325a-------17\"><p class=\"bd b be z ff jv fg fh fi fj dh fk bi\">Marty de Jonge</p></a><div class=\"ab\"><div class=\"mx l\"><p class=\"bd b be z fr\">in</p></div><a class=\"ae af ag ah ai aj ak al am an ao ap aq ar as bk\" href=\"https://medium.com/serious-scrum?source=topics_v2---------4-84--------------------e32e19b0_4754_46c6_93e0_6b8d4aff325a-------17\" rel=\"noopener follow\"><p class=\"bd b be z ff jv fg fh fi fj dh fk bi\">Serious Scrum</p></a></div></div></span></div></div><div class=\"l ed\"><span class=\"bd b be z fr\"><div class=\"ab q\"><a class=\"\" rel=\"noopener follow\" href=\"/serious-scrum/the-dangerous-animals-of-product-management-2b318f592250?source=topics_v2---------4-84--------------------e32e19b0_4754_46c6_93e0_6b8d4aff325a-------17\"><p class=\"bd b be z fr\"><span class=\"jw\">·</span>2 days ago</p></a></div></span></div></div></div><div class=\"jx l\"><div class=\"l\"><div class=\"l dg\"><div class=\"jy\"><div class=\"l\"><div><div class=\"ab\"><div class=\"l cj kd\"><div class=\"l\"><a class=\"ae af ag ah ai aj ak al am an ao ap aq ar as\" aria-label=\"Post Preview Title\" rel=\"noopener follow\" href=\"/serious-scrum/the-dangerous-animals-of-product-management-2b318f592250?source=topics_v2---------4-84--------------------e32e19b0_4754_46c6_93e0_6b8d4aff325a-------17\"><div class=\"ke kf kg kh ki l\"><h2 class=\"bd ej kj kk kl km eo kn ko kp kq es kr ks kt ku ew kv kw kx ky fa kz la lb lc fe ff fg fh fj fk bi\">The Dangerous Animals of Product Management</h2></div><div class=\"h k ld cv cz\"><p class=\"le b fq eh ff lf fg fh lg fj fk iz bi\">And ways to hunt them down —  Attention! Dangerous Product Management Animals Can Easily Derail Teams Being a Product Owner in any organization is an adventure in itself; a role that is often misunderstood. Sometimes you are expected to organize Agile product development towards management’s expectations. On other occasions, the job title is only a ‘relabeled’ Business Analyst that is expected to fulfill the roles of…</p></div></a></div><div class=\"lh h li k lj ld lk cv ll cz\"><div class=\"ab hp\"><div class=\"lm ln lo lp lq lr ls lt lu lv lw lx ly lz ma ab q\"><div class=\"fo mb mc md me mf ab\"><a class=\"bf\" rel=\"noopener follow\" href=\"/tag/product-management?source=topics_v2----------84----------product_management----------e32e19b0_4754_46c6_93e0_6b8d4aff325a-------17\"><div class=\"mg dg hv jg jh ji bd b mh z bi gs ff fg\">Product Management</div></a></div><div class=\"ab ed\"><a class=\"ae af ag ah ai aj ak al am an ao ap aq ar as\" aria-label=\"Post Preview Reading Time\" rel=\"noopener follow\" href=\"/serious-scrum/the-dangerous-animals-of-product-management-2b318f592250?source=topics_v2---------4-84--------------------e32e19b0_4754_46c6_93e0_6b8d4aff325a-------17\"><p class=\"bd b mh z fr\"><span>9 min read</span></p></a></div></div><div class=\"ab q mi mj\"><div><div class=\"bk\" aria-hidden=\"false\" aria-describedby=\"13\" aria-labelledby=\"13\"><span><a class=\"ae af ag ah ai aj ak al am an ao ap aq ar as\" rel=\"noopener follow\" href=\"/m/signin?actionUrl=https%3A%2F%2Fmedium.com%2F_%2Fbookmark%2Fp%2F2b318f592250&amp;operation=register&amp;redirect=https%3A%2F%2Fmedium.com%2Fserious-scrum%2Fthe-dangerous-animals-of-product-management-2b318f592250&amp;source=---------4-84----------------bookmark_preview----e32e19b0_4754_46c6_93e0_6b8d4aff325a-------17\"><svg width=\"25\" height=\"25\" viewBox=\"0 0 25 25\" fill=\"none\" class=\"po pp\"><path d=\"M18 2.5a.5.5 0 0 1 1 0V5h2.5a.5.5 0 0 1 0 1H19v2.5a.5.5 0 1 1-1 0V6h-2.5a.5.5 0 0 1 0-1H18V2.5zM7 7a1 1 0 0 1 1-1h3.5a.5.5 0 0 0 0-1H8a2 2 0 0 0-2 2v14a.5.5 0 0 0 .8.4l5.7-4.4 5.7 4.4a.5.5 0 0 0 .8-.4v-8.5a.5.5 0 0 0-1 0v7.48l-5.2-4a.5.5 0 0 0-.6 0l-5.2 4V7z\" fill=\"#292929\"></path></svg></a></span></div></div></div></div></div></div><div class=\"mk ml mm mn mo l\"><a class=\"ae af ag ah ai aj ak al am an ao ap aq ar as\" aria-label=\"Post Preview Image\" rel=\"noopener follow\" href=\"/serious-scrum/the-dangerous-animals-of-product-management-2b318f592250?source=topics_v2---------4-84--------------------e32e19b0_4754_46c6_93e0_6b8d4aff325a-------17\"><div class=\"h k ld cv cz\"><img alt=\"The Dangerous Animals of Product Management\" class=\"\" src=\"https://miro.medium.com/fit/c/168/168/1*TIY5eiK4QE7w-y3ABdB3GA.png\" width=\"112\" height=\"112\" loading=\"lazy\"></div><div class=\"mp mq j i d\"><img alt=\"The Dangerous Animals of Product Management\" class=\"\" src=\"https://miro.medium.com/fit/c/120/84/1*TIY5eiK4QE7w-y3ABdB3GA.png\" width=\"80\" height=\"56\" loading=\"lazy\"></div></a></div></div><div class=\"l\"><div class=\"mr mp ms mq lj j lk i ll d\"><div class=\"ab hp\"><div class=\"lm ln lo lp lq lr ls lt lu lv lw lx ly lz ma ab q\"><div class=\"fo mb mc md me mf ab\"><a class=\"bf\" rel=\"noopener follow\" href=\"/tag/product-management?source=topics_v2----------84----------product_management----------e32e19b0_4754_46c6_93e0_6b8d4aff325a-------17\"><div class=\"mg dg hv jg jh ji bd b mh z bi gs ff fg\">Product Management</div></a></div><div class=\"ab ed\"><a class=\"ae af ag ah ai aj ak al am an ao ap aq ar as\" aria-label=\"Post Preview Reading Time\" rel=\"noopener follow\" href=\"/serious-scrum/the-dangerous-animals-of-product-management-2b318f592250?source=topics_v2---------4-84--------------------e32e19b0_4754_46c6_93e0_6b8d4aff325a-------17\"><p class=\"bd b mh z fr\"><span>9 min read</span></p></a></div></div><div class=\"ab q mi mj\"><div><div class=\"bk\" aria-hidden=\"false\" aria-describedby=\"14\" aria-labelledby=\"14\"><span><a class=\"ae af ag ah ai aj ak al am an ao ap aq ar as\" rel=\"noopener follow\" href=\"/m/signin?actionUrl=https%3A%2F%2Fmedium.com%2F_%2Fbookmark%2Fp%2F2b318f592250&amp;operation=register&amp;redirect=https%3A%2F%2Fmedium.com%2Fserious-scrum%2Fthe-dangerous-animals-of-product-management-2b318f592250&amp;source=---------4-84----------------bookmark_preview----e32e19b0_4754_46c6_93e0_6b8d4aff325a-------17\"><svg width=\"25\" height=\"25\" viewBox=\"0 0 25 25\" fill=\"none\" class=\"po pp\"><path d=\"M18 2.5a.5.5 0 0 1 1 0V5h2.5a.5.5 0 0 1 0 1H19v2.5a.5.5 0 1 1-1 0V6h-2.5a.5.5 0 0 1 0-1H18V2.5zM7 7a1 1 0 0 1 1-1h3.5a.5.5 0 0 0 0-1H8a2 2 0 0 0-2 2v14a.5.5 0 0 0 .8.4l5.7-4.4 5.7 4.4a.5.5 0 0 0 .8-.4v-8.5a.5.5 0 0 0-1 0v7.48l-5.2-4a.5.5 0 0 0-.6 0l-5.2 4V7z\" fill=\"#292929\"></path></svg></a></span></div></div></div></div></div></div></div></div></div></div><div class=\"jz ka kb kc ff\"></div></div></div></div></div></div></div></div></article><div class=\"mp mq j i d\"><div class=\"ab di\"><div class=\"dj bf dk dl dm dn\"><div class=\"gq l\"></div></div></div><div class=\"my l\"><div class=\"mz na l\"><p class=\"bd b mh nb nc fr nd\">Related Topics</p></div><div class=\"nj bf ff l dg\"><div class=\"bf l js n\"><div class=\"ne nf oh oi ni\"><div class=\"na ab ho\"><div class=\"hs l\"><a class=\"hs aw al hj\" rel=\"noopener follow\" href=\"/tag/startup?source=topic_page--------------------startup-----------------\"><div class=\"jf dg hv jg jh ji bd b be z bi gs\">Startup</div></a></div><div class=\"hs l\"><a class=\"hs aw al hj\" rel=\"noopener follow\" href=\"/tag/product?source=topic_page--------------------product-----------------\"><div class=\"jf dg hv jg jh ji bd b be z bi gs\">Product</div></a></div><div class=\"hs l\"><a class=\"hs aw al hj\" rel=\"noopener follow\" href=\"/tag/product-design?source=topic_page--------------------product_design-----------------\"><div class=\"jf dg hv jg jh ji bd b be z bi gs\">Product Design</div></a></div><div class=\"hs l\"><a class=\"hs aw al hj\" rel=\"noopener follow\" href=\"/tag/agile?source=topic_page--------------------agile-----------------\"><div class=\"jf dg hv jg jh ji bd b be z bi gs\">Agile</div></a></div><div class=\"hs l\"><a class=\"hs aw al hj\" rel=\"noopener follow\" href=\"/tag/product-development?source=topic_page--------------------product_development-----------------\"><div class=\"jf dg hv jg jh ji bd b be z bi gs\">Product Development</div></a></div><div class=\"hs l\"><a class=\"hs aw al hj\" rel=\"noopener follow\" href=\"/tag/ux?source=topic_page--------------------ux-----------------\"><div class=\"jf dg hv jg jh ji bd b be z bi gs\">UX</div></a></div><div class=\"hs l\"><a class=\"hs aw al hj\" rel=\"noopener follow\" href=\"/tag/software-development?source=topic_page--------------------software_development-----------------\"><div class=\"jf dg hv jg jh ji bd b be z bi gs\">Software Development</div></a></div><div class=\"hs l\"><a class=\"hs aw al hj\" rel=\"noopener follow\" href=\"/tag/product-manager?source=topic_page--------------------product_manager-----------------\"><div class=\"jf dg hv jg jh ji bd b be z bi gs\">Product Manager</div></a></div><div class=\"hs l\"><a class=\"hs aw al hj\" rel=\"noopener follow\" href=\"/tag/design?source=topic_page--------------------design-----------------\"><div class=\"jf dg hv jg jh ji bd b be z bi gs\">Design</div></a></div></div></div></div></div></div></div><article><div class=\"jn jo jp l\"><div class=\"ab di\"><div class=\"dj bf dk dl dm dn\"><hr class=\"mt mu mv am\" aria-hidden=\"true\"><div class=\"bf df\"><div class=\"mw l\"><div class=\"q ab\"><div><a rel=\"noopener follow\" href=\"/@matthewcroker?source=topics_v2---------5-84--------------------e32e19b0_4754_46c6_93e0_6b8d4aff325a-------17\"><div class=\"l dg\"><img alt=\"Matthew Croker\" class=\"l dc bw bp jr hv\" src=\"https://miro.medium.com/fit/c/36/36/2*Cgazy2gGEvsaCAvNq_BxOQ.png\" width=\"24\" height=\"24\" loading=\"lazy\"><div class=\"jq bw l bp jr js n\"></div></div></a></div><div class=\"jt bf ab ju\"><div class=\"ab\"><div style=\"flex: 1 1 0%;\"><span class=\"bd b be z bi\"><div class=\"ab q ju\"><a class=\"ae af ag ah ai aj ak al am an ao ap aq ar as\" rel=\"noopener follow\" href=\"/@matthewcroker?source=topics_v2---------5-84--------------------e32e19b0_4754_46c6_93e0_6b8d4aff325a-------17\"><p class=\"bd b be z ff jv fg fh fi fj dh fk bi\">Matthew Croker</p></a><div class=\"ab\"><div class=\"mx l\"><p class=\"bd b be z fr\">in</p></div><a class=\"ae af ag ah ai aj ak al am an ao ap aq ar as bk\" href=\"https://medium.com/serious-scrum?source=topics_v2---------5-84--------------------e32e19b0_4754_46c6_93e0_6b8d4aff325a-------17\" rel=\"noopener follow\"><p class=\"bd b be z ff jv fg fh fi fj dh fk bi\">Serious Scrum</p></a></div></div></span></div></div><div class=\"l ed\"><span class=\"bd b be z fr\"><div class=\"ab q\"><a class=\"\" rel=\"noopener follow\" href=\"/serious-scrum/story-ristretto-a-simple-and-playful-way-that-helps-you-write-good-user-stories-70b0b67b9ebb?source=topics_v2---------5-84--------------------e32e19b0_4754_46c6_93e0_6b8d4aff325a-------17\"><p class=\"bd b be z fr\"><span class=\"jw\">·</span>1 day ago</p></a></div></span></div></div></div><div class=\"jx l\"><div class=\"l\"><div class=\"l dg\"><div class=\"jy\"><div class=\"l\"><div><div class=\"ab\"><div class=\"l cj kd\"><div class=\"l\"><a class=\"ae af ag ah ai aj ak al am an ao ap aq ar as\" aria-label=\"Post Preview Title\" rel=\"noopener follow\" href=\"/serious-scrum/story-ristretto-a-simple-and-playful-way-that-helps-you-write-good-user-stories-70b0b67b9ebb?source=topics_v2---------5-84--------------------e32e19b0_4754_46c6_93e0_6b8d4aff325a-------17\"><div class=\"ke kf kg kh ki l\"><h2 class=\"bd ej kj kk kl km eo kn ko kp kq es kr ks kt ku ew kv kw kx ky fa kz la lb lc fe ff fg fh fj fk bi\">Story Ristretto — A simple and playful way that helps you write good user stories.</h2></div><div class=\"h k ld cv cz\"><p class=\"le b fq eh ff nk fg fh nl fj fk iz bi\">Good user stories have more than a good, standardized structure. They are concise, clear, rooted in user value, and before you know it I’m describing the INVEST principle. With so much to keep in mind while writing user stories, people might feel overwhelmed, at best, perhaps even anxious to miss…</p></div></a></div><div class=\"lh h li k lj ld lk cv ll cz\"><div class=\"ab hp\"><div class=\"lm ln lo lp lq lr ls lt lu lv lw lx ly lz ma ab q\"><div class=\"fo mb mc md me mf ab\"><a class=\"bf\" rel=\"noopener follow\" href=\"/tag/product-management?source=topics_v2----------84----------product_management----------e32e19b0_4754_46c6_93e0_6b8d4aff325a-------17\"><div class=\"mg dg hv jg jh ji bd b mh z bi gs ff fg\">Product Management</div></a></div><div class=\"ab ed\"><a class=\"ae af ag ah ai aj ak al am an ao ap aq ar as\" aria-label=\"Post Preview Reading Time\" rel=\"noopener follow\" href=\"/serious-scrum/story-ristretto-a-simple-and-playful-way-that-helps-you-write-good-user-stories-70b0b67b9ebb?source=topics_v2---------5-84--------------------e32e19b0_4754_46c6_93e0_6b8d4aff325a-------17\"><p class=\"bd b mh z fr\"><span>6 min read</span></p></a></div></div><div class=\"ab q mi mj\"><div><div class=\"bk\" aria-hidden=\"false\" aria-describedby=\"15\" aria-labelledby=\"15\"><span><a class=\"ae af ag ah ai aj ak al am an ao ap aq ar as\" rel=\"noopener follow\" href=\"/m/signin?actionUrl=https%3A%2F%2Fmedium.com%2F_%2Fbookmark%2Fp%2F70b0b67b9ebb&amp;operation=register&amp;redirect=https%3A%2F%2Fmedium.com%2Fserious-scrum%2Fstory-ristretto-a-simple-and-playful-way-that-helps-you-write-good-user-stories-70b0b67b9ebb&amp;source=---------5-84----------------bookmark_preview----e32e19b0_4754_46c6_93e0_6b8d4aff325a-------17\"><svg width=\"25\" height=\"25\" viewBox=\"0 0 25 25\" fill=\"none\" class=\"po pp\"><path d=\"M18 2.5a.5.5 0 0 1 1 0V5h2.5a.5.5 0 0 1 0 1H19v2.5a.5.5 0 1 1-1 0V6h-2.5a.5.5 0 0 1 0-1H18V2.5zM7 7a1 1 0 0 1 1-1h3.5a.5.5 0 0 0 0-1H8a2 2 0 0 0-2 2v14a.5.5 0 0 0 .8.4l5.7-4.4 5.7 4.4a.5.5 0 0 0 .8-.4v-8.5a.5.5 0 0 0-1 0v7.48l-5.2-4a.5.5 0 0 0-.6 0l-5.2 4V7z\" fill=\"#292929\"></path></svg></a></span></div></div></div></div></div></div><div class=\"mk ml mm mn mo l\"><a class=\"ae af ag ah ai aj ak al am an ao ap aq ar as\" aria-label=\"Post Preview Image\" rel=\"noopener follow\" href=\"/serious-scrum/story-ristretto-a-simple-and-playful-way-that-helps-you-write-good-user-stories-70b0b67b9ebb?source=topics_v2---------5-84--------------------e32e19b0_4754_46c6_93e0_6b8d4aff325a-------17\"><div class=\"h k ld cv cz\"><img alt=\"Story Ristretto — A simple and playful way that helps you write good user stories.\" class=\"\" src=\"https://miro.medium.com/fit/c/168/168/1*GQlTas4lJ9rWOPwTXg-fRA.png\" width=\"112\" height=\"112\" loading=\"lazy\"></div><div class=\"mp mq j i d\"><img alt=\"Story Ristretto — A simple and playful way that helps you write good user stories.\" class=\"\" src=\"https://miro.medium.com/fit/c/120/84/1*GQlTas4lJ9rWOPwTXg-fRA.png\" width=\"80\" height=\"56\" loading=\"lazy\"></div></a></div></div><div class=\"l\"><div class=\"mr mp ms mq lj j lk i ll d\"><div class=\"ab hp\"><div class=\"lm ln lo lp lq lr ls lt lu lv lw lx ly lz ma ab q\"><div class=\"fo mb mc md me mf ab\"><a class=\"bf\" rel=\"noopener follow\" href=\"/tag/product-management?source=topics_v2----------84----------product_management----------e32e19b0_4754_46c6_93e0_6b8d4aff325a-------17\"><div class=\"mg dg hv jg jh ji bd b mh z bi gs ff fg\">Product Management</div></a></div><div class=\"ab ed\"><a class=\"ae af ag ah ai aj ak al am an ao ap aq ar as\" aria-label=\"Post Preview Reading Time\" rel=\"noopener follow\" href=\"/serious-scrum/story-ristretto-a-simple-and-playful-way-that-helps-you-write-good-user-stories-70b0b67b9ebb?source=topics_v2---------5-84--------------------e32e19b0_4754_46c6_93e0_6b8d4aff325a-------17\"><p class=\"bd b mh z fr\"><span>6 min read</span></p></a></div></div><div class=\"ab q mi mj\"><div><div class=\"bk\" aria-hidden=\"false\" aria-describedby=\"16\" aria-labelledby=\"16\"><span><a class=\"ae af ag ah ai aj ak al am an ao ap aq ar as\" rel=\"noopener follow\" href=\"/m/signin?actionUrl=https%3A%2F%2Fmedium.com%2F_%2Fbookmark%2Fp%2F70b0b67b9ebb&amp;operation=register&amp;redirect=https%3A%2F%2Fmedium.com%2Fserious-scrum%2Fstory-ristretto-a-simple-and-playful-way-that-helps-you-write-good-user-stories-70b0b67b9ebb&amp;source=---------5-84----------------bookmark_preview----e32e19b0_4754_46c6_93e0_6b8d4aff325a-------17\"><svg width=\"25\" height=\"25\" viewBox=\"0 0 25 25\" fill=\"none\" class=\"po pp\"><path d=\"M18 2.5a.5.5 0 0 1 1 0V5h2.5a.5.5 0 0 1 0 1H19v2.5a.5.5 0 1 1-1 0V6h-2.5a.5.5 0 0 1 0-1H18V2.5zM7 7a1 1 0 0 1 1-1h3.5a.5.5 0 0 0 0-1H8a2 2 0 0 0-2 2v14a.5.5 0 0 0 .8.4l5.7-4.4 5.7 4.4a.5.5 0 0 0 .8-.4v-8.5a.5.5 0 0 0-1 0v7.48l-5.2-4a.5.5 0 0 0-.6 0l-5.2 4V7z\" fill=\"#292929\"></path></svg></a></span></div></div></div></div></div></div></div></div></div></div><div class=\"jz ka kb kc ff\"></div></div></div></div></div></div></div></div></article><article><div class=\"jn jo jp l\"><div class=\"ab di\"><div class=\"dj bf dk dl dm dn\"><hr class=\"mt mu mv am\" aria-hidden=\"true\"><div class=\"bf df\"><div class=\"mw l\"><div class=\"q ab\"><div><a rel=\"noopener follow\" href=\"/@navneetmaheshwari99?source=topics_v2---------6-84--------------------e32e19b0_4754_46c6_93e0_6b8d4aff325a-------17\"><div class=\"l dg\"><img alt=\"Navneet Maheshwari\" class=\"l dc bw bp jr hv\" src=\"https://miro.medium.com/fit/c/36/36/1*t0RPrAUVlLmz5rfrGB5APw.jpeg\" width=\"24\" height=\"24\" loading=\"lazy\"><div class=\"jq bw l bp jr js n\"></div></div></a></div><div class=\"jt bf ab ju\"><div class=\"ab\"><div style=\"flex: 1 1 0%;\"><span class=\"bd b be z bi\"><div class=\"ab q ju\"><a class=\"ae af ag ah ai aj ak al am an ao ap aq ar as\" rel=\"noopener follow\" href=\"/@navneetmaheshwari99?source=topics_v2---------6-84--------------------e32e19b0_4754_46c6_93e0_6b8d4aff325a-------17\"><p class=\"bd b be z ff jv fg fh fi fj dh fk bi\">Navneet Maheshwari</p></a></div></span></div></div><div class=\"l ed\"><span class=\"bd b be z fr\"><div class=\"ab q\"><a class=\"\" rel=\"noopener follow\" href=\"/@navneetmaheshwari99/saas-based-tools-for-product-managers-23a5ffd8f610?source=topics_v2---------6-84--------------------e32e19b0_4754_46c6_93e0_6b8d4aff325a-------17\"><p class=\"bd b be z fr\"><span class=\"jw\">·</span>1 day ago</p></a></div></span></div></div></div><div class=\"jx l\"><div class=\"l\"><div class=\"l dg\"><div class=\"jy\"><div class=\"l\"><div><div class=\"ab\"><div class=\"l cj kd\"><div class=\"l\"><a class=\"ae af ag ah ai aj ak al am an ao ap aq ar as\" aria-label=\"Post Preview Title\" rel=\"noopener follow\" href=\"/@navneetmaheshwari99/saas-based-tools-for-product-managers-23a5ffd8f610?source=topics_v2---------6-84--------------------e32e19b0_4754_46c6_93e0_6b8d4aff325a-------17\"><div class=\"ke kf kg kh ki l\"><h2 class=\"bd ej kj kk kl km eo kn ko kp kq es kr ks kt ku ew kv kw kx ky fa kz la lb lc fe ff fg fh fj fk bi\">SaaS-based Tools for Product Managers</h2></div><div class=\"h k ld cv cz\"><p class=\"le b fq eh ff lf fg fh lg fj fk iz bi\">To start this, one should first understand what a product manager does. On the Meta level, a product manager connects business strategy, design knowledge, and customer needs in order to develop a product that is relevant, feasible, and valuable. PM is a person who understands the customer better than anybody…</p></div></a></div><div class=\"lh h li k lj ld lk cv ll cz\"><div class=\"ab hp\"><div class=\"lm ln lo lp lq lr ls lt lu lv lw lx ly lz ma ab q\"><div class=\"fo mb mc md me mf ab\"><a class=\"bf\" rel=\"noopener follow\" href=\"/tag/product-management?source=topics_v2----------84----------product_management----------e32e19b0_4754_46c6_93e0_6b8d4aff325a-------17\"><div class=\"mg dg hv jg jh ji bd b mh z bi gs ff fg\">Product Management</div></a></div><div class=\"ab ed\"><a class=\"ae af ag ah ai aj ak al am an ao ap aq ar as\" aria-label=\"Post Preview Reading Time\" rel=\"noopener follow\" href=\"/@navneetmaheshwari99/saas-based-tools-for-product-managers-23a5ffd8f610?source=topics_v2---------6-84--------------------e32e19b0_4754_46c6_93e0_6b8d4aff325a-------17\"><p class=\"bd b mh z fr\"><span>4 min read</span></p></a></div></div><div class=\"ab q mi mj\"><div><div class=\"bk\" aria-hidden=\"false\" aria-describedby=\"17\" aria-labelledby=\"17\"><span><a class=\"ae af ag ah ai aj ak al am an ao ap aq ar as\" rel=\"noopener follow\" href=\"/m/signin?actionUrl=https%3A%2F%2Fmedium.com%2F_%2Fbookmark%2Fp%2F23a5ffd8f610&amp;operation=register&amp;redirect=https%3A%2F%2Fmedium.com%2F%40navneetmaheshwari99%2Fsaas-based-tools-for-product-managers-23a5ffd8f610&amp;source=---------6-84----------------bookmark_preview----e32e19b0_4754_46c6_93e0_6b8d4aff325a-------17\"><svg width=\"25\" height=\"25\" viewBox=\"0 0 25 25\" fill=\"none\" class=\"po pp\"><path d=\"M18 2.5a.5.5 0 0 1 1 0V5h2.5a.5.5 0 0 1 0 1H19v2.5a.5.5 0 1 1-1 0V6h-2.5a.5.5 0 0 1 0-1H18V2.5zM7 7a1 1 0 0 1 1-1h3.5a.5.5 0 0 0 0-1H8a2 2 0 0 0-2 2v14a.5.5 0 0 0 .8.4l5.7-4.4 5.7 4.4a.5.5 0 0 0 .8-.4v-8.5a.5.5 0 0 0-1 0v7.48l-5.2-4a.5.5 0 0 0-.6 0l-5.2 4V7z\" fill=\"#292929\"></path></svg></a></span></div></div></div></div></div></div><div class=\"mk ml mm mn mo l\"><a class=\"ae af ag ah ai aj ak al am an ao ap aq ar as\" aria-label=\"Post Preview Image\" rel=\"noopener follow\" href=\"/@navneetmaheshwari99/saas-based-tools-for-product-managers-23a5ffd8f610?source=topics_v2---------6-84--------------------e32e19b0_4754_46c6_93e0_6b8d4aff325a-------17\"><div class=\"h k ld cv cz\"><img alt=\"SaaS-based Tools for Product Managers\" class=\"\" src=\"https://miro.medium.com/fit/c/168/168/1*jnrGHBDhGP-UFsCCQThQIQ.png\" width=\"112\" height=\"112\" loading=\"lazy\"></div><div class=\"mp mq j i d\"><img alt=\"SaaS-based Tools for Product Managers\" class=\"\" src=\"https://miro.medium.com/fit/c/120/84/1*jnrGHBDhGP-UFsCCQThQIQ.png\" width=\"80\" height=\"56\" loading=\"lazy\"></div></a></div></div><div class=\"l\"><div class=\"mr mp ms mq lj j lk i ll d\"><div class=\"ab hp\"><div class=\"lm ln lo lp lq lr ls lt lu lv lw lx ly lz ma ab q\"><div class=\"fo mb mc md me mf ab\"><a class=\"bf\" rel=\"noopener follow\" href=\"/tag/product-management?source=topics_v2----------84----------product_management----------e32e19b0_4754_46c6_93e0_6b8d4aff325a-------17\"><div class=\"mg dg hv jg jh ji bd b mh z bi gs ff fg\">Product Management</div></a></div><div class=\"ab ed\"><a class=\"ae af ag ah ai aj ak al am an ao ap aq ar as\" aria-label=\"Post Preview Reading Time\" rel=\"noopener follow\" href=\"/@navneetmaheshwari99/saas-based-tools-for-product-managers-23a5ffd8f610?source=topics_v2---------6-84--------------------e32e19b0_4754_46c6_93e0_6b8d4aff325a-------17\"><p class=\"bd b mh z fr\"><span>4 min read</span></p></a></div></div><div class=\"ab q mi mj\"><div><div class=\"bk\" aria-hidden=\"false\" aria-describedby=\"18\" aria-labelledby=\"18\"><span><a class=\"ae af ag ah ai aj ak al am an ao ap aq ar as\" rel=\"noopener follow\" href=\"/m/signin?actionUrl=https%3A%2F%2Fmedium.com%2F_%2Fbookmark%2Fp%2F23a5ffd8f610&amp;operation=register&amp;redirect=https%3A%2F%2Fmedium.com%2F%40navneetmaheshwari99%2Fsaas-based-tools-for-product-managers-23a5ffd8f610&amp;source=---------6-84----------------bookmark_preview----e32e19b0_4754_46c6_93e0_6b8d4aff325a-------17\"><svg width=\"25\" height=\"25\" viewBox=\"0 0 25 25\" fill=\"none\" class=\"po pp\"><path d=\"M18 2.5a.5.5 0 0 1 1 0V5h2.5a.5.5 0 0 1 0 1H19v2.5a.5.5 0 1 1-1 0V6h-2.5a.5.5 0 0 1 0-1H18V2.5zM7 7a1 1 0 0 1 1-1h3.5a.5.5 0 0 0 0-1H8a2 2 0 0 0-2 2v14a.5.5 0 0 0 .8.4l5.7-4.4 5.7 4.4a.5.5 0 0 0 .8-.4v-8.5a.5.5 0 0 0-1 0v7.48l-5.2-4a.5.5 0 0 0-.6 0l-5.2 4V7z\" fill=\"#292929\"></path></svg></a></span></div></div></div></div></div></div></div></div></div></div><div class=\"jz ka kb kc ff\"></div></div></div></div></div></div></div></div></article><article class=\"meteredContent\"><div class=\"jn jo jp l\"><div class=\"ab di\"><div class=\"dj bf dk dl dm dn\"><hr class=\"mt mu mv am\" aria-hidden=\"true\"><div class=\"bf df\"><div class=\"mw l\"><div class=\"q ab\"><div><a rel=\"noopener follow\" href=\"/@ericchungdesign?source=topics_v2---------7-84--------------------e32e19b0_4754_46c6_93e0_6b8d4aff325a-------17\"><div class=\"l dg\"><img alt=\"Eric Chung\" class=\"l dc bw bp jr hv\" src=\"https://miro.medium.com/fit/c/36/36/1*11Rp411_VMkg9TY0R_5Byw.jpeg\" width=\"24\" height=\"24\" loading=\"lazy\"><div class=\"jq bw l bp jr js n\"></div></div></a></div><div class=\"jt bf ab ju\"><div class=\"ab\"><div style=\"flex: 1 1 0%;\"><span class=\"bd b be z bi\"><div class=\"ab q ju\"><a class=\"ae af ag ah ai aj ak al am an ao ap aq ar as\" rel=\"noopener follow\" href=\"/@ericchungdesign?source=topics_v2---------7-84--------------------e32e19b0_4754_46c6_93e0_6b8d4aff325a-------17\"><p class=\"bd b be z ff jv fg fh fi fj dh fk bi\">Eric Chung</p></a><div class=\"ab\"><div class=\"mx l\"><p class=\"bd b be z fr\">in</p></div><a class=\"ae af ag ah ai aj ak al am an ao ap aq ar as bk\" href=\"https://medium.com/user-experience-design-1?source=topics_v2---------7-84--------------------e32e19b0_4754_46c6_93e0_6b8d4aff325a-------17\" rel=\"noopener follow\"><p class=\"bd b be z ff jv fg fh fi fj dh fk bi\">UX Collective</p></a></div></div></span></div></div><div class=\"l ed\"><span class=\"bd b be z fr\"><div class=\"ab q\"><a class=\"\" rel=\"noopener follow\" href=\"/user-experience-design-1/demonstrating-the-roi-of-ux-design-to-stakeholders-7f2ac55ec82c?source=topics_v2---------7-84--------------------e32e19b0_4754_46c6_93e0_6b8d4aff325a-------17\"><p class=\"bd b be z fr\"><span class=\"jw\">·</span>2 days ago</p></a><div class=\"nn jp l\"><div class=\"l\" aria-hidden=\"false\" aria-describedby=\"2\" aria-labelledby=\"2\"><button class=\"l aw hj al\"><div class=\"j i d\"><div><div class=\"bk\" aria-hidden=\"false\" aria-describedby=\"1\" aria-labelledby=\"1\"><svg width=\"20\" height=\"20\" viewBox=\"0 0 20 20\" fill=\"none\"><path d=\"M12.4 12.77l-1.81 4.99a.63.63 0 0 1-1.18 0l-1.8-4.99a.63.63 0 0 0-.38-.37l-4.99-1.81a.62.62 0 0 1 0-1.18l4.99-1.8a.63.63 0 0 0 .37-.38l1.81-4.99a.63.63 0 0 1 1.18 0l1.8 4.99a.63.63 0 0 0 .38.37l4.99 1.81a.63.63 0 0 1 0 1.18l-4.99 1.8a.63.63 0 0 0-.37.38z\" fill=\"#FFC017\"></path></svg></div></div></div><div class=\"h k w no np\"><svg width=\"20\" height=\"20\" viewBox=\"0 0 20 20\" fill=\"none\" class=\"nm\"><path d=\"M12.4 12.77l-1.81 4.99a.63.63 0 0 1-1.18 0l-1.8-4.99a.63.63 0 0 0-.38-.37l-4.99-1.81a.62.62 0 0 1 0-1.18l4.99-1.8a.63.63 0 0 0 .37-.38l1.81-4.99a.63.63 0 0 1 1.18 0l1.8 4.99a.63.63 0 0 0 .38.37l4.99 1.81a.63.63 0 0 1 0 1.18l-4.99 1.8a.63.63 0 0 0-.37.38z\" fill=\"#FFC017\"></path></svg><p class=\"bd b be z fr\">Member-only</p></div></button></div></div></div></span></div></div></div><div class=\"jx l\"><div class=\"l\"><div class=\"l dg\"><div class=\"jy\"><div class=\"l\"><div><div class=\"ab\"><div class=\"l cj kd\"><div class=\"l\"><a class=\"ae af ag ah ai aj ak al am an ao ap aq ar as\" aria-label=\"Post Preview Title\" rel=\"noopener follow\" href=\"/user-experience-design-1/demonstrating-the-roi-of-ux-design-to-stakeholders-7f2ac55ec82c?source=topics_v2---------7-84--------------------e32e19b0_4754_46c6_93e0_6b8d4aff325a-------17\"><div class=\"ke kf kg kh ki l\"><h2 class=\"bd ej kj kk kl km eo kn ko kp kq es kr ks kt ku ew kv kw kx ky fa kz la lb lc fe ff fg fh fj fk bi\">Demonstrating the ROI of UX design to stakeholders</h2></div><div class=\"h k ld cv cz\"><p class=\"le b fq eh ff lf fg fh lg fj fk iz bi\">Build a strong business case for UX and advocate for good design —  Designers are trained to understand the value that good user experience (UX) can bring to an organization. We learn about metrics and testing methods that can quantify the success of a design. However, it can still be challenging to communicate the value of design to executives and other stakeholders. It…</p></div></a></div><div class=\"lh h li k lj ld lk cv ll cz\"><div class=\"ab hp\"><div class=\"lm ln lo lp lq lr ls lt lu lv lw lx ly lz ma ab q\"><div class=\"fo mb mc md me mf ab\"><a class=\"bf\" rel=\"noopener follow\" href=\"/tag/product-management?source=topics_v2----------84----------product_management----------e32e19b0_4754_46c6_93e0_6b8d4aff325a-------17\"><div class=\"mg dg hv jg jh ji bd b mh z bi gs ff fg\">Product Management</div></a></div><div class=\"ab ed\"><a class=\"ae af ag ah ai aj ak al am an ao ap aq ar as\" aria-label=\"Post Preview Reading Time\" rel=\"noopener follow\" href=\"/user-experience-design-1/demonstrating-the-roi-of-ux-design-to-stakeholders-7f2ac55ec82c?source=topics_v2---------7-84--------------------e32e19b0_4754_46c6_93e0_6b8d4aff325a-------17\"><p class=\"bd b mh z fr\"><span>5 min read</span></p></a></div></div><div class=\"ab q mi mj\"><div><div class=\"bk\" aria-hidden=\"false\" aria-describedby=\"19\" aria-labelledby=\"19\"><span><a class=\"ae af ag ah ai aj ak al am an ao ap aq ar as\" rel=\"noopener follow\" href=\"/m/signin?actionUrl=https%3A%2F%2Fmedium.com%2F_%2Fbookmark%2Fp%2F7f2ac55ec82c&amp;operation=register&amp;redirect=https%3A%2F%2Fuxdesign.cc%2Fdemonstrating-the-roi-of-ux-design-to-stakeholders-7f2ac55ec82c&amp;source=---------7-84----------------bookmark_preview----e32e19b0_4754_46c6_93e0_6b8d4aff325a-------17\"><svg width=\"25\" height=\"25\" viewBox=\"0 0 25 25\" fill=\"none\" class=\"po pp\"><path d=\"M18 2.5a.5.5 0 0 1 1 0V5h2.5a.5.5 0 0 1 0 1H19v2.5a.5.5 0 1 1-1 0V6h-2.5a.5.5 0 0 1 0-1H18V2.5zM7 7a1 1 0 0 1 1-1h3.5a.5.5 0 0 0 0-1H8a2 2 0 0 0-2 2v14a.5.5 0 0 0 .8.4l5.7-4.4 5.7 4.4a.5.5 0 0 0 .8-.4v-8.5a.5.5 0 0 0-1 0v7.48l-5.2-4a.5.5 0 0 0-.6 0l-5.2 4V7z\" fill=\"#292929\"></path></svg></a></span></div></div></div></div></div></div><div class=\"mk ml mm mn mo l\"><a class=\"ae af ag ah ai aj ak al am an ao ap aq ar as\" aria-label=\"Post Preview Image\" rel=\"noopener follow\" href=\"/user-experience-design-1/demonstrating-the-roi-of-ux-design-to-stakeholders-7f2ac55ec82c?source=topics_v2---------7-84--------------------e32e19b0_4754_46c6_93e0_6b8d4aff325a-------17\"><div class=\"h k ld cv cz\"><img alt=\"Demonstrating the ROI of UX design to stakeholders\" class=\"\" src=\"https://miro.medium.com/fit/c/168/168/0*JyeuFWa8WAIUXqbZ.jpeg\" width=\"112\" height=\"112\" loading=\"lazy\"></div><div class=\"mp mq j i d\"><img alt=\"Demonstrating the ROI of UX design to stakeholders\" class=\"\" src=\"https://miro.medium.com/fit/c/120/84/0*JyeuFWa8WAIUXqbZ.jpeg\" width=\"80\" height=\"56\" loading=\"lazy\"></div></a></div></div><div class=\"l\"><div class=\"mr mp ms mq lj j lk i ll d\"><div class=\"ab hp\"><div class=\"lm ln lo lp lq lr ls lt lu lv lw lx ly lz ma ab q\"><div class=\"fo mb mc md me mf ab\"><a class=\"bf\" rel=\"noopener follow\" href=\"/tag/product-management?source=topics_v2----------84----------product_management----------e32e19b0_4754_46c6_93e0_6b8d4aff325a-------17\"><div class=\"mg dg hv jg jh ji bd b mh z bi gs ff fg\">Product Management</div></a></div><div class=\"ab ed\"><a class=\"ae af ag ah ai aj ak al am an ao ap aq ar as\" aria-label=\"Post Preview Reading Time\" rel=\"noopener follow\" href=\"/user-experience-design-1/demonstrating-the-roi-of-ux-design-to-stakeholders-7f2ac55ec82c?source=topics_v2---------7-84--------------------e32e19b0_4754_46c6_93e0_6b8d4aff325a-------17\"><p class=\"bd b mh z fr\"><span>5 min read</span></p></a></div></div><div class=\"ab q mi mj\"><div><div class=\"bk\" aria-hidden=\"false\" aria-describedby=\"20\" aria-labelledby=\"20\"><span><a class=\"ae af ag ah ai aj ak al am an ao ap aq ar as\" rel=\"noopener follow\" href=\"/m/signin?actionUrl=https%3A%2F%2Fmedium.com%2F_%2Fbookmark%2Fp%2F7f2ac55ec82c&amp;operation=register&amp;redirect=https%3A%2F%2Fuxdesign.cc%2Fdemonstrating-the-roi-of-ux-design-to-stakeholders-7f2ac55ec82c&amp;source=---------7-84----------------bookmark_preview----e32e19b0_4754_46c6_93e0_6b8d4aff325a-------17\"><svg width=\"25\" height=\"25\" viewBox=\"0 0 25 25\" fill=\"none\" class=\"po pp\"><path d=\"M18 2.5a.5.5 0 0 1 1 0V5h2.5a.5.5 0 0 1 0 1H19v2.5a.5.5 0 1 1-1 0V6h-2.5a.5.5 0 0 1 0-1H18V2.5zM7 7a1 1 0 0 1 1-1h3.5a.5.5 0 0 0 0-1H8a2 2 0 0 0-2 2v14a.5.5 0 0 0 .8.4l5.7-4.4 5.7 4.4a.5.5 0 0 0 .8-.4v-8.5a.5.5 0 0 0-1 0v7.48l-5.2-4a.5.5 0 0 0-.6 0l-5.2 4V7z\" fill=\"#292929\"></path></svg></a></span></div></div></div></div></div></div></div></div></div></div><div class=\"jz ka kb kc ff\"></div></div></div></div></div></div></div></div></article><article><div class=\"jn jo jp l\"><div class=\"ab di\"><div class=\"dj bf dk dl dm dn\"><hr class=\"mt mu mv am\" aria-hidden=\"true\"><div class=\"bf df\"><div class=\"mw l\"><div class=\"q ab\"><div><a rel=\"noopener follow\" href=\"/@impostor_syndrome?source=topics_v2---------8-84--------------------e32e19b0_4754_46c6_93e0_6b8d4aff325a-------17\"><div class=\"l dg\"><img alt=\"Roman Borisov\" class=\"l dc bw bp jr hv\" src=\"https://miro.medium.com/fit/c/36/36/1*yK87tBdS14_XeBc2HJ7vsA.jpeg\" width=\"24\" height=\"24\" loading=\"lazy\"><div class=\"jq bw l bp jr js n\"></div></div></a></div><div class=\"jt bf ab ju\"><div class=\"ab\"><div style=\"flex: 1 1 0%;\"><span class=\"bd b be z bi\"><div class=\"ab q ju\"><a class=\"ae af ag ah ai aj ak al am an ao ap aq ar as\" rel=\"noopener follow\" href=\"/@impostor_syndrome?source=topics_v2---------8-84--------------------e32e19b0_4754_46c6_93e0_6b8d4aff325a-------17\"><p class=\"bd b be z ff jv fg fh fi fj dh fk bi\">Roman Borisov</p></a><div class=\"ab\"><div class=\"mx l\"><p class=\"bd b be z fr\">in</p></div><a class=\"ae af ag ah ai aj ak al am an ao ap aq ar as bk\" href=\"https://medium.com/design-bootcamp?source=topics_v2---------8-84--------------------e32e19b0_4754_46c6_93e0_6b8d4aff325a-------17\" rel=\"noopener follow\"><p class=\"bd b be z ff jv fg fh fi fj dh fk bi\">Bootcamp</p></a></div></div></span></div></div><div class=\"l ed\"><span class=\"bd b be z fr\"><div class=\"ab q\"><a class=\"\" rel=\"noopener follow\" href=\"/design-bootcamp/how-to-boost-your-technical-documentation-808afb8a5d64?source=topics_v2---------8-84--------------------e32e19b0_4754_46c6_93e0_6b8d4aff325a-------17\"><p class=\"bd b be z fr\"><span class=\"jw\">·</span>1 day ago</p></a></div></span></div></div></div><div class=\"jx l\"><div class=\"l\"><div class=\"l dg\"><div class=\"jy\"><div class=\"l\"><div><div class=\"ab\"><div class=\"l cj kd\"><div class=\"l\"><a class=\"ae af ag ah ai aj ak al am an ao ap aq ar as\" aria-label=\"Post Preview Title\" rel=\"noopener follow\" href=\"/design-bootcamp/how-to-boost-your-technical-documentation-808afb8a5d64?source=topics_v2---------8-84--------------------e32e19b0_4754_46c6_93e0_6b8d4aff325a-------17\"><div class=\"ke kf kg kh ki l\"><h2 class=\"bd ej kj kk kl km eo kn ko kp kq es kr ks kt ku ew kv kw kx ky fa kz la lb lc fe ff fg fh fj fk bi\">How to boost your technical documentation</h2></div><div class=\"h k ld cv cz\"><p class=\"le b fq eh ff lf fg fh lg fj fk iz bi\">Everybody knows that technical documentation is something boring and takes time. But as soon as most of your experienced developers change jobs and newcomers are stuck because of uncovered questions — well-described documentation is the most precious thing in the world. Here I’ll tell you how we could improve our…</p></div></a></div><div class=\"lh h li k lj ld lk cv ll cz\"><div class=\"ab hp\"><div class=\"lm ln lo lp lq lr ls lt lu lv lw lx ly lz ma ab q\"><div class=\"fo mb mc md me mf ab\"><a class=\"bf\" rel=\"noopener follow\" href=\"/tag/product-management?source=topics_v2----------84----------product_management----------e32e19b0_4754_46c6_93e0_6b8d4aff325a-------17\"><div class=\"mg dg hv jg jh ji bd b mh z bi gs ff fg\">Product Management</div></a></div><div class=\"ab ed\"><a class=\"ae af ag ah ai aj ak al am an ao ap aq ar as\" aria-label=\"Post Preview Reading Time\" rel=\"noopener follow\" href=\"/design-bootcamp/how-to-boost-your-technical-documentation-808afb8a5d64?source=topics_v2---------8-84--------------------e32e19b0_4754_46c6_93e0_6b8d4aff325a-------17\"><p class=\"bd b mh z fr\"><span>5 min read</span></p></a></div></div><div class=\"ab q mi mj\"><div><div class=\"bk\" aria-hidden=\"false\" aria-describedby=\"21\" aria-labelledby=\"21\"><span><a class=\"ae af ag ah ai aj ak al am an ao ap aq ar as\" rel=\"noopener follow\" href=\"/m/signin?actionUrl=https%3A%2F%2Fmedium.com%2F_%2Fbookmark%2Fp%2F808afb8a5d64&amp;operation=register&amp;redirect=https%3A%2F%2Fbootcamp.uxdesign.cc%2Fhow-to-boost-your-technical-documentation-808afb8a5d64&amp;source=---------8-84----------------bookmark_preview----e32e19b0_4754_46c6_93e0_6b8d4aff325a-------17\"><svg width=\"25\" height=\"25\" viewBox=\"0 0 25 25\" fill=\"none\" class=\"po pp\"><path d=\"M18 2.5a.5.5 0 0 1 1 0V5h2.5a.5.5 0 0 1 0 1H19v2.5a.5.5 0 1 1-1 0V6h-2.5a.5.5 0 0 1 0-1H18V2.5zM7 7a1 1 0 0 1 1-1h3.5a.5.5 0 0 0 0-1H8a2 2 0 0 0-2 2v14a.5.5 0 0 0 .8.4l5.7-4.4 5.7 4.4a.5.5 0 0 0 .8-.4v-8.5a.5.5 0 0 0-1 0v7.48l-5.2-4a.5.5 0 0 0-.6 0l-5.2 4V7z\" fill=\"#292929\"></path></svg></a></span></div></div></div></div></div></div><div class=\"mk ml mm mn mo l\"><a class=\"ae af ag ah ai aj ak al am an ao ap aq ar as\" aria-label=\"Post Preview Image\" rel=\"noopener follow\" href=\"/design-bootcamp/how-to-boost-your-technical-documentation-808afb8a5d64?source=topics_v2---------8-84--------------------e32e19b0_4754_46c6_93e0_6b8d4aff325a-------17\"><div class=\"h k ld cv cz\"><img alt=\"How to boost your technical documentation\" class=\"\" src=\"https://miro.medium.com/fit/c/168/168/1*C45BbW1HvpRzJvAumrHC9g.png\" width=\"112\" height=\"112\" loading=\"lazy\"></div><div class=\"mp mq j i d\"><img alt=\"How to boost your technical documentation\" class=\"\" src=\"https://miro.medium.com/fit/c/120/84/1*C45BbW1HvpRzJvAumrHC9g.png\" width=\"80\" height=\"56\" loading=\"lazy\"></div></a></div></div><div class=\"l\"><div class=\"mr mp ms mq lj j lk i ll d\"><div class=\"ab hp\"><div class=\"lm ln lo lp lq lr ls lt lu lv lw lx ly lz ma ab q\"><div class=\"fo mb mc md me mf ab\"><a class=\"bf\" rel=\"noopener follow\" href=\"/tag/product-management?source=topics_v2----------84----------product_management----------e32e19b0_4754_46c6_93e0_6b8d4aff325a-------17\"><div class=\"mg dg hv jg jh ji bd b mh z bi gs ff fg\">Product Management</div></a></div><div class=\"ab ed\"><a class=\"ae af ag ah ai aj ak al am an ao ap aq ar as\" aria-label=\"Post Preview Reading Time\" rel=\"noopener follow\" href=\"/design-bootcamp/how-to-boost-your-technical-documentation-808afb8a5d64?source=topics_v2---------8-84--------------------e32e19b0_4754_46c6_93e0_6b8d4aff325a-------17\"><p class=\"bd b mh z fr\"><span>5 min read</span></p></a></div></div><div class=\"ab q mi mj\"><div><div class=\"bk\" aria-hidden=\"false\" aria-describedby=\"22\" aria-labelledby=\"22\"><span><a class=\"ae af ag ah ai aj ak al am an ao ap aq ar as\" rel=\"noopener follow\" href=\"/m/signin?actionUrl=https%3A%2F%2Fmedium.com%2F_%2Fbookmark%2Fp%2F808afb8a5d64&amp;operation=register&amp;redirect=https%3A%2F%2Fbootcamp.uxdesign.cc%2Fhow-to-boost-your-technical-documentation-808afb8a5d64&amp;source=---------8-84----------------bookmark_preview----e32e19b0_4754_46c6_93e0_6b8d4aff325a-------17\"><svg width=\"25\" height=\"25\" viewBox=\"0 0 25 25\" fill=\"none\" class=\"po pp\"><path d=\"M18 2.5a.5.5 0 0 1 1 0V5h2.5a.5.5 0 0 1 0 1H19v2.5a.5.5 0 1 1-1 0V6h-2.5a.5.5 0 0 1 0-1H18V2.5zM7 7a1 1 0 0 1 1-1h3.5a.5.5 0 0 0 0-1H8a2 2 0 0 0-2 2v14a.5.5 0 0 0 .8.4l5.7-4.4 5.7 4.4a.5.5 0 0 0 .8-.4v-8.5a.5.5 0 0 0-1 0v7.48l-5.2-4a.5.5 0 0 0-.6 0l-5.2 4V7z\" fill=\"#292929\"></path></svg></a></span></div></div></div></div></div></div></div></div></div></div><div class=\"jz ka kb kc ff\"></div></div></div></div></div></div></div></div></article><article><div class=\"jn jo jp l\"><div class=\"ab di\"><div class=\"dj bf dk dl dm dn\"><hr class=\"mt mu mv am\" aria-hidden=\"true\"><div class=\"bf df\"><div class=\"mw l\"><div class=\"q ab\"><div><a rel=\"noopener follow\" href=\"/@andrey.promo?source=topics_v2---------9-84--------------------e32e19b0_4754_46c6_93e0_6b8d4aff325a-------17\"><div class=\"l dg\"><img alt=\"Andrew Grigoriev\" class=\"l dc bw bp jr hv\" src=\"https://miro.medium.com/fit/c/36/36/1*N596mPHbDlpSkkdPLvs-9g.jpeg\" width=\"24\" height=\"24\" loading=\"lazy\"><div class=\"jq bw l bp jr js n\"></div></div></a></div><div class=\"jt bf ab ju\"><div class=\"ab\"><div style=\"flex: 1 1 0%;\"><span class=\"bd b be z bi\"><div class=\"ab q ju\"><a class=\"ae af ag ah ai aj ak al am an ao ap aq ar as\" rel=\"noopener follow\" href=\"/@andrey.promo?source=topics_v2---------9-84--------------------e32e19b0_4754_46c6_93e0_6b8d4aff325a-------17\"><p class=\"bd b be z ff jv fg fh fi fj dh fk bi\">Andrew Grigoriev</p></a></div></span></div></div><div class=\"l ed\"><span class=\"bd b be z fr\"><div class=\"ab q\"><a class=\"\" rel=\"noopener follow\" href=\"/@andrey.promo/few-tips-which-will-help-you-better-understand-respondent-through-customer-interview-25238eff7037?source=topics_v2---------9-84--------------------e32e19b0_4754_46c6_93e0_6b8d4aff325a-------17\"><p class=\"bd b be z fr\"><span class=\"jw\">·</span>2 days ago</p></a></div></span></div></div></div><div class=\"jx l\"><div class=\"l\"><div class=\"l dg\"><div class=\"jy\"><div class=\"l\"><div><div class=\"ab\"><div class=\"l cj kd\"><div class=\"l\"><a class=\"ae af ag ah ai aj ak al am an ao ap aq ar as\" aria-label=\"Post Preview Title\" rel=\"noopener follow\" href=\"/@andrey.promo/few-tips-which-will-help-you-better-understand-respondent-through-customer-interview-25238eff7037?source=topics_v2---------9-84--------------------e32e19b0_4754_46c6_93e0_6b8d4aff325a-------17\"><div class=\"ke kf kg kh ki l\"><h2 class=\"bd ej kj kk kl km eo kn ko kp kq es kr ks kt ku ew kv kw kx ky fa kz la lb lc fe ff fg fh fj fk bi\">A few tips which will help you better understand respondent through customer interview</h2></div><div class=\"h k ld cv cz\"><p class=\"le b fq eh ff nk fg fh nl fj fk iz bi\">It’s well-known that the first step is the most difficult thing. When I teach product managers or product marketing managers, I always ask them to conduct customer interviews with minimal 15–20 different people. It doesn’t matter which kind of interview they choose: JTBD interview, problem interview, in-depth interview, etc. In…</p></div></a></div><div class=\"lh h li k lj ld lk cv ll cz\"><div class=\"ab hp\"><div class=\"lm ln lo lp lq lr ls lt lu lv lw lx ly lz ma ab q\"><div class=\"fo mb mc md me mf ab\"><a class=\"bf\" rel=\"noopener follow\" href=\"/tag/product-management?source=topics_v2----------84----------product_management----------e32e19b0_4754_46c6_93e0_6b8d4aff325a-------17\"><div class=\"mg dg hv jg jh ji bd b mh z bi gs ff fg\">Product Management</div></a></div><div class=\"ab ed\"><a class=\"ae af ag ah ai aj ak al am an ao ap aq ar as\" aria-label=\"Post Preview Reading Time\" rel=\"noopener follow\" href=\"/@andrey.promo/few-tips-which-will-help-you-better-understand-respondent-through-customer-interview-25238eff7037?source=topics_v2---------9-84--------------------e32e19b0_4754_46c6_93e0_6b8d4aff325a-------17\"><p class=\"bd b mh z fr\"><span>5 min read</span></p></a></div></div><div class=\"ab q mi mj\"><div><div class=\"bk\" aria-hidden=\"false\" aria-describedby=\"23\" aria-labelledby=\"23\"><span><a class=\"ae af ag ah ai aj ak al am an ao ap aq ar as\" rel=\"noopener follow\" href=\"/m/signin?actionUrl=https%3A%2F%2Fmedium.com%2F_%2Fbookmark%2Fp%2F25238eff7037&amp;operation=register&amp;redirect=https%3A%2F%2Fmedium.com%2F%40andrey.promo%2Ffew-tips-which-will-help-you-better-understand-respondent-through-customer-interview-25238eff7037&amp;source=---------9-84----------------bookmark_preview----e32e19b0_4754_46c6_93e0_6b8d4aff325a-------17\"><svg width=\"25\" height=\"25\" viewBox=\"0 0 25 25\" fill=\"none\" class=\"po pp\"><path d=\"M18 2.5a.5.5 0 0 1 1 0V5h2.5a.5.5 0 0 1 0 1H19v2.5a.5.5 0 1 1-1 0V6h-2.5a.5.5 0 0 1 0-1H18V2.5zM7 7a1 1 0 0 1 1-1h3.5a.5.5 0 0 0 0-1H8a2 2 0 0 0-2 2v14a.5.5 0 0 0 .8.4l5.7-4.4 5.7 4.4a.5.5 0 0 0 .8-.4v-8.5a.5.5 0 0 0-1 0v7.48l-5.2-4a.5.5 0 0 0-.6 0l-5.2 4V7z\" fill=\"#292929\"></path></svg></a></span></div></div></div></div></div></div><div class=\"mk ml mm mn mo l\"><a class=\"ae af ag ah ai aj ak al am an ao ap aq ar as\" aria-label=\"Post Preview Image\" rel=\"noopener follow\" href=\"/@andrey.promo/few-tips-which-will-help-you-better-understand-respondent-through-customer-interview-25238eff7037?source=topics_v2---------9-84--------------------e32e19b0_4754_46c6_93e0_6b8d4aff325a-------17\"><div class=\"h k ld cv cz\"><img alt=\"Few tips which will help you better understand respondent through customer interview\" class=\"\" src=\"https://miro.medium.com/fit/c/168/168/1*yidAcid6UxjtMiYqq1-r4w.jpeg\" width=\"112\" height=\"112\" loading=\"lazy\"></div><div class=\"mp mq j i d\"><img alt=\"Few tips which will help you better understand respondent through customer interview\" class=\"\" src=\"https://miro.medium.com/fit/c/120/84/1*yidAcid6UxjtMiYqq1-r4w.jpeg\" width=\"80\" height=\"56\" loading=\"lazy\"></div></a></div></div><div class=\"l\"><div class=\"mr mp ms mq lj j lk i ll d\"><div class=\"ab hp\"><div class=\"lm ln lo lp lq lr ls lt lu lv lw lx ly lz ma ab q\"><div class=\"fo mb mc md me mf ab\"><a class=\"bf\" rel=\"noopener follow\" href=\"/tag/product-management?source=topics_v2----------84----------product_management----------e32e19b0_4754_46c6_93e0_6b8d4aff325a-------17\"><div class=\"mg dg hv jg jh ji bd b mh z bi gs ff fg\">Product Management</div></a></div><div class=\"ab ed\"><a class=\"ae af ag ah ai aj ak al am an ao ap aq ar as\" aria-label=\"Post Preview Reading Time\" rel=\"noopener follow\" href=\"/@andrey.promo/few-tips-which-will-help-you-better-understand-respondent-through-customer-interview-25238eff7037?source=topics_v2---------9-84--------------------e32e19b0_4754_46c6_93e0_6b8d4aff325a-------17\"><p class=\"bd b mh z fr\"><span>5 min read</span></p></a></div></div><div class=\"ab q mi mj\"><div><div class=\"bk\" aria-hidden=\"false\" aria-describedby=\"24\" aria-labelledby=\"24\"><span><a class=\"ae af ag ah ai aj ak al am an ao ap aq ar as\" rel=\"noopener follow\" href=\"/m/signin?actionUrl=https%3A%2F%2Fmedium.com%2F_%2Fbookmark%2Fp%2F25238eff7037&amp;operation=register&amp;redirect=https%3A%2F%2Fmedium.com%2F%40andrey.promo%2Ffew-tips-which-will-help-you-better-understand-respondent-through-customer-interview-25238eff7037&amp;source=---------9-84----------------bookmark_preview----e32e19b0_4754_46c6_93e0_6b8d4aff325a-------17\"><svg width=\"25\" height=\"25\" viewBox=\"0 0 25 25\" fill=\"none\" class=\"po pp\"><path d=\"M18 2.5a.5.5 0 0 1 1 0V5h2.5a.5.5 0 0 1 0 1H19v2.5a.5.5 0 1 1-1 0V6h-2.5a.5.5 0 0 1 0-1H18V2.5zM7 7a1 1 0 0 1 1-1h3.5a.5.5 0 0 0 0-1H8a2 2 0 0 0-2 2v14a.5.5 0 0 0 .8.4l5.7-4.4 5.7 4.4a.5.5 0 0 0 .8-.4v-8.5a.5.5 0 0 0-1 0v7.48l-5.2-4a.5.5 0 0 0-.6 0l-5.2 4V7z\" fill=\"#292929\"></path></svg></a></span></div></div></div></div></div></div></div></div></div></div><div class=\"jz ka kb kc ff\"></div></div></div></div></div></div></div></div></article><article><div class=\"jn jo jp l\"><div class=\"ab di\"><div class=\"dj bf dk dl dm dn\"><hr class=\"mt mu mv am\" aria-hidden=\"true\"><div class=\"bf df\"><div class=\"mw l\"><div class=\"q ab\"><div><a rel=\"noopener follow\" href=\"/@salomeazeal?source=topics_v2---------10-84--------------------e6063c9b_b40f_4997_aa09_4f0f6c04d41e-------17\"><div class=\"l dg\"><img alt=\"Salome Ogbijoko\" class=\"l dc bw bp jr hv\" src=\"https://miro.medium.com/fit/c/36/36/1*cGFmsof_PcS7PBHE0KEQoA.jpeg\" width=\"24\" height=\"24\" loading=\"lazy\"><div class=\"jq bw l bp jr js n\"></div></div></a></div><div class=\"jt bf ab ju\"><div class=\"ab\"><div style=\"flex: 1 1 0%;\"><span class=\"bd b be z bi\"><div class=\"ab q ju\"><a class=\"ae af ag ah ai aj ak al am an ao ap aq ar as\" rel=\"noopener follow\" href=\"/@salomeazeal?source=topics_v2---------10-84--------------------e6063c9b_b40f_4997_aa09_4f0f6c04d41e-------17\"><p class=\"bd b be z ff jv fg fh fi fj dh fk bi\">Salome Ogbijoko</p></a></div></span></div></div><div class=\"l ed\"><span class=\"bd b be z fr\"><div class=\"ab q\"><a class=\"\" rel=\"noopener follow\" href=\"/@salomeazeal/10-things-i-learned-in-my-first-year-as-a-product-manager-ff2ae0b07bd5?source=topics_v2---------10-84--------------------e6063c9b_b40f_4997_aa09_4f0f6c04d41e-------17\"><p class=\"bd b be z fr\"><span class=\"jw\">·</span>14 hours ago</p></a></div></span></div></div></div><div class=\"jx l\"><div class=\"l\"><div class=\"l dg\"><div class=\"jy\"><div class=\"l\"><div><div class=\"ab\"><div class=\"l cj kd\"><div class=\"l\"><a class=\"ae af ag ah ai aj ak al am an ao ap aq ar as\" aria-label=\"Post Preview Title\" rel=\"noopener follow\" href=\"/@salomeazeal/10-things-i-learned-in-my-first-year-as-a-product-manager-ff2ae0b07bd5?source=topics_v2---------10-84--------------------e6063c9b_b40f_4997_aa09_4f0f6c04d41e-------17\"><div class=\"ke kf kg kh ki l\"><h2 class=\"bd ej kj kk kl km eo kn ko kp kq es kr ks kt ku ew kv kw kx ky fa kz la lb lc fe ff fg fh fj fk bi\">10 Things I Learned in my First Year as a Product Manager</h2></div><div class=\"h k ld cv cz\"><p class=\"le b fq eh ff nk fg fh nl fj fk iz bi\">My journey into product management is unconventional. I had a BSc in Information Technology, worked as an IT support in between, then started an interior design consulting business before considering a career in digital product management. …</p></div></a></div><div class=\"lh h li k lj ld lk cv ll cz\"><div class=\"ab hp\"><div class=\"lm ln lo lp lq lr ls lt lu lv lw lx ly lz ma ab q\"><div class=\"fo mb mc md me mf ab\"><a class=\"bf\" rel=\"noopener follow\" href=\"/tag/product-management?source=topics_v2----------84----------product_management----------e6063c9b_b40f_4997_aa09_4f0f6c04d41e-------17\"><div class=\"mg dg hv jg jh ji bd b mh z bi gs ff fg\">Product Management</div></a></div><div class=\"ab ed\"><a class=\"ae af ag ah ai aj ak al am an ao ap aq ar as\" aria-label=\"Post Preview Reading Time\" rel=\"noopener follow\" href=\"/@salomeazeal/10-things-i-learned-in-my-first-year-as-a-product-manager-ff2ae0b07bd5?source=topics_v2---------10-84--------------------e6063c9b_b40f_4997_aa09_4f0f6c04d41e-------17\"><p class=\"bd b mh z fr\"><span>4 min read</span></p></a></div></div><div class=\"ab q mi mj\"><div><div class=\"bk\" aria-hidden=\"false\" aria-describedby=\"45\" aria-labelledby=\"45\"><span><a class=\"ae af ag ah ai aj ak al am an ao ap aq ar as\" rel=\"noopener follow\" href=\"/m/signin?actionUrl=https%3A%2F%2Fmedium.com%2F_%2Fbookmark%2Fp%2Fff2ae0b07bd5&amp;operation=register&amp;redirect=https%3A%2F%2Fmedium.com%2F%40salomeazeal%2F10-things-i-learned-in-my-first-year-as-a-product-manager-ff2ae0b07bd5&amp;source=---------10-84----------------bookmark_preview----e6063c9b_b40f_4997_aa09_4f0f6c04d41e-------17\"><svg width=\"25\" height=\"25\" viewBox=\"0 0 25 25\" fill=\"none\" class=\"po pp\"><path d=\"M18 2.5a.5.5 0 0 1 1 0V5h2.5a.5.5 0 0 1 0 1H19v2.5a.5.5 0 1 1-1 0V6h-2.5a.5.5 0 0 1 0-1H18V2.5zM7 7a1 1 0 0 1 1-1h3.5a.5.5 0 0 0 0-1H8a2 2 0 0 0-2 2v14a.5.5 0 0 0 .8.4l5.7-4.4 5.7 4.4a.5.5 0 0 0 .8-.4v-8.5a.5.5 0 0 0-1 0v7.48l-5.2-4a.5.5 0 0 0-.6 0l-5.2 4V7z\" fill=\"#292929\"></path></svg></a></span></div></div></div></div></div></div><div class=\"mk ml mm mn mo l\"><a class=\"ae af ag ah ai aj ak al am an ao ap aq ar as\" aria-label=\"Post Preview Image\" rel=\"noopener follow\" href=\"/@salomeazeal/10-things-i-learned-in-my-first-year-as-a-product-manager-ff2ae0b07bd5?source=topics_v2---------10-84--------------------e6063c9b_b40f_4997_aa09_4f0f6c04d41e-------17\"><div class=\"h k ld cv cz\"><img alt=\"10 Things I Learned in my First Year as a Product Manager\" class=\"\" src=\"https://miro.medium.com/fit/c/168/168/0*Dhs8PfWrwpqNzMW3\" width=\"112\" height=\"112\" loading=\"lazy\"></div><div class=\"mp mq j i d\"><img alt=\"10 Things I Learned in my First Year as a Product Manager\" class=\"\" src=\"https://miro.medium.com/fit/c/120/84/0*Dhs8PfWrwpqNzMW3\" width=\"80\" height=\"56\" loading=\"lazy\"></div></a></div></div><div class=\"l\"><div class=\"mr mp ms mq lj j lk i ll d\"><div class=\"ab hp\"><div class=\"lm ln lo lp lq lr ls lt lu lv lw lx ly lz ma ab q\"><div class=\"fo mb mc md me mf ab\"><a class=\"bf\" rel=\"noopener follow\" href=\"/tag/product-management?source=topics_v2----------84----------product_management----------e6063c9b_b40f_4997_aa09_4f0f6c04d41e-------17\"><div class=\"mg dg hv jg jh ji bd b mh z bi gs ff fg\">Product Management</div></a></div><div class=\"ab ed\"><a class=\"ae af ag ah ai aj ak al am an ao ap aq ar as\" aria-label=\"Post Preview Reading Time\" rel=\"noopener follow\" href=\"/@salomeazeal/10-things-i-learned-in-my-first-year-as-a-product-manager-ff2ae0b07bd5?source=topics_v2---------10-84--------------------e6063c9b_b40f_4997_aa09_4f0f6c04d41e-------17\"><p class=\"bd b mh z fr\"><span>4 min read</span></p></a></div></div><div class=\"ab q mi mj\"><div><div class=\"bk\" aria-hidden=\"false\" aria-describedby=\"46\" aria-labelledby=\"46\"><span><a class=\"ae af ag ah ai aj ak al am an ao ap aq ar as\" rel=\"noopener follow\" href=\"/m/signin?actionUrl=https%3A%2F%2Fmedium.com%2F_%2Fbookmark%2Fp%2Fff2ae0b07bd5&amp;operation=register&amp;redirect=https%3A%2F%2Fmedium.com%2F%40salomeazeal%2F10-things-i-learned-in-my-first-year-as-a-product-manager-ff2ae0b07bd5&amp;source=---------10-84----------------bookmark_preview----e6063c9b_b40f_4997_aa09_4f0f6c04d41e-------17\"><svg width=\"25\" height=\"25\" viewBox=\"0 0 25 25\" fill=\"none\" class=\"po pp\"><path d=\"M18 2.5a.5.5 0 0 1 1 0V5h2.5a.5.5 0 0 1 0 1H19v2.5a.5.5 0 1 1-1 0V6h-2.5a.5.5 0 0 1 0-1H18V2.5zM7 7a1 1 0 0 1 1-1h3.5a.5.5 0 0 0 0-1H8a2 2 0 0 0-2 2v14a.5.5 0 0 0 .8.4l5.7-4.4 5.7 4.4a.5.5 0 0 0 .8-.4v-8.5a.5.5 0 0 0-1 0v7.48l-5.2-4a.5.5 0 0 0-.6 0l-5.2 4V7z\" fill=\"#292929\"></path></svg></a></span></div></div></div></div></div></div></div></div></div></div><div class=\"jz ka kb kc ff\"></div></div></div></div></div></div></div></div></article><article><div class=\"jn jo jp l\"><div class=\"ab di\"><div class=\"dj bf dk dl dm dn\"><hr class=\"mt mu mv am\" aria-hidden=\"true\"><div class=\"bf df\"><div class=\"mw l\"><div class=\"q ab\"><div><a rel=\"noopener follow\" href=\"/@ajithtech?source=topics_v2---------11-84--------------------e6063c9b_b40f_4997_aa09_4f0f6c04d41e-------17\"><div class=\"l dg\"><img alt=\"Ajith R\" class=\"l dc bw bp jr hv\" src=\"https://miro.medium.com/fit/c/36/36/1*4jCIy-q36N9bk51lOu9SFQ.jpeg\" width=\"24\" height=\"24\" loading=\"lazy\"><div class=\"jq bw l bp jr js n\"></div></div></a></div><div class=\"jt bf ab ju\"><div class=\"ab\"><div style=\"flex: 1 1 0%;\"><span class=\"bd b be z bi\"><div class=\"ab q ju\"><a class=\"ae af ag ah ai aj ak al am an ao ap aq ar as\" rel=\"noopener follow\" href=\"/@ajithtech?source=topics_v2---------11-84--------------------e6063c9b_b40f_4997_aa09_4f0f6c04d41e-------17\"><p class=\"bd b be z ff jv fg fh fi fj dh fk bi\">Ajith R</p></a></div></span></div></div><div class=\"l ed\"><span class=\"bd b be z fr\"><div class=\"ab q\"><a class=\"\" rel=\"noopener follow\" href=\"/@ajithtech/ux-metrics-series-part-1-introduction-1ca018ff2cf7?source=topics_v2---------11-84--------------------e6063c9b_b40f_4997_aa09_4f0f6c04d41e-------17\"><p class=\"bd b be z fr\"><span class=\"jw\">·</span>10 hours ago</p></a></div></span></div></div></div><div class=\"jx l\"><div class=\"l\"><div class=\"l dg\"><div class=\"jy\"><div class=\"l\"><div><div class=\"ab\"><div class=\"l cj kd\"><div class=\"l\"><a class=\"ae af ag ah ai aj ak al am an ao ap aq ar as\" aria-label=\"Post Preview Title\" rel=\"noopener follow\" href=\"/@ajithtech/ux-metrics-series-part-1-introduction-1ca018ff2cf7?source=topics_v2---------11-84--------------------e6063c9b_b40f_4997_aa09_4f0f6c04d41e-------17\"><div class=\"ke kf kg kh ki l\"><h2 class=\"bd ej kj kk kl km eo kn ko kp kq es kr ks kt ku ew kv kw kx ky fa kz la lb lc fe ff fg fh fj fk bi\">UX metrics series— Part 1 : Introduction</h2></div><div class=\"h k ld cv cz\"><p class=\"le b fq eh ff lf fg fh lg fj fk iz bi\">What are UX metrics? How would you know if your design was successful? You probably wouldn’t know for sure if you don’t validate your solution in a measurable way! UX metrics are the indicators that show whether your product design strategy is working or not. Design is, of course, an iterative process — this…</p></div></a></div><div class=\"lh h li k lj ld lk cv ll cz\"><div class=\"ab hp\"><div class=\"lm ln lo lp lq lr ls lt lu lv lw lx ly lz ma ab q\"><div class=\"fo mb mc md me mf ab\"><a class=\"bf\" rel=\"noopener follow\" href=\"/tag/product-management?source=topics_v2----------84----------product_management----------e6063c9b_b40f_4997_aa09_4f0f6c04d41e-------17\"><div class=\"mg dg hv jg jh ji bd b mh z bi gs ff fg\">Product Management</div></a></div><div class=\"ab ed\"><a class=\"ae af ag ah ai aj ak al am an ao ap aq ar as\" aria-label=\"Post Preview Reading Time\" rel=\"noopener follow\" href=\"/@ajithtech/ux-metrics-series-part-1-introduction-1ca018ff2cf7?source=topics_v2---------11-84--------------------e6063c9b_b40f_4997_aa09_4f0f6c04d41e-------17\"><p class=\"bd b mh z fr\"><span>3 min read</span></p></a></div></div><div class=\"ab q mi mj\"><div><div class=\"bk\" aria-hidden=\"false\" aria-describedby=\"47\" aria-labelledby=\"47\"><span><a class=\"ae af ag ah ai aj ak al am an ao ap aq ar as\" rel=\"noopener follow\" href=\"/m/signin?actionUrl=https%3A%2F%2Fmedium.com%2F_%2Fbookmark%2Fp%2F1ca018ff2cf7&amp;operation=register&amp;redirect=https%3A%2F%2Fajithtech.medium.com%2Fux-metrics-series-part-1-introduction-1ca018ff2cf7&amp;source=---------11-84----------------bookmark_preview----e6063c9b_b40f_4997_aa09_4f0f6c04d41e-------17\"><svg width=\"25\" height=\"25\" viewBox=\"0 0 25 25\" fill=\"none\" class=\"po pp\"><path d=\"M18 2.5a.5.5 0 0 1 1 0V5h2.5a.5.5 0 0 1 0 1H19v2.5a.5.5 0 1 1-1 0V6h-2.5a.5.5 0 0 1 0-1H18V2.5zM7 7a1 1 0 0 1 1-1h3.5a.5.5 0 0 0 0-1H8a2 2 0 0 0-2 2v14a.5.5 0 0 0 .8.4l5.7-4.4 5.7 4.4a.5.5 0 0 0 .8-.4v-8.5a.5.5 0 0 0-1 0v7.48l-5.2-4a.5.5 0 0 0-.6 0l-5.2 4V7z\" fill=\"#292929\"></path></svg></a></span></div></div></div></div></div></div><div class=\"mk ml mm mn mo l\"><a class=\"ae af ag ah ai aj ak al am an ao ap aq ar as\" aria-label=\"Post Preview Image\" rel=\"noopener follow\" href=\"/@ajithtech/ux-metrics-series-part-1-introduction-1ca018ff2cf7?source=topics_v2---------11-84--------------------e6063c9b_b40f_4997_aa09_4f0f6c04d41e-------17\"><div class=\"h k ld cv cz\"><img alt=\"UX metrics series— Part 1&nbsp;: Introduction\" class=\"\" src=\"https://miro.medium.com/fit/c/168/168/0*mUOe4jHSL4XWeN4K\" width=\"112\" height=\"112\" loading=\"lazy\"></div><div class=\"mp mq j i d\"><img alt=\"UX metrics series— Part 1&nbsp;: Introduction\" class=\"\" src=\"https://miro.medium.com/fit/c/120/84/0*mUOe4jHSL4XWeN4K\" width=\"80\" height=\"56\" loading=\"lazy\"></div></a></div></div><div class=\"l\"><div class=\"mr mp ms mq lj j lk i ll d\"><div class=\"ab hp\"><div class=\"lm ln lo lp lq lr ls lt lu lv lw lx ly lz ma ab q\"><div class=\"fo mb mc md me mf ab\"><a class=\"bf\" rel=\"noopener follow\" href=\"/tag/product-management?source=topics_v2----------84----------product_management----------e6063c9b_b40f_4997_aa09_4f0f6c04d41e-------17\"><div class=\"mg dg hv jg jh ji bd b mh z bi gs ff fg\">Product Management</div></a></div><div class=\"ab ed\"><a class=\"ae af ag ah ai aj ak al am an ao ap aq ar as\" aria-label=\"Post Preview Reading Time\" rel=\"noopener follow\" href=\"/@ajithtech/ux-metrics-series-part-1-introduction-1ca018ff2cf7?source=topics_v2---------11-84--------------------e6063c9b_b40f_4997_aa09_4f0f6c04d41e-------17\"><p class=\"bd b mh z fr\"><span>3 min read</span></p></a></div></div><div class=\"ab q mi mj\"><div><div class=\"bk\" aria-hidden=\"false\" aria-describedby=\"48\" aria-labelledby=\"48\"><span><a class=\"ae af ag ah ai aj ak al am an ao ap aq ar as\" rel=\"noopener follow\" href=\"/m/signin?actionUrl=https%3A%2F%2Fmedium.com%2F_%2Fbookmark%2Fp%2F1ca018ff2cf7&amp;operation=register&amp;redirect=https%3A%2F%2Fajithtech.medium.com%2Fux-metrics-series-part-1-introduction-1ca018ff2cf7&amp;source=---------11-84----------------bookmark_preview----e6063c9b_b40f_4997_aa09_4f0f6c04d41e-------17\"><svg width=\"25\" height=\"25\" viewBox=\"0 0 25 25\" fill=\"none\" class=\"po pp\"><path d=\"M18 2.5a.5.5 0 0 1 1 0V5h2.5a.5.5 0 0 1 0 1H19v2.5a.5.5 0 1 1-1 0V6h-2.5a.5.5 0 0 1 0-1H18V2.5zM7 7a1 1 0 0 1 1-1h3.5a.5.5 0 0 0 0-1H8a2 2 0 0 0-2 2v14a.5.5 0 0 0 .8.4l5.7-4.4 5.7 4.4a.5.5 0 0 0 .8-.4v-8.5a.5.5 0 0 0-1 0v7.48l-5.2-4a.5.5 0 0 0-.6 0l-5.2 4V7z\" fill=\"#292929\"></path></svg></a></span></div></div></div></div></div></div></div></div></div></div><div class=\"jz ka kb kc ff\"></div></div></div></div></div></div></div></div></article><article><div class=\"jn jo jp l\"><div class=\"ab di\"><div class=\"dj bf dk dl dm dn\"><hr class=\"mt mu mv am\" aria-hidden=\"true\"><div class=\"bf df\"><div class=\"mw l\"><div class=\"q ab\"><div><a rel=\"noopener follow\" href=\"/@basil-o?source=topics_v2---------12-84--------------------e6063c9b_b40f_4997_aa09_4f0f6c04d41e-------17\"><div class=\"l dg\"><img alt=\"Basil\" class=\"l dc bw bp jr hv\" src=\"https://miro.medium.com/fit/c/36/36/1*bs7xJ3Fc50HMTa-rLA0-MA.png\" width=\"24\" height=\"24\" loading=\"lazy\"><div class=\"jq bw l bp jr js n\"></div></div></a></div><div class=\"jt bf ab ju\"><div class=\"ab\"><div style=\"flex: 1 1 0%;\"><span class=\"bd b be z bi\"><div class=\"ab q ju\"><a class=\"ae af ag ah ai aj ak al am an ao ap aq ar as\" rel=\"noopener follow\" href=\"/@basil-o?source=topics_v2---------12-84--------------------e6063c9b_b40f_4997_aa09_4f0f6c04d41e-------17\"><p class=\"bd b be z ff jv fg fh fi fj dh fk bi\">Basil</p></a></div></span></div></div><div class=\"l ed\"><span class=\"bd b be z fr\"><div class=\"ab q\"><a class=\"\" rel=\"noopener follow\" href=\"/@basil-o/case-study-for-any-do-537d2c0aaaae?source=topics_v2---------12-84--------------------e6063c9b_b40f_4997_aa09_4f0f6c04d41e-------17\"><p class=\"bd b be z fr\"><span class=\"jw\">·</span>12 hours ago</p></a></div></span></div></div></div><div class=\"jx l\"><div class=\"l\"><div class=\"l dg\"><div class=\"jy\"><div class=\"l\"><div><div class=\"ab\"><div class=\"l cj kd\"><div class=\"l\"><a class=\"ae af ag ah ai aj ak al am an ao ap aq ar as\" aria-label=\"Post Preview Title\" rel=\"noopener follow\" href=\"/@basil-o/case-study-for-any-do-537d2c0aaaae?source=topics_v2---------12-84--------------------e6063c9b_b40f_4997_aa09_4f0f6c04d41e-------17\"><div class=\"ke kf kg kh ki l\"><h2 class=\"bd ej kj kk kl km eo kn ko kp kq es kr ks kt ku ew kv kw kx ky fa kz la lb lc fe ff fg fh fj fk bi\">Case Study for Any.do</h2></div><div class=\"h k ld cv cz\"><p class=\"le b fq eh ff lf fg fh lg fj fk iz bi\">While carrying out the research for this case study, I spent a good amount of time trying to understand the target customers pain points and proposed a new feature that addresses customer needs and is viable for the business. Any.do is a collaboration and organisation tool that aids individuals and…</p></div></a></div><div class=\"lh h li k lj ld lk cv ll cz\"><div class=\"ab hp\"><div class=\"lm ln lo lp lq lr ls lt lu lv lw lx ly lz ma ab q\"><div class=\"fo mb mc md me mf ab\"><a class=\"bf\" rel=\"noopener follow\" href=\"/tag/product-management?source=topics_v2----------84----------product_management----------e6063c9b_b40f_4997_aa09_4f0f6c04d41e-------17\"><div class=\"mg dg hv jg jh ji bd b mh z bi gs ff fg\">Product Management</div></a></div><div class=\"ab ed\"><a class=\"ae af ag ah ai aj ak al am an ao ap aq ar as\" aria-label=\"Post Preview Reading Time\" rel=\"noopener follow\" href=\"/@basil-o/case-study-for-any-do-537d2c0aaaae?source=topics_v2---------12-84--------------------e6063c9b_b40f_4997_aa09_4f0f6c04d41e-------17\"><p class=\"bd b mh z fr\"><span>1 min read</span></p></a></div></div><div class=\"ab q mi mj\"><div><div class=\"bk\" aria-hidden=\"false\" aria-describedby=\"49\" aria-labelledby=\"49\"><span><a class=\"ae af ag ah ai aj ak al am an ao ap aq ar as\" rel=\"noopener follow\" href=\"/m/signin?actionUrl=https%3A%2F%2Fmedium.com%2F_%2Fbookmark%2Fp%2F537d2c0aaaae&amp;operation=register&amp;redirect=https%3A%2F%2Fbasil-o.medium.com%2Fcase-study-for-any-do-537d2c0aaaae&amp;source=---------12-84----------------bookmark_preview----e6063c9b_b40f_4997_aa09_4f0f6c04d41e-------17\"><svg width=\"25\" height=\"25\" viewBox=\"0 0 25 25\" fill=\"none\" class=\"po pp\"><path d=\"M18 2.5a.5.5 0 0 1 1 0V5h2.5a.5.5 0 0 1 0 1H19v2.5a.5.5 0 1 1-1 0V6h-2.5a.5.5 0 0 1 0-1H18V2.5zM7 7a1 1 0 0 1 1-1h3.5a.5.5 0 0 0 0-1H8a2 2 0 0 0-2 2v14a.5.5 0 0 0 .8.4l5.7-4.4 5.7 4.4a.5.5 0 0 0 .8-.4v-8.5a.5.5 0 0 0-1 0v7.48l-5.2-4a.5.5 0 0 0-.6 0l-5.2 4V7z\" fill=\"#292929\"></path></svg></a></span></div></div></div></div></div></div><div class=\"mk ml mm mn mo l\"><a class=\"ae af ag ah ai aj ak al am an ao ap aq ar as\" aria-label=\"Post Preview Image\" rel=\"noopener follow\" href=\"/@basil-o/case-study-for-any-do-537d2c0aaaae?source=topics_v2---------12-84--------------------e6063c9b_b40f_4997_aa09_4f0f6c04d41e-------17\"><div class=\"h k ld cv cz\"><img alt=\"Case Study for Any.do\" class=\"\" src=\"https://miro.medium.com/fit/c/168/168/1*IiUsDA3LBVsZsAhPhRb-bQ@2x.jpeg\" width=\"112\" height=\"112\" loading=\"lazy\"></div><div class=\"mp mq j i d\"><img alt=\"Case Study for Any.do\" class=\"\" src=\"https://miro.medium.com/fit/c/120/84/1*IiUsDA3LBVsZsAhPhRb-bQ@2x.jpeg\" width=\"80\" height=\"56\" loading=\"lazy\"></div></a></div></div><div class=\"l\"><div class=\"mr mp ms mq lj j lk i ll d\"><div class=\"ab hp\"><div class=\"lm ln lo lp lq lr ls lt lu lv lw lx ly lz ma ab q\"><div class=\"fo mb mc md me mf ab\"><a class=\"bf\" rel=\"noopener follow\" href=\"/tag/product-management?source=topics_v2----------84----------product_management----------e6063c9b_b40f_4997_aa09_4f0f6c04d41e-------17\"><div class=\"mg dg hv jg jh ji bd b mh z bi gs ff fg\">Product Management</div></a></div><div class=\"ab ed\"><a class=\"ae af ag ah ai aj ak al am an ao ap aq ar as\" aria-label=\"Post Preview Reading Time\" rel=\"noopener follow\" href=\"/@basil-o/case-study-for-any-do-537d2c0aaaae?source=topics_v2---------12-84--------------------e6063c9b_b40f_4997_aa09_4f0f6c04d41e-------17\"><p class=\"bd b mh z fr\"><span>1 min read</span></p></a></div></div><div class=\"ab q mi mj\"><div><div class=\"bk\" aria-hidden=\"false\" aria-describedby=\"50\" aria-labelledby=\"50\"><span><a class=\"ae af ag ah ai aj ak al am an ao ap aq ar as\" rel=\"noopener follow\" href=\"/m/signin?actionUrl=https%3A%2F%2Fmedium.com%2F_%2Fbookmark%2Fp%2F537d2c0aaaae&amp;operation=register&amp;redirect=https%3A%2F%2Fbasil-o.medium.com%2Fcase-study-for-any-do-537d2c0aaaae&amp;source=---------12-84----------------bookmark_preview----e6063c9b_b40f_4997_aa09_4f0f6c04d41e-------17\"><svg width=\"25\" height=\"25\" viewBox=\"0 0 25 25\" fill=\"none\" class=\"po pp\"><path d=\"M18 2.5a.5.5 0 0 1 1 0V5h2.5a.5.5 0 0 1 0 1H19v2.5a.5.5 0 1 1-1 0V6h-2.5a.5.5 0 0 1 0-1H18V2.5zM7 7a1 1 0 0 1 1-1h3.5a.5.5 0 0 0 0-1H8a2 2 0 0 0-2 2v14a.5.5 0 0 0 .8.4l5.7-4.4 5.7 4.4a.5.5 0 0 0 .8-.4v-8.5a.5.5 0 0 0-1 0v7.48l-5.2-4a.5.5 0 0 0-.6 0l-5.2 4V7z\" fill=\"#292929\"></path></svg></a></span></div></div></div></div></div></div></div></div></div></div><div class=\"jz ka kb kc ff\"></div></div></div></div></div></div></div></div></article><article class=\"meteredContent\"><div class=\"jn jo jp l\"><div class=\"ab di\"><div class=\"dj bf dk dl dm dn\"><hr class=\"mt mu mv am\" aria-hidden=\"true\"><div class=\"bf df\"><div class=\"mw l\"><div class=\"q ab\"><div><a rel=\"noopener follow\" href=\"/@dhavalthakur?source=topics_v2---------13-84--------------------e6063c9b_b40f_4997_aa09_4f0f6c04d41e-------17\"><div class=\"l dg\"><img alt=\"Dhaval Thakur\" class=\"l dc bw bp jr hv\" src=\"https://miro.medium.com/fit/c/36/36/1*8WfkWzybcqZL_9bciv0qnA.jpeg\" width=\"24\" height=\"24\" loading=\"lazy\"><div class=\"jq bw l bp jr js n\"></div></div></a></div><div class=\"jt bf ab ju\"><div class=\"ab\"><div style=\"flex: 1 1 0%;\"><span class=\"bd b be z bi\"><div class=\"ab q ju\"><a class=\"ae af ag ah ai aj ak al am an ao ap aq ar as\" rel=\"noopener follow\" href=\"/@dhavalthakur?source=topics_v2---------13-84--------------------e6063c9b_b40f_4997_aa09_4f0f6c04d41e-------17\"><p class=\"bd b be z ff jv fg fh fi fj dh fk bi\">Dhaval Thakur</p></a></div></span></div></div><div class=\"l ed\"><span class=\"bd b be z fr\"><div class=\"ab q\"><a class=\"\" rel=\"noopener follow\" href=\"/@dhavalthakur/the-4-ds-productivity-hack-for-product-managers-f953abea6cc4?source=topics_v2---------13-84--------------------e6063c9b_b40f_4997_aa09_4f0f6c04d41e-------17\"><p class=\"bd b be z fr\"><span class=\"jw\">·</span>7 hours ago</p></a><div class=\"nn jp l\"><div class=\"l\" aria-hidden=\"false\" aria-describedby=\"51\" aria-labelledby=\"51\"><button class=\"l aw hj al\"><div class=\"j i d\"><div><div class=\"bk\" aria-hidden=\"false\" aria-describedby=\"52\" aria-labelledby=\"52\"><svg width=\"20\" height=\"20\" viewBox=\"0 0 20 20\" fill=\"none\"><path d=\"M12.4 12.77l-1.81 4.99a.63.63 0 0 1-1.18 0l-1.8-4.99a.63.63 0 0 0-.38-.37l-4.99-1.81a.62.62 0 0 1 0-1.18l4.99-1.8a.63.63 0 0 0 .37-.38l1.81-4.99a.63.63 0 0 1 1.18 0l1.8 4.99a.63.63 0 0 0 .38.37l4.99 1.81a.63.63 0 0 1 0 1.18l-4.99 1.8a.63.63 0 0 0-.37.38z\" fill=\"#FFC017\"></path></svg></div></div></div><div class=\"h k w no np\"><svg width=\"20\" height=\"20\" viewBox=\"0 0 20 20\" fill=\"none\" class=\"nm\"><path d=\"M12.4 12.77l-1.81 4.99a.63.63 0 0 1-1.18 0l-1.8-4.99a.63.63 0 0 0-.38-.37l-4.99-1.81a.62.62 0 0 1 0-1.18l4.99-1.8a.63.63 0 0 0 .37-.38l1.81-4.99a.63.63 0 0 1 1.18 0l1.8 4.99a.63.63 0 0 0 .38.37l4.99 1.81a.63.63 0 0 1 0 1.18l-4.99 1.8a.63.63 0 0 0-.37.38z\" fill=\"#FFC017\"></path></svg><p class=\"bd b be z fr\">Member-only</p></div></button></div></div></div></span></div></div></div><div class=\"jx l\"><div class=\"l\"><div class=\"l dg\"><div class=\"jy\"><div class=\"l\"><div><div class=\"ab\"><div class=\"l cj kd\"><div class=\"l\"><a class=\"ae af ag ah ai aj ak al am an ao ap aq ar as\" aria-label=\"Post Preview Title\" rel=\"noopener follow\" href=\"/@dhavalthakur/the-4-ds-productivity-hack-for-product-managers-f953abea6cc4?source=topics_v2---------13-84--------------------e6063c9b_b40f_4997_aa09_4f0f6c04d41e-------17\"><div class=\"ke kf kg kh ki l\"><h2 class=\"bd ej kj kk kl km eo kn ko kp kq es kr ks kt ku ew kv kw kx ky fa kz la lb lc fe ff fg fh fj fk bi\">The 4 D’s Productivity Hack for Product Managers</h2></div><div class=\"h k ld cv cz\"><p class=\"le b fq eh ff lf fg fh lg fj fk iz bi\">I have been writing a lot this year on product managers. Be it the differences or salaries. In this post, I am going to go through one of the productivity hacks which I got to know online while searching random information regarding product! So the productivity hack that I am…</p></div></a></div><div class=\"lh h li k lj ld lk cv ll cz\"><div class=\"ab hp\"><div class=\"lm ln lo lp lq lr ls lt lu lv lw lx ly lz ma ab q\"><div class=\"fo mb mc md me mf ab\"><a class=\"bf\" rel=\"noopener follow\" href=\"/tag/product-management?source=topics_v2----------84----------product_management----------e6063c9b_b40f_4997_aa09_4f0f6c04d41e-------17\"><div class=\"mg dg hv jg jh ji bd b mh z bi gs ff fg\">Product Management</div></a></div><div class=\"ab ed\"><a class=\"ae af ag ah ai aj ak al am an ao ap aq ar as\" aria-label=\"Post Preview Reading Time\" rel=\"noopener follow\" href=\"/@dhavalthakur/the-4-ds-productivity-hack-for-product-managers-f953abea6cc4?source=topics_v2---------13-84--------------------e6063c9b_b40f_4997_aa09_4f0f6c04d41e-------17\"><p class=\"bd b mh z fr\"><span>2 min read</span></p></a></div></div><div class=\"ab q mi mj\"><div><div class=\"bk\" aria-hidden=\"false\" aria-describedby=\"53\" aria-labelledby=\"53\"><span><a class=\"ae af ag ah ai aj ak al am an ao ap aq ar as\" rel=\"noopener follow\" href=\"/m/signin?actionUrl=https%3A%2F%2Fmedium.com%2F_%2Fbookmark%2Fp%2Ff953abea6cc4&amp;operation=register&amp;redirect=https%3A%2F%2Fdhavalthakur.medium.com%2Fthe-4-ds-productivity-hack-for-product-managers-f953abea6cc4&amp;source=---------13-84----------------bookmark_preview----e6063c9b_b40f_4997_aa09_4f0f6c04d41e-------17\"><svg width=\"25\" height=\"25\" viewBox=\"0 0 25 25\" fill=\"none\" class=\"po pp\"><path d=\"M18 2.5a.5.5 0 0 1 1 0V5h2.5a.5.5 0 0 1 0 1H19v2.5a.5.5 0 1 1-1 0V6h-2.5a.5.5 0 0 1 0-1H18V2.5zM7 7a1 1 0 0 1 1-1h3.5a.5.5 0 0 0 0-1H8a2 2 0 0 0-2 2v14a.5.5 0 0 0 .8.4l5.7-4.4 5.7 4.4a.5.5 0 0 0 .8-.4v-8.5a.5.5 0 0 0-1 0v7.48l-5.2-4a.5.5 0 0 0-.6 0l-5.2 4V7z\" fill=\"#292929\"></path></svg></a></span></div></div></div></div></div></div><div class=\"mk ml mm mn mo l\"><a class=\"ae af ag ah ai aj ak al am an ao ap aq ar as\" aria-label=\"Post Preview Image\" rel=\"noopener follow\" href=\"/@dhavalthakur/the-4-ds-productivity-hack-for-product-managers-f953abea6cc4?source=topics_v2---------13-84--------------------e6063c9b_b40f_4997_aa09_4f0f6c04d41e-------17\"><div class=\"h k ld cv cz\"><img alt=\"The 4 D’s Productivity Hack for Product Managers\" class=\"\" src=\"https://miro.medium.com/fit/c/168/168/0*xmoFOmV6E4W7r4rT.png\" width=\"112\" height=\"112\" loading=\"lazy\"></div><div class=\"mp mq j i d\"><img alt=\"The 4 D’s Productivity Hack for Product Managers\" class=\"\" src=\"https://miro.medium.com/fit/c/120/84/0*xmoFOmV6E4W7r4rT.png\" width=\"80\" height=\"56\" loading=\"lazy\"></div></a></div></div><div class=\"l\"><div class=\"mr mp ms mq lj j lk i ll d\"><div class=\"ab hp\"><div class=\"lm ln lo lp lq lr ls lt lu lv lw lx ly lz ma ab q\"><div class=\"fo mb mc md me mf ab\"><a class=\"bf\" rel=\"noopener follow\" href=\"/tag/product-management?source=topics_v2----------84----------product_management----------e6063c9b_b40f_4997_aa09_4f0f6c04d41e-------17\"><div class=\"mg dg hv jg jh ji bd b mh z bi gs ff fg\">Product Management</div></a></div><div class=\"ab ed\"><a class=\"ae af ag ah ai aj ak al am an ao ap aq ar as\" aria-label=\"Post Preview Reading Time\" rel=\"noopener follow\" href=\"/@dhavalthakur/the-4-ds-productivity-hack-for-product-managers-f953abea6cc4?source=topics_v2---------13-84--------------------e6063c9b_b40f_4997_aa09_4f0f6c04d41e-------17\"><p class=\"bd b mh z fr\"><span>2 min read</span></p></a></div></div><div class=\"ab q mi mj\"><div><div class=\"bk\" aria-hidden=\"false\" aria-describedby=\"54\" aria-labelledby=\"54\"><span><a class=\"ae af ag ah ai aj ak al am an ao ap aq ar as\" rel=\"noopener follow\" href=\"/m/signin?actionUrl=https%3A%2F%2Fmedium.com%2F_%2Fbookmark%2Fp%2Ff953abea6cc4&amp;operation=register&amp;redirect=https%3A%2F%2Fdhavalthakur.medium.com%2Fthe-4-ds-productivity-hack-for-product-managers-f953abea6cc4&amp;source=---------13-84----------------bookmark_preview----e6063c9b_b40f_4997_aa09_4f0f6c04d41e-------17\"><svg width=\"25\" height=\"25\" viewBox=\"0 0 25 25\" fill=\"none\" class=\"po pp\"><path d=\"M18 2.5a.5.5 0 0 1 1 0V5h2.5a.5.5 0 0 1 0 1H19v2.5a.5.5 0 1 1-1 0V6h-2.5a.5.5 0 0 1 0-1H18V2.5zM7 7a1 1 0 0 1 1-1h3.5a.5.5 0 0 0 0-1H8a2 2 0 0 0-2 2v14a.5.5 0 0 0 .8.4l5.7-4.4 5.7 4.4a.5.5 0 0 0 .8-.4v-8.5a.5.5 0 0 0-1 0v7.48l-5.2-4a.5.5 0 0 0-.6 0l-5.2 4V7z\" fill=\"#292929\"></path></svg></a></span></div></div></div></div></div></div></div></div></div></div><div class=\"jz ka kb kc ff\"></div></div></div></div></div></div></div></div></article><article><div class=\"jn jo jp l\"><div class=\"ab di\"><div class=\"dj bf dk dl dm dn\"><hr class=\"mt mu mv am\" aria-hidden=\"true\"><div class=\"bf df\"><div class=\"mw l\"><div class=\"q ab\"><div><a rel=\"noopener follow\" href=\"/@mynameisobi_63362?source=topics_v2---------14-84--------------------d3770f5a_4ced_47ff_81c4_33ada85f5735-------17\"><div class=\"l dg\"><img alt=\"Obi Nwokedi\" class=\"l dc bw bp jr hv\" src=\"https://miro.medium.com/fit/c/36/36/1*Bfi54KhDXHjes7IQ9FMMdg.jpeg\" width=\"24\" height=\"24\" loading=\"lazy\"><div class=\"jq bw l bp jr js n\"></div></div></a></div><div class=\"jt bf ab ju\"><div class=\"ab\"><div style=\"flex: 1 1 0%;\"><span class=\"bd b be z bi\"><div class=\"ab q ju\"><a class=\"ae af ag ah ai aj ak al am an ao ap aq ar as\" rel=\"noopener follow\" href=\"/@mynameisobi_63362?source=topics_v2---------14-84--------------------d3770f5a_4ced_47ff_81c4_33ada85f5735-------17\"><p class=\"bd b be z ff jv fg fh fi fj dh fk bi\">Obi Nwokedi</p></a></div></span></div></div><div class=\"l ed\"><span class=\"bd b be z fr\"><div class=\"ab q\"><a class=\"\" rel=\"noopener follow\" href=\"/@mynameisobi_63362/top-ba-skill-time-management-6d70f69eacbc?source=topics_v2---------14-84--------------------d3770f5a_4ced_47ff_81c4_33ada85f5735-------17\"><p class=\"bd b be z fr\"><span class=\"jw\">·</span>6 hours ago</p></a></div></span></div></div></div><div class=\"jx l\"><div class=\"l\"><div class=\"l dg\"><div class=\"jy\"><div class=\"l\"><div><div class=\"ab\"><div class=\"l cj kd\"><div class=\"l\"><a class=\"ae af ag ah ai aj ak al am an ao ap aq ar as\" aria-label=\"Post Preview Title\" rel=\"noopener follow\" href=\"/@mynameisobi_63362/top-ba-skill-time-management-6d70f69eacbc?source=topics_v2---------14-84--------------------d3770f5a_4ced_47ff_81c4_33ada85f5735-------17\"><div class=\"ke kf kg kh ki l\"><h2 class=\"bd ej kj kk kl km eo kn ko kp kq es kr ks kt ku ew kv kw kx ky fa kz la lb lc fe ff fg fh fj fk bi\">Top BA Skill — Time Management</h2></div><div class=\"h k ld cv cz\"><p class=\"le b fq eh ff lf fg fh lg fj fk iz bi\">Effective time management is a crucial skill for business analysts to possess, as it allows usto prioritize our tasks and deliver high-quality work on time. Some of my top 10 time management skills include:</p></div></a></div><div class=\"lh h li k lj ld lk cv ll cz\"><div class=\"ab hp\"><div class=\"lm ln lo lp lq lr ls lt lu lv lw lx ly lz ma ab q\"><div class=\"fo mb mc md me mf ab\"><a class=\"bf\" rel=\"noopener follow\" href=\"/tag/product-management?source=topics_v2----------84----------product_management----------d3770f5a_4ced_47ff_81c4_33ada85f5735-------17\"><div class=\"mg dg hv jg jh ji bd b mh z bi gs ff fg\">Product Management</div></a></div><div class=\"ab ed\"><a class=\"ae af ag ah ai aj ak al am an ao ap aq ar as\" aria-label=\"Post Preview Reading Time\" rel=\"noopener follow\" href=\"/@mynameisobi_63362/top-ba-skill-time-management-6d70f69eacbc?source=topics_v2---------14-84--------------------d3770f5a_4ced_47ff_81c4_33ada85f5735-------17\"><p class=\"bd b mh z fr\"><span>5 min read</span></p></a></div></div><div class=\"ab q mi mj\"><div><div class=\"bk\" aria-hidden=\"false\" aria-describedby=\"115\" aria-labelledby=\"115\"><span><a class=\"ae af ag ah ai aj ak al am an ao ap aq ar as\" rel=\"noopener follow\" href=\"/m/signin?actionUrl=https%3A%2F%2Fmedium.com%2F_%2Fbookmark%2Fp%2F6d70f69eacbc&amp;operation=register&amp;redirect=https%3A%2F%2Fmedium.com%2F%40mynameisobi_63362%2Ftop-ba-skill-time-management-6d70f69eacbc&amp;source=---------14-84----------------bookmark_preview----d3770f5a_4ced_47ff_81c4_33ada85f5735-------17\"><svg width=\"25\" height=\"25\" viewBox=\"0 0 25 25\" fill=\"none\" class=\"po pp\"><path d=\"M18 2.5a.5.5 0 0 1 1 0V5h2.5a.5.5 0 0 1 0 1H19v2.5a.5.5 0 1 1-1 0V6h-2.5a.5.5 0 0 1 0-1H18V2.5zM7 7a1 1 0 0 1 1-1h3.5a.5.5 0 0 0 0-1H8a2 2 0 0 0-2 2v14a.5.5 0 0 0 .8.4l5.7-4.4 5.7 4.4a.5.5 0 0 0 .8-.4v-8.5a.5.5 0 0 0-1 0v7.48l-5.2-4a.5.5 0 0 0-.6 0l-5.2 4V7z\" fill=\"#292929\"></path></svg></a></span></div></div></div></div></div></div><div class=\"mk ml mm mn mo l\"><a class=\"ae af ag ah ai aj ak al am an ao ap aq ar as\" aria-label=\"Post Preview Image\" rel=\"noopener follow\" href=\"/@mynameisobi_63362/top-ba-skill-time-management-6d70f69eacbc?source=topics_v2---------14-84--------------------d3770f5a_4ced_47ff_81c4_33ada85f5735-------17\"><div class=\"h k ld cv cz\"><img alt=\"Top BA Skill — Time Management\" class=\"\" src=\"https://miro.medium.com/fit/c/168/168/1*jNtTx4G29CfBNUGdxuU9wA.png\" width=\"112\" height=\"112\" loading=\"lazy\"></div><div class=\"mp mq j i d\"><img alt=\"Top BA Skill — Time Management\" class=\"\" src=\"https://miro.medium.com/fit/c/120/84/1*jNtTx4G29CfBNUGdxuU9wA.png\" width=\"80\" height=\"56\" loading=\"lazy\"></div></a></div></div><div class=\"l\"><div class=\"mr mp ms mq lj j lk i ll d\"><div class=\"ab hp\"><div class=\"lm ln lo lp lq lr ls lt lu lv lw lx ly lz ma ab q\"><div class=\"fo mb mc md me mf ab\"><a class=\"bf\" rel=\"noopener follow\" href=\"/tag/product-management?source=topics_v2----------84----------product_management----------d3770f5a_4ced_47ff_81c4_33ada85f5735-------17\"><div class=\"mg dg hv jg jh ji bd b mh z bi gs ff fg\">Product Management</div></a></div><div class=\"ab ed\"><a class=\"ae af ag ah ai aj ak al am an ao ap aq ar as\" aria-label=\"Post Preview Reading Time\" rel=\"noopener follow\" href=\"/@mynameisobi_63362/top-ba-skill-time-management-6d70f69eacbc?source=topics_v2---------14-84--------------------d3770f5a_4ced_47ff_81c4_33ada85f5735-------17\"><p class=\"bd b mh z fr\"><span>5 min read</span></p></a></div></div><div class=\"ab q mi mj\"><div><div class=\"bk\" aria-hidden=\"false\" aria-describedby=\"116\" aria-labelledby=\"116\"><span><a class=\"ae af ag ah ai aj ak al am an ao ap aq ar as\" rel=\"noopener follow\" href=\"/m/signin?actionUrl=https%3A%2F%2Fmedium.com%2F_%2Fbookmark%2Fp%2F6d70f69eacbc&amp;operation=register&amp;redirect=https%3A%2F%2Fmedium.com%2F%40mynameisobi_63362%2Ftop-ba-skill-time-management-6d70f69eacbc&amp;source=---------14-84----------------bookmark_preview----d3770f5a_4ced_47ff_81c4_33ada85f5735-------17\"><svg width=\"25\" height=\"25\" viewBox=\"0 0 25 25\" fill=\"none\" class=\"po pp\"><path d=\"M18 2.5a.5.5 0 0 1 1 0V5h2.5a.5.5 0 0 1 0 1H19v2.5a.5.5 0 1 1-1 0V6h-2.5a.5.5 0 0 1 0-1H18V2.5zM7 7a1 1 0 0 1 1-1h3.5a.5.5 0 0 0 0-1H8a2 2 0 0 0-2 2v14a.5.5 0 0 0 .8.4l5.7-4.4 5.7 4.4a.5.5 0 0 0 .8-.4v-8.5a.5.5 0 0 0-1 0v7.48l-5.2-4a.5.5 0 0 0-.6 0l-5.2 4V7z\" fill=\"#292929\"></path></svg></a></span></div></div></div></div></div></div></div></div></div></div><div class=\"jz ka kb kc ff\"></div></div></div></div></div></div></div></div></article></div><div></div></div></main></div></div></div></div></div><script>window.__BUILD_ID__=\"main-20221216-183530-21505afb07\"</script><script>window.__GRAPHQL_URI__ = \"https://medium.com/_/graphql\"</script><script>window.__PRELOADED_STATE__ = {\"algolia\":{\"queries\":{}},\"auroraPage\":{\"isAuroraPageEnabled\":false},\"cache\":{\"experimentGroupSet\":true,\"reason\":\"\",\"group\":\"enabled\",\"tags\":[\"group-edgeCacheTags\",\"tag-product-management\"],\"serverVariantState\":\"44136fa355b3678a1146ad16f7e8649e94fb4fc21fe77e8310c060f61caaff8a\",\"middlewareEnabled\":true,\"cacheStatus\":\"DYNAMIC\",\"shouldUseCache\":true,\"vary\":[],\"inDisabledExperiment\":false},\"client\":{\"hydrated\":false,\"isUs\":false,\"isNativeMedium\":false,\"isSafariMobile\":false,\"isSafari\":false,\"isFirefox\":false,\"routingEntity\":{\"type\":\"DEFAULT\",\"explicit\":false},\"viewerIsBot\":false},\"debug\":{\"requestId\":\"feffdbf3-75cc-4a85-be6d-8ecf25b1eca8\",\"hybridDevServices\":[],\"originalSpanCarrier\":{\"ot-tracer-spanid\":\"022bff78470927b8\",\"ot-tracer-traceid\":\"c70d544dea8cd55\",\"ot-tracer-sampled\":\"true\"}},\"meter\":{},\"multiVote\":{\"clapsPerPost\":{}},\"navigation\":{\"branch\":{\"show\":null,\"hasRendered\":null,\"blockedByCTA\":false},\"hideGoogleOneTap\":false,\"hasRenderedAlternateUserBanner\":null,\"currentLocation\":\"https:\\u002F\\u002Fmedium.com\\u002Ftag\\u002Fproduct-management\",\"host\":\"medium.com\",\"hostname\":\"medium.com\",\"referrer\":\"\",\"hasSetReferrer\":false,\"susiModal\":{\"step\":null,\"operation\":\"register\"},\"postRead\":false,\"queryString\":\"\",\"currentHash\":\"\"},\"config\":{\"nodeEnv\":\"production\",\"version\":\"main-20221216-191113-21505afb07\",\"target\":\"production\",\"productName\":\"Medium\",\"publicUrl\":\"https:\\u002F\\u002Fcdn-client.medium.com\\u002Flite\",\"authDomain\":\"medium.com\",\"authGoogleClientId\":\"216296035834-k1k6qe060s2tp2a2jam4ljdcms00sttg.apps.googleusercontent.com\",\"favicon\":\"production\",\"glyphUrl\":\"https:\\u002F\\u002Fglyph.medium.com\",\"branchKey\":\"key_live_ofxXr2qTrrU9NqURK8ZwEhknBxiI6KBm\",\"algolia\":{\"appId\":\"MQ57UUUQZ2\",\"apiKeySearch\":\"394474ced050e3911ae2249ecc774921\",\"indexPrefix\":\"medium_\",\"host\":\"-dsn.algolia.net\"},\"recaptchaKey\":\"6Lfc37IUAAAAAKGGtC6rLS13R1Hrw_BqADfS1LRk\",\"recaptcha3Key\":\"6Lf8R9wUAAAAABMI_85Wb8melS7Zj6ziuf99Yot5\",\"datadog\":{\"applicationId\":\"6702d87d-a7e0-42fe-bbcb-95b469547ea0\",\"clientToken\":\"pub853ea8d17ad6821d9f8f11861d23dfed\",\"rumToken\":\"pubf9cc52896502b9413b68ba36fc0c7162\",\"context\":{\"deployment\":{\"target\":\"production\",\"tag\":\"main-20221216-191113-21505afb07\",\"commit\":\"21505afb07e3ad71516b0d7152eb81d347b4fdd7\"}},\"datacenter\":\"us\"},\"googleAnalyticsCode\":\"UA-24232453-2\",\"googlePay\":{\"apiVersion\":\"2\",\"apiVersionMinor\":\"0\",\"merchantId\":\"BCR2DN6TV7EMTGBM\",\"merchantName\":\"Medium\",\"instanceMerchantId\":\"13685562959212738550\"},\"applePay\":{\"version\":3},\"signInWallCustomDomainCollectionIds\":[\"3a8144eabfe3\",\"336d898217ee\",\"61061eb0c96b\",\"138adf9c44c\",\"819cc2aaeee0\"],\"mediumOwnedAndOperatedCollectionIds\":[\"8a9336e5bb4\",\"b7e45b22fec3\",\"193b68bd4fba\",\"8d6b8a439e32\",\"54c98c43354d\",\"3f6ecf56618\",\"d944778ce714\",\"92d2092dc598\",\"ae2a65f35510\",\"1285ba81cada\",\"544c7006046e\",\"fc8964313712\",\"40187e704f1c\",\"88d9857e584e\",\"7b6769f2748b\",\"bcc38c8f6edf\",\"cef6983b292\",\"cb8577c9149e\",\"444d13b52878\",\"713d7dbc99b0\",\"ef8e90590e66\",\"191186aaafa0\",\"55760f21cdc5\",\"9dc80918cc93\",\"bdc4052bbdba\",\"8ccfed20cbb2\"],\"tierOneDomains\":[\"medium.com\",\"thebolditalic.com\",\"arcdigital.media\",\"towardsdatascience.com\",\"uxdesign.cc\",\"codeburst.io\",\"psiloveyou.xyz\",\"writingcooperative.com\",\"entrepreneurshandbook.co\",\"prototypr.io\",\"betterhumans.coach.me\",\"theascent.pub\"],\"topicsToFollow\":[\"d61cf867d93f\",\"8a146bc21b28\",\"1eca0103fff3\",\"4d562ee63426\",\"aef1078a3ef5\",\"e15e46793f8d\",\"6158eb913466\",\"55f1c20aba7a\",\"3d18b94f6858\",\"4861fee224fd\",\"63c6f1f93ee\",\"1d98b3a9a871\",\"decb52b64abf\",\"ae5d4995e225\",\"830cded25262\"],\"topicToTagMappings\":{\"accessibility\":\"accessibility\",\"addiction\":\"addiction\",\"android-development\":\"android-development\",\"art\":\"art\",\"artificial-intelligence\":\"artificial-intelligence\",\"astrology\":\"astrology\",\"basic-income\":\"basic-income\",\"beauty\":\"beauty\",\"biotech\":\"biotech\",\"blockchain\":\"blockchain\",\"books\":\"books\",\"business\":\"business\",\"cannabis\":\"cannabis\",\"cities\":\"cities\",\"climate-change\":\"climate-change\",\"comics\":\"comics\",\"coronavirus\":\"coronavirus\",\"creativity\":\"creativity\",\"cryptocurrency\":\"cryptocurrency\",\"culture\":\"culture\",\"cybersecurity\":\"cybersecurity\",\"data-science\":\"data-science\",\"design\":\"design\",\"digital-life\":\"digital-life\",\"disability\":\"disability\",\"economy\":\"economy\",\"education\":\"education\",\"equality\":\"equality\",\"family\":\"family\",\"feminism\":\"feminism\",\"fiction\":\"fiction\",\"film\":\"film\",\"fitness\":\"fitness\",\"food\":\"food\",\"freelancing\":\"freelancing\",\"future\":\"future\",\"gadgets\":\"gadgets\",\"gaming\":\"gaming\",\"gun-control\":\"gun-control\",\"health\":\"health\",\"history\":\"history\",\"humor\":\"humor\",\"immigration\":\"immigration\",\"ios-development\":\"ios-development\",\"javascript\":\"javascript\",\"justice\":\"justice\",\"language\":\"language\",\"leadership\":\"leadership\",\"lgbtqia\":\"lgbtqia\",\"lifestyle\":\"lifestyle\",\"machine-learning\":\"machine-learning\",\"makers\":\"makers\",\"marketing\":\"marketing\",\"math\":\"math\",\"media\":\"media\",\"mental-health\":\"mental-health\",\"mindfulness\":\"mindfulness\",\"money\":\"money\",\"music\":\"music\",\"neuroscience\":\"neuroscience\",\"nonfiction\":\"nonfiction\",\"outdoors\":\"outdoors\",\"parenting\":\"parenting\",\"pets\":\"pets\",\"philosophy\":\"philosophy\",\"photography\":\"photography\",\"podcasts\":\"podcast\",\"poetry\":\"poetry\",\"politics\":\"politics\",\"privacy\":\"privacy\",\"product-management\":\"product-management\",\"productivity\":\"productivity\",\"programming\":\"programming\",\"psychedelics\":\"psychedelics\",\"psychology\":\"psychology\",\"race\":\"race\",\"relationships\":\"relationships\",\"religion\":\"religion\",\"remote-work\":\"remote-work\",\"san-francisco\":\"san-francisco\",\"science\":\"science\",\"self\":\"self\",\"self-driving-cars\":\"self-driving-cars\",\"sexuality\":\"sexuality\",\"social-media\":\"social-media\",\"society\":\"society\",\"software-engineering\":\"software-engineering\",\"space\":\"space\",\"spirituality\":\"spirituality\",\"sports\":\"sports\",\"startups\":\"startup\",\"style\":\"style\",\"technology\":\"technology\",\"transportation\":\"transportation\",\"travel\":\"travel\",\"true-crime\":\"true-crime\",\"tv\":\"tv\",\"ux\":\"ux\",\"venture-capital\":\"venture-capital\",\"visual-design\":\"visual-design\",\"work\":\"work\",\"world\":\"world\",\"writing\":\"writing\"},\"defaultImages\":{\"avatar\":{\"imageId\":\"1*dmbNkD5D-u45r44go_cf0g.png\",\"height\":150,\"width\":150},\"orgLogo\":{\"imageId\":\"1*OMF3fSqH8t4xBJ9-6oZDZw.png\",\"height\":106,\"width\":545},\"postLogo\":{\"imageId\":\"1*kFrc4tBFM_tCis-2Ic87WA.png\",\"height\":810,\"width\":1440},\"postPreviewImage\":{\"imageId\":\"1*hn4v1tCaJy7cWMyb0bpNpQ.png\",\"height\":386,\"width\":579}},\"collectionStructuredData\":{\"8d6b8a439e32\":{\"name\":\"Elemental\",\"data\":{\"@type\":\"NewsMediaOrganization\",\"ethicsPolicy\":\"https:\\u002F\\u002Fhelp.medium.com\\u002Fhc\\u002Fen-us\\u002Farticles\\u002F360043290473\",\"logo\":{\"@type\":\"ImageObject\",\"url\":\"https:\\u002F\\u002Fcdn-images-1.medium.com\\u002Fmax\\u002F980\\u002F1*9ygdqoKprhwuTVKUM0DLPA@2x.png\",\"width\":980,\"height\":159}}},\"3f6ecf56618\":{\"name\":\"Forge\",\"data\":{\"@type\":\"NewsMediaOrganization\",\"ethicsPolicy\":\"https:\\u002F\\u002Fhelp.medium.com\\u002Fhc\\u002Fen-us\\u002Farticles\\u002F360043290473\",\"logo\":{\"@type\":\"ImageObject\",\"url\":\"https:\\u002F\\u002Fcdn-images-1.medium.com\\u002Fmax\\u002F596\\u002F1*uULpIlImcO5TDuBZ6lm7Lg@2x.png\",\"width\":596,\"height\":183}}},\"ae2a65f35510\":{\"name\":\"GEN\",\"data\":{\"@type\":\"NewsMediaOrganization\",\"ethicsPolicy\":\"https:\\u002F\\u002Fhelp.medium.com\\u002Fhc\\u002Fen-us\\u002Farticles\\u002F360043290473\",\"logo\":{\"@type\":\"ImageObject\",\"url\":\"https:\\u002F\\u002Fmiro.medium.com\\u002Fmax\\u002F264\\u002F1*RdVZMdvfV3YiZTw6mX7yWA.png\",\"width\":264,\"height\":140}}},\"88d9857e584e\":{\"name\":\"LEVEL\",\"data\":{\"@type\":\"NewsMediaOrganization\",\"ethicsPolicy\":\"https:\\u002F\\u002Fhelp.medium.com\\u002Fhc\\u002Fen-us\\u002Farticles\\u002F360043290473\",\"logo\":{\"@type\":\"ImageObject\",\"url\":\"https:\\u002F\\u002Fmiro.medium.com\\u002Fmax\\u002F540\\u002F1*JqYMhNX6KNNb2UlqGqO2WQ.png\",\"width\":540,\"height\":108}}},\"7b6769f2748b\":{\"name\":\"Marker\",\"data\":{\"@type\":\"NewsMediaOrganization\",\"ethicsPolicy\":\"https:\\u002F\\u002Fhelp.medium.com\\u002Fhc\\u002Fen-us\\u002Farticles\\u002F360043290473\",\"logo\":{\"@type\":\"ImageObject\",\"url\":\"https:\\u002F\\u002Fcdn-images-1.medium.com\\u002Fmax\\u002F383\\u002F1*haCUs0wF6TgOOvfoY-jEoQ@2x.png\",\"width\":383,\"height\":92}}},\"444d13b52878\":{\"name\":\"OneZero\",\"data\":{\"@type\":\"NewsMediaOrganization\",\"ethicsPolicy\":\"https:\\u002F\\u002Fhelp.medium.com\\u002Fhc\\u002Fen-us\\u002Farticles\\u002F360043290473\",\"logo\":{\"@type\":\"ImageObject\",\"url\":\"https:\\u002F\\u002Fmiro.medium.com\\u002Fmax\\u002F540\\u002F1*cw32fIqCbRWzwJaoQw6BUg.png\",\"width\":540,\"height\":123}}},\"8ccfed20cbb2\":{\"name\":\"Zora\",\"data\":{\"@type\":\"NewsMediaOrganization\",\"ethicsPolicy\":\"https:\\u002F\\u002Fhelp.medium.com\\u002Fhc\\u002Fen-us\\u002Farticles\\u002F360043290473\",\"logo\":{\"@type\":\"ImageObject\",\"url\":\"https:\\u002F\\u002Fmiro.medium.com\\u002Fmax\\u002F540\\u002F1*tZUQqRcCCZDXjjiZ4bDvgQ.png\",\"width\":540,\"height\":106}}}},\"embeddedPostIds\":{\"coronavirus\":\"cd3010f9d81f\"},\"sharedCdcMessaging\":{\"COVID_APPLICABLE_TAG_SLUGS\":[],\"COVID_APPLICABLE_TOPIC_NAMES\":[],\"COVID_APPLICABLE_TOPIC_NAMES_FOR_TOPIC_PAGE\":[],\"COVID_MESSAGES\":{\"tierA\":{\"text\":\"For more information on the novel coronavirus and Covid-19, visit cdc.gov.\",\"markups\":[{\"start\":66,\"end\":73,\"href\":\"https:\\u002F\\u002Fwww.cdc.gov\\u002Fcoronavirus\\u002F2019-nCoV\"}]},\"tierB\":{\"text\":\"Anyone can publish on Medium per our Policies, but we don’t fact-check every story. For more info about the coronavirus, see cdc.gov.\",\"markups\":[{\"start\":37,\"end\":45,\"href\":\"https:\\u002F\\u002Fhelp.medium.com\\u002Fhc\\u002Fen-us\\u002Fcategories\\u002F201931128-Policies-Safety\"},{\"start\":125,\"end\":132,\"href\":\"https:\\u002F\\u002Fwww.cdc.gov\\u002Fcoronavirus\\u002F2019-nCoV\"}]},\"paywall\":{\"text\":\"This article has been made free for everyone, thanks to Medium Members. For more information on the novel coronavirus and Covid-19, visit cdc.gov.\",\"markups\":[{\"start\":56,\"end\":70,\"href\":\"https:\\u002F\\u002Fmedium.com\\u002Fmembership\"},{\"start\":138,\"end\":145,\"href\":\"https:\\u002F\\u002Fwww.cdc.gov\\u002Fcoronavirus\\u002F2019-nCoV\"}]},\"unbound\":{\"text\":\"This article is free for everyone, thanks to Medium Members. For more information on the novel coronavirus and Covid-19, visit cdc.gov.\",\"markups\":[{\"start\":45,\"end\":59,\"href\":\"https:\\u002F\\u002Fmedium.com\\u002Fmembership\"},{\"start\":127,\"end\":134,\"href\":\"https:\\u002F\\u002Fwww.cdc.gov\\u002Fcoronavirus\\u002F2019-nCoV\"}]}},\"COVID_BANNER_POST_ID_OVERRIDE_WHITELIST\":[\"3b31a67bff4a\"]},\"sharedVoteMessaging\":{\"TAGS\":[\"politics\",\"election-2020\",\"government\",\"us-politics\",\"election\",\"2020-presidential-race\",\"trump\",\"donald-trump\",\"democrats\",\"republicans\",\"congress\",\"republican-party\",\"democratic-party\",\"biden\",\"joe-biden\",\"maga\"],\"TOPICS\":[\"politics\",\"election\"],\"MESSAGE\":{\"text\":\"Find out more about the U.S. election results here.\",\"markups\":[{\"start\":46,\"end\":50,\"href\":\"https:\\u002F\\u002Fcookpolitical.com\\u002F2020-national-popular-vote-tracker\"}]},\"EXCLUDE_POSTS\":[\"397ef29e3ca5\"]},\"embedPostRules\":[],\"recircOptions\":{\"v1\":{\"limit\":3},\"v2\":{\"limit\":8}},\"braintreeClientKey\":\"production_zjkj96jm_m56f8fqpf7ngnrd4\",\"braintree\":{\"enabled\":true,\"merchantId\":\"m56f8fqpf7ngnrd4\",\"merchantAccountId\":{\"usd\":\"AMediumCorporation_instant\",\"eur\":\"amediumcorporation_EUR\",\"cad\":\"amediumcorporation_CAD\"},\"publicKey\":\"ds2nn34bg2z7j5gd\",\"braintreeEnvironment\":\"production\",\"dashboardUrl\":\"https:\\u002F\\u002Fwww.braintreegateway.com\\u002Fmerchants\",\"gracePeriodDurationInDays\":14,\"mediumMembershipPlanId\":{\"monthly\":\"ce105f8c57a3\",\"monthlyWithTrial\":\"d5ee3dbe3db8\",\"yearly\":\"a40ad4a43185\",\"yearlyStaff\":\"d74fb811198a\",\"yearlyWithTrial\":\"b3bc7350e5c7\",\"monthlyCad\":\"p52orjkaceei\",\"yearlyCad\":\"h4q9g2up9ktt\"},\"braintreeDiscountId\":{\"oneMonthFree\":\"MONTHS_FREE_01\",\"threeMonthsFree\":\"MONTHS_FREE_03\",\"sixMonthsFree\":\"MONTHS_FREE_06\",\"fiftyPercentOffOneYear\":\"FIFTY_PERCENT_OFF_ONE_YEAR\"},\"3DSecureVersion\":\"2\",\"defaultCurrency\":\"usd\",\"providerPlanIdCurrency\":{\"4ycw\":\"usd\",\"rz3b\":\"usd\",\"3kqm\":\"usd\",\"jzw6\":\"usd\",\"c2q2\":\"usd\",\"nnsw\":\"usd\",\"fx7w\":\"cad\",\"nwf2\":\"cad\"}},\"paypalClientId\":\"AXj1G4fotC2GE8KzWX9mSxCH1wmPE3nJglf4Z2ig_amnhvlMVX87otaq58niAg9iuLktVNF_1WCMnN7v\",\"paypal\":{\"host\":\"https:\\u002F\\u002Fapi.paypal.com:443\",\"clientMode\":\"production\",\"serverMode\":\"live\",\"webhookId\":\"4G466076A0294510S\",\"monthlyPlan\":{\"planId\":\"P-9WR0658853113943TMU5FDQA\",\"name\":\"Medium Membership (Monthly) with setup fee\",\"description\":\"Unlimited access to the best and brightest stories on Medium. Membership billed monthly.\"},\"yearlyPlan\":{\"planId\":\"P-7N8963881P8875835MU5JOPQ\",\"name\":\"Medium Membership (Annual) with setup fee\",\"description\":\"Unlimited access to the best and brightest stories on Medium. Membership billed annually.\"},\"oneYearGift\":{\"name\":\"Medium Membership (1 Year, Digital Gift Code)\",\"description\":\"Unlimited access to the best and brightest stories on Medium. Gift codes can be redeemed at medium.com\\u002Fredeem.\",\"price\":\"50.00\",\"currency\":\"USD\",\"sku\":\"membership-gift-1-yr\"},\"oldMonthlyPlan\":{\"planId\":\"P-96U02458LM656772MJZUVH2Y\",\"name\":\"Medium Membership (Monthly)\",\"description\":\"Unlimited access to the best and brightest stories on Medium. Membership billed monthly.\"},\"oldYearlyPlan\":{\"planId\":\"P-59P80963JF186412JJZU3SMI\",\"name\":\"Medium Membership (Annual)\",\"description\":\"Unlimited access to the best and brightest stories on Medium. Membership billed annually.\"},\"monthlyPlanWithTrial\":{\"planId\":\"P-66C21969LR178604GJPVKUKY\",\"name\":\"Medium Membership (Monthly) with setup fee\",\"description\":\"Unlimited access to the best and brightest stories on Medium. Membership billed monthly.\"},\"yearlyPlanWithTrial\":{\"planId\":\"P-6XW32684EX226940VKCT2MFA\",\"name\":\"Medium Membership (Annual) with setup fee\",\"description\":\"Unlimited access to the best and brightest stories on Medium. Membership billed annually.\"},\"oldMonthlyPlanNoSetupFee\":{\"planId\":\"P-4N046520HR188054PCJC7LJI\",\"name\":\"Medium Membership (Monthly)\",\"description\":\"Unlimited access to the best and brightest stories on Medium. Membership billed monthly.\"},\"oldYearlyPlanNoSetupFee\":{\"planId\":\"P-7A4913502Y5181304CJEJMXQ\",\"name\":\"Medium Membership (Annual)\",\"description\":\"Unlimited access to the best and brightest stories on Medium. Membership billed annually.\"},\"sdkUrl\":\"https:\\u002F\\u002Fwww.paypal.com\\u002Fsdk\\u002Fjs\"},\"stripePublishableKey\":\"pk_live_7FReX44VnNIInZwrIIx6ghjl\",\"log\":{\"json\":true,\"level\":\"info\"},\"imageUploadMaxSizeMb\":25},\"session\":{\"xsrf\":\"\"}}</script><script>window.__APOLLO_STATE__ = {\"ROOT_QUERY\":{\"__typename\":\"Query\",\"tagFeaturesFromSlug({\\\"tagSlug\\\":\\\"product-management\\\"})\":{\"__typename\":\"TagFeature\",\"writerCount\":29156,\"postCountLatest\":495,\"writerCountLatest\":361},\"tagFromSlug({\\\"tagSlug\\\":\\\"product-management\\\"})\":{\"__ref\":\"Tag:product-management\"},\"collectionByDomainOrSlug({\\\"domainOrSlug\\\":\\\"medium.com\\\"})\":null,\"relatedTags({\\\"tagSlug\\\":\\\"product-management\\\"})\":[{\"__ref\":\"Tag:startup\"},{\"__ref\":\"Tag:product\"},{\"__ref\":\"Tag:product-design\"},{\"__ref\":\"Tag:agile\"},{\"__ref\":\"Tag:product-development\"},{\"__ref\":\"Tag:ux\"},{\"__ref\":\"Tag:software-development\"},{\"__ref\":\"Tag:product-manager\"},{\"__ref\":\"Tag:design\"}],\"tagTopWriters({\\\"limit\\\":6,\\\"tagSlug\\\":\\\"product-management\\\"})\":[{\"__ref\":\"User:a55fee07a2c4\"},{\"__ref\":\"User:2d95ad0e562b\"},{\"__ref\":\"User:b8a4e5ae7490\"},{\"__ref\":\"User:bb0a982ebe56\"},{\"__ref\":\"User:a32bdaded36e\"},{\"__ref\":\"User:e02195dd3785\"}],\"tagFeed:(mode:HOT,tagSlug:product-management,limit:10)\":{\"__typename\":\"TagFeedResult\",\"items\":[{\"__typename\":\"TagFeedItem\",\"feedId\":\"e32e19b0-4754-46c6-93e0-6b8d4aff325a\",\"reason\":84,\"moduleSourceEncoding\":17,\"postProviderExplanation\":{\"__typename\":\"PostProviderExplanation\",\"reason\":null,\"topic\":null},\"post\":{\"__ref\":\"Post:d78285b38715\"}},{\"__typename\":\"TagFeedItem\",\"feedId\":\"e32e19b0-4754-46c6-93e0-6b8d4aff325a\",\"reason\":84,\"moduleSourceEncoding\":17,\"postProviderExplanation\":{\"__typename\":\"PostProviderExplanation\",\"reason\":null,\"topic\":null},\"post\":{\"__ref\":\"Post:b4e251d725f\"}},{\"__typename\":\"TagFeedItem\",\"feedId\":\"e32e19b0-4754-46c6-93e0-6b8d4aff325a\",\"reason\":84,\"moduleSourceEncoding\":17,\"postProviderExplanation\":{\"__typename\":\"PostProviderExplanation\",\"reason\":null,\"topic\":null},\"post\":{\"__ref\":\"Post:9d4002909964\"}},{\"__typename\":\"TagFeedItem\",\"feedId\":\"e32e19b0-4754-46c6-93e0-6b8d4aff325a\",\"reason\":84,\"moduleSourceEncoding\":17,\"postProviderExplanation\":{\"__typename\":\"PostProviderExplanation\",\"reason\":null,\"topic\":null},\"post\":{\"__ref\":\"Post:f733d2a55e80\"}},{\"__typename\":\"TagFeedItem\",\"feedId\":\"e32e19b0-4754-46c6-93e0-6b8d4aff325a\",\"reason\":84,\"moduleSourceEncoding\":17,\"postProviderExplanation\":{\"__typename\":\"PostProviderExplanation\",\"reason\":null,\"topic\":null},\"post\":{\"__ref\":\"Post:2b318f592250\"}},{\"__typename\":\"TagFeedItem\",\"feedId\":\"e32e19b0-4754-46c6-93e0-6b8d4aff325a\",\"reason\":84,\"moduleSourceEncoding\":17,\"postProviderExplanation\":{\"__typename\":\"PostProviderExplanation\",\"reason\":null,\"topic\":null},\"post\":{\"__ref\":\"Post:70b0b67b9ebb\"}},{\"__typename\":\"TagFeedItem\",\"feedId\":\"e32e19b0-4754-46c6-93e0-6b8d4aff325a\",\"reason\":84,\"moduleSourceEncoding\":17,\"postProviderExplanation\":{\"__typename\":\"PostProviderExplanation\",\"reason\":null,\"topic\":null},\"post\":{\"__ref\":\"Post:23a5ffd8f610\"}},{\"__typename\":\"TagFeedItem\",\"feedId\":\"e32e19b0-4754-46c6-93e0-6b8d4aff325a\",\"reason\":84,\"moduleSourceEncoding\":17,\"postProviderExplanation\":{\"__typename\":\"PostProviderExplanation\",\"reason\":null,\"topic\":null},\"post\":{\"__ref\":\"Post:7f2ac55ec82c\"}},{\"__typename\":\"TagFeedItem\",\"feedId\":\"e32e19b0-4754-46c6-93e0-6b8d4aff325a\",\"reason\":84,\"moduleSourceEncoding\":17,\"postProviderExplanation\":{\"__typename\":\"PostProviderExplanation\",\"reason\":null,\"topic\":null},\"post\":{\"__ref\":\"Post:808afb8a5d64\"}},{\"__typename\":\"TagFeedItem\",\"feedId\":\"e32e19b0-4754-46c6-93e0-6b8d4aff325a\",\"reason\":84,\"moduleSourceEncoding\":17,\"postProviderExplanation\":{\"__typename\":\"PostProviderExplanation\",\"reason\":null,\"topic\":null},\"post\":{\"__ref\":\"Post:25238eff7037\"}}],\"pagingInfo\":{\"__typename\":\"Paging\",\"next\":{\"__typename\":\"PageParams\",\"limit\":10,\"to\":\"10\"}}}},\"Tag:product-management\":{\"__typename\":\"Tag\",\"id\":\"product-management\",\"postCount\":72044,\"normalizedTagSlug\":\"product-management\",\"displayTitle\":\"Product Management\"},\"Tag:startup\":{\"__typename\":\"Tag\",\"id\":\"startup\",\"displayTitle\":\"Startup\",\"normalizedTagSlug\":\"startup\"},\"Tag:product\":{\"__typename\":\"Tag\",\"id\":\"product\",\"displayTitle\":\"Product\",\"normalizedTagSlug\":\"product\"},\"Tag:product-design\":{\"__typename\":\"Tag\",\"id\":\"product-design\",\"displayTitle\":\"Product Design\",\"normalizedTagSlug\":\"product-design\"},\"Tag:agile\":{\"__typename\":\"Tag\",\"id\":\"agile\",\"displayTitle\":\"Agile\",\"normalizedTagSlug\":\"agile\"},\"Tag:product-development\":{\"__typename\":\"Tag\",\"id\":\"product-development\",\"displayTitle\":\"Product Development\",\"normalizedTagSlug\":\"product-development\"},\"Tag:ux\":{\"__typename\":\"Tag\",\"id\":\"ux\",\"displayTitle\":\"UX\",\"normalizedTagSlug\":\"ux\"},\"Tag:software-development\":{\"__typename\":\"Tag\",\"id\":\"software-development\",\"displayTitle\":\"Software Development\",\"normalizedTagSlug\":\"software-development\"},\"Tag:product-manager\":{\"__typename\":\"Tag\",\"id\":\"product-manager\",\"displayTitle\":\"Product Manager\",\"normalizedTagSlug\":\"product-manager\"},\"Tag:design\":{\"__typename\":\"Tag\",\"id\":\"design\",\"displayTitle\":\"Design\",\"normalizedTagSlug\":\"design\"},\"User:a55fee07a2c4\":{\"__typename\":\"User\",\"id\":\"a55fee07a2c4\",\"algoliaObjectId\":null,\"name\":\"Willem-Jan Ageling\",\"bio\":\"Writer, editor, founder of Serious Scrum. I love writing about maximizing value. https:\\u002F\\u002Fwww.linkedin.com\\u002Fin\\u002Fwillemjanageling\",\"imageId\":\"1*l07UnQN1sxILJlWj2ac2PA@2x.jpeg\",\"mediumMemberAt\":1567673442000,\"username\":\"WJAgeling\",\"customDomainState\":{\"__typename\":\"CustomDomainState\",\"live\":null},\"hasSubdomain\":false},\"User:2d95ad0e562b\":{\"__typename\":\"User\",\"id\":\"2d95ad0e562b\",\"algoliaObjectId\":null,\"name\":\"David Pereira\",\"bio\":\"Untrapping Product Teams. https:\\u002F\\u002Fd-pereira.com Prodmgmt Courses: https:\\u002F\\u002Fd-pereira.com\\u002Fcourses-product-management\\u002F\",\"imageId\":\"1*nzDb0qNeMb1Usn_kk5gCqQ.png\",\"mediumMemberAt\":1586184927000,\"username\":\"davidavpereira\",\"customDomainState\":{\"__typename\":\"CustomDomainState\",\"live\":{\"__typename\":\"CustomDomain\",\"domain\":\"davidavpereira.medium.com\"}},\"hasSubdomain\":true},\"User:b8a4e5ae7490\":{\"__typename\":\"User\",\"id\":\"b8a4e5ae7490\",\"algoliaObjectId\":null,\"name\":\"Julie Zhuo\",\"bio\":\"Building Sundial. Former Product Design VP @ FB. Author of The Making of a Manager https:\\u002F\\u002Famzn.to\\u002F2PRwCyW. Find me @joulee. I love people, nuance, and systems.\",\"imageId\":\"0*bOVFN2_iLTHM5m2c.jpeg\",\"mediumMemberAt\":0,\"username\":\"joulee\",\"customDomainState\":{\"__typename\":\"CustomDomainState\",\"live\":{\"__typename\":\"CustomDomain\",\"domain\":\"joulee.medium.com\"}},\"hasSubdomain\":true},\"User:bb0a982ebe56\":{\"__typename\":\"User\",\"id\":\"bb0a982ebe56\",\"algoliaObjectId\":null,\"name\":\"David Theil\",\"bio\":\"Escape the feature factory and start agile product development. LinkedIn: https:\\u002F\\u002Fwww.linkedin.com\\u002Fin\\u002Fdavidtheil1\\u002F Twitter: https:\\u002F\\u002Ftwitter.com\\u002FDavidTheil\",\"imageId\":\"1*31J82YjccrJQ1X0Vwpxqtw.jpeg\",\"mediumMemberAt\":0,\"username\":\"david-theil\",\"customDomainState\":{\"__typename\":\"CustomDomainState\",\"live\":{\"__typename\":\"CustomDomain\",\"domain\":\"david-theil.medium.com\"}},\"hasSubdomain\":true},\"User:a32bdaded36e\":{\"__typename\":\"User\",\"id\":\"a32bdaded36e\",\"algoliaObjectId\":null,\"name\":\"Anthony Murphy\",\"bio\":\"Product person, agile nerd and cat herder 🐈 Founder @ ProductPathways.com, Product Coach @ antmurphy.me & Director @ productprofessionals.com\",\"imageId\":\"1*daaL1D7G5_KF6bgkH5VeBA.jpeg\",\"mediumMemberAt\":1551839938470,\"username\":\"antmurphy\",\"customDomainState\":{\"__typename\":\"CustomDomainState\",\"live\":{\"__typename\":\"CustomDomain\",\"domain\":\"antmurphy.medium.com\"}},\"hasSubdomain\":true},\"User:e02195dd3785\":{\"__typename\":\"User\",\"id\":\"e02195dd3785\",\"algoliaObjectId\":null,\"name\":\"Thaisa Fernandes\",\"bio\":\"Problem solver and perfectionist in recovery willing to stretch myself and risk making mistakes to achieve innovative solutions and validate my learnings\",\"imageId\":\"1*ntodJfccvS0Z-9wYG8nQeQ.png\",\"mediumMemberAt\":0,\"username\":\"thaifernandes\",\"customDomainState\":{\"__typename\":\"CustomDomainState\",\"live\":{\"__typename\":\"CustomDomain\",\"domain\":\"thaifernandes.medium.com\"}},\"hasSubdomain\":true},\"User:5714f6bdbaf2\":{\"__typename\":\"User\",\"name\":\"Dolores Mäekivi\",\"username\":\"doloresmaekivi\",\"id\":\"5714f6bdbaf2\",\"mediumMemberAt\":0,\"socialStats\":{\"__typename\":\"SocialStats\",\"followerCount\":12},\"verifications\":{\"__typename\":\"VerifiedInfo\",\"isBookAuthor\":false},\"customDomainState\":null,\"hasSubdomain\":false,\"bio\":\"Customer and Market Researcher in SAAS. Anthropologist.\",\"imageId\":\"1*JBiad_ETDnwiVzgrrUBD0g.jpeg\",\"isAuroraVisible\":true,\"newsletterV3\":{\"__ref\":\"NewsletterV3:92beecc7034d\"}},\"Paragraph:fe2877c1dd76_preview_0\":{\"__typename\":\"Paragraph\",\"id\":\"fe2877c1dd76_preview_0\",\"name\":\"2261\",\"type\":\"H3\",\"href\":null,\"layout\":null,\"metadata\":null,\"text\":\"Alternative to classical UX research methods\",\"hasDropCap\":null,\"dropCapImage\":null,\"markups\":[],\"codeBlockMetadata\":null,\"iframe\":null,\"mixtapeMetadata\":null},\"ImageMetadata:0*EJvMo1quq92WOcK1\":{\"__typename\":\"ImageMetadata\",\"id\":\"0*EJvMo1quq92WOcK1\",\"originalHeight\":667,\"originalWidth\":1000,\"focusPercentX\":null,\"focusPercentY\":null,\"alt\":null},\"Paragraph:fe2877c1dd76_preview_1\":{\"__typename\":\"Paragraph\",\"id\":\"fe2877c1dd76_preview_1\",\"name\":\"60a6\",\"type\":\"IMG\",\"href\":null,\"layout\":\"INSET_CENTER\",\"metadata\":{\"__ref\":\"ImageMetadata:0*EJvMo1quq92WOcK1\"},\"text\":\"Photo by Daniel Schludi on Unsplash\",\"hasDropCap\":null,\"dropCapImage\":null,\"markups\":[{\"__typename\":\"Markup\",\"type\":\"A\",\"start\":8,\"end\":23,\"href\":\"https:\\u002F\\u002Funsplash.com\\u002F@schluditsch?utm_source=unsplash&utm_medium=referral&utm_content=creditCopyText\",\"anchorType\":\"LINK\",\"userId\":null,\"linkMetadata\":null},{\"__typename\":\"Markup\",\"type\":\"A\",\"start\":26,\"end\":35,\"href\":\"https:\\u002F\\u002Funsplash.com\\u002Fs\\u002Fphotos\\u002Frecording?utm_source=unsplash&utm_medium=referral&utm_content=creditCopyText\",\"anchorType\":\"LINK\",\"userId\":null,\"linkMetadata\":null}],\"codeBlockMetadata\":null,\"iframe\":null,\"mixtapeMetadata\":null},\"Paragraph:fe2877c1dd76_preview_2\":{\"__typename\":\"Paragraph\",\"id\":\"fe2877c1dd76_preview_2\",\"name\":\"e2aa\",\"type\":\"P\",\"href\":null,\"layout\":null,\"metadata\":null,\"text\":\"Every applied researcher has some studies that made a great impact and some that were left on “read” by stakeholders. Those findings that prove to be valuable over multiple years are the special highlights of a researcher’s career 🌟\",\"hasDropCap\":null,\"dropCapImage\":null,\"markups\":[],\"codeBlockMetadata\":null,\"iframe\":null,\"mixtapeMetadata\":null},\"Paragraph:fe2877c1dd76_preview_3\":{\"__typename\":\"Paragraph\",\"id\":\"fe2877c1dd76_preview_3\",\"name\":\"9365\",\"type\":\"P\",\"href\":null,\"layout\":null,\"metadata\":null,\"text\":\"This brings me to a successful study that I and my…\",\"hasDropCap\":null,\"dropCapImage\":null,\"markups\":[],\"codeBlockMetadata\":null,\"iframe\":null,\"mixtapeMetadata\":null},\"NewsletterV3:92beecc7034d\":{\"__typename\":\"NewsletterV3\",\"id\":\"92beecc7034d\",\"subscribersCount\":0},\"Tag:user-research\":{\"__typename\":\"Tag\",\"id\":\"user-research\",\"displayTitle\":\"User Research\",\"normalizedTagSlug\":\"user-research\"},\"Tag:research-methods\":{\"__typename\":\"Tag\",\"id\":\"research-methods\",\"displayTitle\":\"Research Methods\",\"normalizedTagSlug\":\"research-methods\"},\"Post:d78285b38715\":{\"__typename\":\"Post\",\"id\":\"d78285b38715\",\"creator\":{\"__ref\":\"User:5714f6bdbaf2\"},\"collection\":null,\"extendedPreviewContent({\\\"truncationConfig\\\":{\\\"minimumWordLengthForTruncation\\\":150,\\\"previewParagraphsWordCountThreshold\\\":400,\\\"shortformMinimumWordLengthForTruncation\\\":30,\\\"shortformPreviewParagraphsWordCountThreshold\\\":30,\\\"showFullImageCaptions\\\":true,\\\"truncateAtEndOfSentence\\\":true}})\":{\"__typename\":\"PreviewContent\",\"bodyModel\":{\"__typename\":\"RichText\",\"sections\":[{\"__typename\":\"Section\",\"name\":\"6fdf\",\"startIndex\":0,\"textLayout\":null,\"imageLayout\":null,\"backgroundImage\":null,\"videoLayout\":null,\"backgroundVideo\":null}],\"paragraphs\":[{\"__ref\":\"Paragraph:fe2877c1dd76_preview_0\"},{\"__ref\":\"Paragraph:fe2877c1dd76_preview_1\"},{\"__ref\":\"Paragraph:fe2877c1dd76_preview_2\"},{\"__ref\":\"Paragraph:fe2877c1dd76_preview_3\"}]},\"isFullContent\":false,\"subtitle\":\"Every applied researcher has some studies that made a great impact and some that were left on “read” by stakeholders. Those findings that…\"},\"firstPublishedAt\":1671797333601,\"isLocked\":false,\"isSeries\":false,\"isShortform\":false,\"latestPublishedAt\":1671797333601,\"inResponseToCatalogResult\":null,\"previewImage\":{\"__ref\":\"ImageMetadata:0*EJvMo1quq92WOcK1\"},\"readingTime\":5.890566037735849,\"sequence\":null,\"title\":\"Alternative to classical UX research methods\",\"uniqueSlug\":\"alternative-to-classical-ux-research-methods-d78285b38715\",\"visibility\":\"PUBLIC\",\"pendingCollection\":null,\"statusForCollection\":null,\"isPublished\":true,\"allowResponses\":true,\"postResponses\":{\"__typename\":\"PostResponses\",\"count\":0},\"isLimitedState\":false,\"mediumUrl\":\"https:\\u002F\\u002Fmedium.com\\u002F@doloresmaekivi\\u002Falternative-to-classical-ux-research-methods-d78285b38715\",\"voterCount\":2,\"recommenders\":[],\"clapCount\":70,\"pinnedAt\":0,\"pinnedByCreatorAt\":0,\"curationEligibleAt\":0,\"responseDistribution\":\"NOT_DISTRIBUTED\",\"inResponseToPostResult\":null,\"isNewsletter\":false,\"isAuthorNewsletter\":false,\"inResponseToEntityType\":null,\"tags\":[{\"__ref\":\"Tag:user-research\"},{\"__ref\":\"Tag:ux\"},{\"__ref\":\"Tag:product-design\"},{\"__ref\":\"Tag:product-management\"},{\"__ref\":\"Tag:research-methods\"}]},\"User:f8025419d9c8\":{\"__typename\":\"User\",\"name\":\"Scott Belsky\",\"username\":\"scottbelsky\",\"id\":\"f8025419d9c8\",\"mediumMemberAt\":1503596927000,\"socialStats\":{\"__typename\":\"SocialStats\",\"followerCount\":44090},\"verifications\":{\"__typename\":\"VerifiedInfo\",\"isBookAuthor\":false},\"customDomainState\":{\"__typename\":\"CustomDomainState\",\"live\":{\"__typename\":\"CustomDomain\",\"domain\":\"scottbelsky.medium.com\"}},\"hasSubdomain\":true,\"bio\":\"founder @Behance, cpo @Adobe, early stage investor and product obsessive; author of Making Ideas Happen and The Messy Middle. http:\\u002F\\u002Fscottbelsky.com\",\"imageId\":\"0*5UCuQBDPhqlcOcoz.jpeg\",\"isAuroraVisible\":true,\"newsletterV3\":{\"__ref\":\"NewsletterV3:1ff8db85f81d\"}},\"ImageMetadata:1*0qntmI2bOt_FLYfv4MRA-g.png\":{\"__typename\":\"ImageMetadata\",\"id\":\"1*0qntmI2bOt_FLYfv4MRA-g.png\",\"originalHeight\":1902,\"originalWidth\":3111,\"focusPercentX\":null,\"focusPercentY\":null,\"alt\":null},\"Paragraph:49a6109e9c_preview_0\":{\"__typename\":\"Paragraph\",\"id\":\"49a6109e9c_preview_0\",\"name\":\"4300\",\"type\":\"IMG\",\"href\":null,\"layout\":\"INSET_CENTER\",\"metadata\":{\"__ref\":\"ImageMetadata:1*0qntmI2bOt_FLYfv4MRA-g.png\"},\"text\":\"The promises and perils of creative expression as we stand on the shoulders of tech. Image by Oscar Orozco.\",\"hasDropCap\":null,\"dropCapImage\":null,\"markups\":[],\"codeBlockMetadata\":null,\"iframe\":null,\"mixtapeMetadata\":null},\"Paragraph:49a6109e9c_preview_1\":{\"__typename\":\"Paragraph\",\"id\":\"49a6109e9c_preview_1\",\"name\":\"9e7e\",\"type\":\"H3\",\"href\":null,\"layout\":null,\"metadata\":null,\"text\":\"Creating in The Era of Creative Confidence\",\"hasDropCap\":null,\"dropCapImage\":null,\"markups\":[{\"__typename\":\"Markup\",\"type\":\"STRONG\",\"start\":0,\"end\":42,\"href\":null,\"anchorType\":null,\"userId\":null,\"linkMetadata\":null}],\"codeBlockMetadata\":null,\"iframe\":null,\"mixtapeMetadata\":null},\"Paragraph:49a6109e9c_preview_2\":{\"__typename\":\"Paragraph\",\"id\":\"49a6109e9c_preview_2\",\"name\":\"8862\",\"type\":\"P\",\"href\":null,\"layout\":null,\"metadata\":null,\"text\":\"It’s remarkable to watch a five-year-old draw, void of any anxiety about what the world will think. We all start our lives creatively confident, happy to create and share our work with pride. And then, as we age, our comfort with creative expression declines. We’re discouraged by the learning curve…\",\"hasDropCap\":null,\"dropCapImage\":null,\"markups\":[],\"codeBlockMetadata\":null,\"iframe\":null,\"mixtapeMetadata\":null},\"NewsletterV3:1ff8db85f81d\":{\"__typename\":\"NewsletterV3\",\"id\":\"1ff8db85f81d\",\"subscribersCount\":73},\"Tag:technology\":{\"__typename\":\"Tag\",\"id\":\"technology\",\"displayTitle\":\"Technology\",\"normalizedTagSlug\":\"technology\"},\"Tag:business\":{\"__typename\":\"Tag\",\"id\":\"business\",\"displayTitle\":\"Business\",\"normalizedTagSlug\":\"business\"},\"Tag:entrepreneurship\":{\"__typename\":\"Tag\",\"id\":\"entrepreneurship\",\"displayTitle\":\"Entrepreneurship\",\"normalizedTagSlug\":\"entrepreneurship\"},\"Post:b4e251d725f\":{\"__typename\":\"Post\",\"id\":\"b4e251d725f\",\"creator\":{\"__ref\":\"User:f8025419d9c8\"},\"collection\":null,\"extendedPreviewContent({\\\"truncationConfig\\\":{\\\"minimumWordLengthForTruncation\\\":150,\\\"previewParagraphsWordCountThreshold\\\":400,\\\"shortformMinimumWordLengthForTruncation\\\":30,\\\"shortformPreviewParagraphsWordCountThreshold\\\":30,\\\"showFullImageCaptions\\\":true,\\\"truncateAtEndOfSentence\\\":true}})\":{\"__typename\":\"PreviewContent\",\"bodyModel\":{\"__typename\":\"RichText\",\"sections\":[{\"__typename\":\"Section\",\"name\":\"0b4b\",\"startIndex\":0,\"textLayout\":null,\"imageLayout\":null,\"backgroundImage\":null,\"videoLayout\":null,\"backgroundVideo\":null}],\"paragraphs\":[{\"__ref\":\"Paragraph:49a6109e9c_preview_0\"},{\"__ref\":\"Paragraph:49a6109e9c_preview_1\"},{\"__ref\":\"Paragraph:49a6109e9c_preview_2\"}]},\"isFullContent\":false,\"subtitle\":\"It’s remarkable to watch a five-year-old draw, void of any anxiety about what the world will think. We all start our lives creatively…\"},\"firstPublishedAt\":1671740778593,\"isLocked\":false,\"isSeries\":false,\"isShortform\":false,\"latestPublishedAt\":1671740778593,\"inResponseToCatalogResult\":null,\"previewImage\":{\"__ref\":\"ImageMetadata:1*0qntmI2bOt_FLYfv4MRA-g.png\"},\"readingTime\":9.24811320754717,\"sequence\":null,\"title\":\"Creating in The Era of Creative Confidence\",\"uniqueSlug\":\"creating-in-the-era-of-creative-confidence-b4e251d725f\",\"visibility\":\"PUBLIC\",\"pendingCollection\":null,\"statusForCollection\":null,\"isPublished\":true,\"allowResponses\":true,\"postResponses\":{\"__typename\":\"PostResponses\",\"count\":2},\"isLimitedState\":false,\"mediumUrl\":\"https:\\u002F\\u002Fscottbelsky.medium.com\\u002Fcreating-in-the-era-of-creative-confidence-b4e251d725f\",\"voterCount\":6,\"recommenders\":[],\"clapCount\":33,\"pinnedAt\":0,\"pinnedByCreatorAt\":0,\"curationEligibleAt\":0,\"responseDistribution\":\"NOT_DISTRIBUTED\",\"inResponseToPostResult\":null,\"isNewsletter\":false,\"isAuthorNewsletter\":true,\"inResponseToEntityType\":null,\"tags\":[{\"__ref\":\"Tag:technology\"},{\"__ref\":\"Tag:design\"},{\"__ref\":\"Tag:business\"},{\"__ref\":\"Tag:entrepreneurship\"},{\"__ref\":\"Tag:product-management\"}]},\"User:dd6df89b50ff\":{\"__typename\":\"User\",\"name\":\"Tina Mai\",\"username\":\"tina-mai\",\"id\":\"dd6df89b50ff\",\"mediumMemberAt\":0,\"socialStats\":{\"__typename\":\"SocialStats\",\"followerCount\":37},\"verifications\":{\"__typename\":\"VerifiedInfo\",\"isBookAuthor\":false},\"customDomainState\":{\"__typename\":\"CustomDomainState\",\"live\":{\"__typename\":\"CustomDomain\",\"domain\":\"tina-mai.medium.com\"}},\"hasSubdomain\":true,\"bio\":\"17. building for AI and web3. studying design engineering and startups. www.tinamai.xyz\",\"imageId\":\"1*Vnob2cnuU7OHAdgsaU6Dbw.jpeg\",\"isAuroraVisible\":true,\"newsletterV3\":null},\"Paragraph:845f8ad91fab_preview_0\":{\"__typename\":\"Paragraph\",\"id\":\"845f8ad91fab_preview_0\",\"name\":\"6591\",\"type\":\"H3\",\"href\":null,\"layout\":null,\"metadata\":null,\"text\":\"Deconstructing Machine Learning for Product Design\",\"hasDropCap\":null,\"dropCapImage\":null,\"markups\":[],\"codeBlockMetadata\":null,\"iframe\":null,\"mixtapeMetadata\":null},\"Paragraph:845f8ad91fab_preview_1\":{\"__typename\":\"Paragraph\",\"id\":\"845f8ad91fab_preview_1\",\"name\":\"eef3\",\"type\":\"H4\",\"href\":null,\"layout\":null,\"metadata\":null,\"text\":\"How data and design can collaborate in user-centric products\",\"hasDropCap\":null,\"dropCapImage\":null,\"markups\":[],\"codeBlockMetadata\":null,\"iframe\":null,\"mixtapeMetadata\":null},\"ImageMetadata:1*QSGtt8Yb36Bu4DdsS4z5XQ.png\":{\"__typename\":\"ImageMetadata\",\"id\":\"1*QSGtt8Yb36Bu4DdsS4z5XQ.png\",\"originalHeight\":1100,\"originalWidth\":2000,\"focusPercentX\":null,\"focusPercentY\":null,\"alt\":null},\"Paragraph:845f8ad91fab_preview_2\":{\"__typename\":\"Paragraph\",\"id\":\"845f8ad91fab_preview_2\",\"name\":\"e8b4\",\"type\":\"IMG\",\"href\":null,\"layout\":\"INSET_CENTER\",\"metadata\":{\"__ref\":\"ImageMetadata:1*QSGtt8Yb36Bu4DdsS4z5XQ.png\"},\"text\":\"\",\"hasDropCap\":null,\"dropCapImage\":null,\"markups\":[],\"codeBlockMetadata\":null,\"iframe\":null,\"mixtapeMetadata\":null},\"Paragraph:845f8ad91fab_preview_3\":{\"__typename\":\"Paragraph\",\"id\":\"845f8ad91fab_preview_3\",\"name\":\"6351\",\"type\":\"P\",\"href\":null,\"layout\":null,\"metadata\":null,\"text\":\"The intersection of AI and design is a unique one: on one hand are the data matrices and Ex Machina robots being programmed at 3am, and on the other are the color theories and UI mockups being concocted in Figma.\",\"hasDropCap\":true,\"dropCapImage\":null,\"markups\":[{\"__typename\":\"Markup\",\"type\":\"EM\",\"start\":89,\"end\":99,\"href\":null,\"anchorType\":null,\"userId\":null,\"linkMetadata\":null}],\"codeBlockMetadata\":null,\"iframe\":null,\"mixtapeMetadata\":null},\"Paragraph:845f8ad91fab_preview_4\":{\"__typename\":\"Paragraph\",\"id\":\"845f8ad91fab_preview_4\",\"name\":\"0df0\",\"type\":\"P\",\"href\":null,\"layout\":null,\"metadata\":null,\"text\":\"In the past, these two fields have been thought of…\",\"hasDropCap\":null,\"dropCapImage\":null,\"markups\":[{\"__typename\":\"Markup\",\"type\":\"A\",\"start\":274,\"end\":289,\"href\":\"https:\\u002F\\u002Fgirardin.medium.com\\u002Fexperience-design-in-the-machine-learning-era-e16c87f4f2e2\",\"anchorType\":\"LINK\",\"userId\":null,\"linkMetadata\":null},{\"__typename\":\"Markup\",\"type\":\"STRONG\",\"start\":322,\"end\":340,\"href\":null,\"anchorType\":null,\"userId\":null,\"linkMetadata\":null}],\"codeBlockMetadata\":null,\"iframe\":null,\"mixtapeMetadata\":null},\"Tag:artificial-intelligence\":{\"__typename\":\"Tag\",\"id\":\"artificial-intelligence\",\"displayTitle\":\"Artificial Intelligence\",\"normalizedTagSlug\":\"artificial-intelligence\"},\"Tag:machine-learning\":{\"__typename\":\"Tag\",\"id\":\"machine-learning\",\"displayTitle\":\"Machine Learning\",\"normalizedTagSlug\":\"machine-learning\"},\"Tag:design-engineer\":{\"__typename\":\"Tag\",\"id\":\"design-engineer\",\"displayTitle\":\"Design Engineer\",\"normalizedTagSlug\":\"design-engineer\"},\"Post:9d4002909964\":{\"__typename\":\"Post\",\"id\":\"9d4002909964\",\"creator\":{\"__ref\":\"User:dd6df89b50ff\"},\"collection\":null,\"extendedPreviewContent({\\\"truncationConfig\\\":{\\\"minimumWordLengthForTruncation\\\":150,\\\"previewParagraphsWordCountThreshold\\\":400,\\\"shortformMinimumWordLengthForTruncation\\\":30,\\\"shortformPreviewParagraphsWordCountThreshold\\\":30,\\\"showFullImageCaptions\\\":true,\\\"truncateAtEndOfSentence\\\":true}})\":{\"__typename\":\"PreviewContent\",\"bodyModel\":{\"__typename\":\"RichText\",\"sections\":[{\"__typename\":\"Section\",\"name\":\"b859\",\"startIndex\":0,\"textLayout\":null,\"imageLayout\":null,\"backgroundImage\":null,\"videoLayout\":null,\"backgroundVideo\":null}],\"paragraphs\":[{\"__ref\":\"Paragraph:845f8ad91fab_preview_0\"},{\"__ref\":\"Paragraph:845f8ad91fab_preview_1\"},{\"__ref\":\"Paragraph:845f8ad91fab_preview_2\"},{\"__ref\":\"Paragraph:845f8ad91fab_preview_3\"},{\"__ref\":\"Paragraph:845f8ad91fab_preview_4\"}]},\"isFullContent\":false,\"subtitle\":\"How data and design can collaborate in user-centric products\"},\"firstPublishedAt\":1671771615179,\"isLocked\":false,\"isSeries\":false,\"isShortform\":false,\"latestPublishedAt\":1671787591943,\"inResponseToCatalogResult\":null,\"previewImage\":{\"__ref\":\"ImageMetadata:1*QSGtt8Yb36Bu4DdsS4z5XQ.png\"},\"readingTime\":10.14245283018868,\"sequence\":null,\"title\":\"Deconstructing Machine Learning for Product Design\",\"uniqueSlug\":\"machine-learning-for-product-designers-9d4002909964\",\"visibility\":\"PUBLIC\",\"pendingCollection\":null,\"statusForCollection\":null,\"isPublished\":true,\"allowResponses\":true,\"postResponses\":{\"__typename\":\"PostResponses\",\"count\":2},\"isLimitedState\":false,\"mediumUrl\":\"https:\\u002F\\u002Ftina-mai.medium.com\\u002Fmachine-learning-for-product-designers-9d4002909964\",\"voterCount\":6,\"recommenders\":[],\"clapCount\":60,\"pinnedAt\":0,\"pinnedByCreatorAt\":0,\"curationEligibleAt\":0,\"responseDistribution\":\"NOT_DISTRIBUTED\",\"inResponseToPostResult\":null,\"isNewsletter\":false,\"isAuthorNewsletter\":false,\"inResponseToEntityType\":null,\"tags\":[{\"__ref\":\"Tag:artificial-intelligence\"},{\"__ref\":\"Tag:machine-learning\"},{\"__ref\":\"Tag:product-design\"},{\"__ref\":\"Tag:product-management\"},{\"__ref\":\"Tag:design-engineer\"}]},\"User:c84d8057461\":{\"__typename\":\"User\",\"name\":\"Maayan Sela\",\"username\":\"maayan9795\",\"id\":\"c84d8057461\",\"mediumMemberAt\":0,\"socialStats\":{\"__typename\":\"SocialStats\",\"followerCount\":4},\"verifications\":{\"__typename\":\"VerifiedInfo\",\"isBookAuthor\":false},\"customDomainState\":null,\"hasSubdomain\":false,\"bio\":\"Product Manager\",\"imageId\":\"1*iPptvwkKULRnCoxslFDOtw.png\",\"isAuroraVisible\":true,\"newsletterV3\":null},\"Paragraph:b354eb32f43a_preview_0\":{\"__typename\":\"Paragraph\",\"id\":\"b354eb32f43a_preview_0\",\"name\":\"ae4b\",\"type\":\"H4\",\"href\":null,\"layout\":null,\"metadata\":null,\"text\":\"My First 90 Days as a Product Manager at Tanium\",\"hasDropCap\":null,\"dropCapImage\":null,\"markups\":[],\"codeBlockMetadata\":null,\"iframe\":null,\"mixtapeMetadata\":null},\"Paragraph:b354eb32f43a_preview_1\":{\"__typename\":\"Paragraph\",\"id\":\"b354eb32f43a_preview_1\",\"name\":\"e52a\",\"type\":\"P\",\"href\":null,\"layout\":null,\"metadata\":null,\"text\":\"This week marks 90 days since I joined the product management team at Tanium full-time, and it has been a challenging and rewarding experience.\",\"hasDropCap\":null,\"dropCapImage\":null,\"markups\":[],\"codeBlockMetadata\":null,\"iframe\":null,\"mixtapeMetadata\":null},\"Paragraph:b354eb32f43a_preview_2\":{\"__typename\":\"Paragraph\",\"id\":\"b354eb32f43a_preview_2\",\"name\":\"d57c\",\"type\":\"P\",\"href\":null,\"layout\":null,\"metadata\":null,\"text\":\"Here are some of the key things I’ve learned:\",\"hasDropCap\":null,\"dropCapImage\":null,\"markups\":[],\"codeBlockMetadata\":null,\"iframe\":null,\"mixtapeMetadata\":null},\"ImageMetadata:1*Mcd4npL1BXVXGncYcciLJQ.jpeg\":{\"__typename\":\"ImageMetadata\",\"id\":\"1*Mcd4npL1BXVXGncYcciLJQ.jpeg\",\"originalHeight\":3793,\"originalWidth\":2844,\"focusPercentX\":null,\"focusPercentY\":null,\"alt\":null},\"Paragraph:b354eb32f43a_preview_3\":{\"__typename\":\"Paragraph\",\"id\":\"b354eb32f43a_preview_3\",\"name\":\"723e\",\"type\":\"IMG\",\"href\":null,\"layout\":\"INSET_CENTER\",\"metadata\":{\"__ref\":\"ImageMetadata:1*Mcd4npL1BXVXGncYcciLJQ.jpeg\"},\"text\":\"\",\"hasDropCap\":null,\"dropCapImage\":null,\"markups\":[],\"codeBlockMetadata\":null,\"iframe\":null,\"mixtapeMetadata\":null},\"Paragraph:b354eb32f43a_preview_4\":{\"__typename\":\"Paragraph\",\"id\":\"b354eb32f43a_preview_4\",\"name\":\"3275\",\"type\":\"ULI\",\"href\":null,\"layout\":null,\"metadata\":null,\"text\":\"Get comfortable with feeling like you are “drinking from the firehose”. Learning a lot of new information…\",\"hasDropCap\":null,\"dropCapImage\":null,\"markups\":[{\"__typename\":\"Markup\",\"type\":\"STRONG\",\"start\":0,\"end\":70,\"href\":null,\"anchorType\":null,\"userId\":null,\"linkMetadata\":null}],\"codeBlockMetadata\":null,\"iframe\":null,\"mixtapeMetadata\":null},\"Tag:cybersecurity\":{\"__typename\":\"Tag\",\"id\":\"cybersecurity\",\"displayTitle\":\"Cybersecurity\",\"normalizedTagSlug\":\"cybersecurity\"},\"Tag:it\":{\"__typename\":\"Tag\",\"id\":\"it\",\"displayTitle\":\"It\",\"normalizedTagSlug\":\"it\"},\"Tag:remote-working\":{\"__typename\":\"Tag\",\"id\":\"remote-working\",\"displayTitle\":\"Remote Working\",\"normalizedTagSlug\":\"remote-working\"},\"Post:f733d2a55e80\":{\"__typename\":\"Post\",\"id\":\"f733d2a55e80\",\"creator\":{\"__ref\":\"User:c84d8057461\"},\"collection\":null,\"extendedPreviewContent({\\\"truncationConfig\\\":{\\\"minimumWordLengthForTruncation\\\":150,\\\"previewParagraphsWordCountThreshold\\\":400,\\\"shortformMinimumWordLengthForTruncation\\\":30,\\\"shortformPreviewParagraphsWordCountThreshold\\\":30,\\\"showFullImageCaptions\\\":true,\\\"truncateAtEndOfSentence\\\":true}})\":{\"__typename\":\"PreviewContent\",\"bodyModel\":{\"__typename\":\"RichText\",\"sections\":[{\"__typename\":\"Section\",\"name\":\"35af\",\"startIndex\":0,\"textLayout\":null,\"imageLayout\":null,\"backgroundImage\":null,\"videoLayout\":null,\"backgroundVideo\":null}],\"paragraphs\":[{\"__ref\":\"Paragraph:b354eb32f43a_preview_0\"},{\"__ref\":\"Paragraph:b354eb32f43a_preview_1\"},{\"__ref\":\"Paragraph:b354eb32f43a_preview_2\"},{\"__ref\":\"Paragraph:b354eb32f43a_preview_3\"},{\"__ref\":\"Paragraph:b354eb32f43a_preview_4\"}]},\"isFullContent\":false,\"subtitle\":\"This week marks 90 days since I joined the product management team at Tanium full-time, and it has been a challenging and rewarding…\"},\"firstPublishedAt\":1671756097909,\"isLocked\":false,\"isSeries\":false,\"isShortform\":false,\"latestPublishedAt\":1671817895066,\"inResponseToCatalogResult\":null,\"previewImage\":{\"__ref\":\"ImageMetadata:1*Mcd4npL1BXVXGncYcciLJQ.jpeg\"},\"readingTime\":2.922641509433962,\"sequence\":null,\"title\":\"My First 90 Days as a Product Manager at Tanium\",\"uniqueSlug\":\"my-first-90-days-as-a-product-manager-at-tanium-f733d2a55e80\",\"visibility\":\"PUBLIC\",\"pendingCollection\":null,\"statusForCollection\":null,\"isPublished\":true,\"allowResponses\":true,\"postResponses\":{\"__typename\":\"PostResponses\",\"count\":0},\"isLimitedState\":false,\"mediumUrl\":\"https:\\u002F\\u002Fmedium.com\\u002F@maayan9795\\u002Fmy-first-90-days-as-a-product-manager-at-tanium-f733d2a55e80\",\"voterCount\":3,\"recommenders\":[],\"clapCount\":4,\"pinnedAt\":0,\"pinnedByCreatorAt\":0,\"curationEligibleAt\":0,\"responseDistribution\":\"NOT_DISTRIBUTED\",\"inResponseToPostResult\":null,\"isNewsletter\":false,\"isAuthorNewsletter\":false,\"inResponseToEntityType\":null,\"tags\":[{\"__ref\":\"Tag:product-management\"},{\"__ref\":\"Tag:cybersecurity\"},{\"__ref\":\"Tag:it\"},{\"__ref\":\"Tag:remote-working\"}]},\"User:c25bf53f7c81\":{\"__typename\":\"User\",\"name\":\"Marty de Jonge\",\"username\":\"martydj\",\"id\":\"c25bf53f7c81\",\"mediumMemberAt\":1615393228000,\"socialStats\":{\"__typename\":\"SocialStats\",\"followerCount\":183},\"verifications\":{\"__typename\":\"VerifiedInfo\",\"isBookAuthor\":false},\"customDomainState\":{\"__typename\":\"CustomDomainState\",\"live\":{\"__typename\":\"CustomDomain\",\"domain\":\"martydj.medium.com\"}},\"hasSubdomain\":true,\"bio\":\"✍ I am an authentic, caring and skilled Agile professional. Love to read and write about organisational- and team design. A “Serial Continuous Improver” 😃\",\"imageId\":\"1*2k2XyAI2F0rrvQU3yOhNvQ.jpeg\",\"isAuroraVisible\":true,\"newsletterV3\":{\"__ref\":\"NewsletterV3:b7712f6beb6f\"}},\"Collection:da549de9a1c2\":{\"__typename\":\"Collection\",\"id\":\"da549de9a1c2\",\"name\":\"Serious Scrum\",\"domain\":null,\"slug\":\"serious-scrum\",\"creator\":{\"__ref\":\"User:3385ff7d728\"},\"avatar\":{\"__ref\":\"ImageMetadata:1*0JZsm2BWEc8sCX1kWKyr8Q.jpeg\"},\"isAuroraEligible\":true,\"isAuroraVisible\":true,\"viewerEdge\":{\"__ref\":\"CollectionViewerEdge:collectionId:da549de9a1c2-viewerId:lo_1ce2d93b9899\"}},\"Paragraph:d9cb07e3fb9d_preview_0\":{\"__typename\":\"Paragraph\",\"id\":\"d9cb07e3fb9d_preview_0\",\"name\":\"a810\",\"type\":\"H4\",\"href\":null,\"layout\":null,\"metadata\":null,\"text\":\"Continuous learning\",\"hasDropCap\":null,\"dropCapImage\":null,\"markups\":[],\"codeBlockMetadata\":null,\"iframe\":null,\"mixtapeMetadata\":null},\"Paragraph:d9cb07e3fb9d_preview_1\":{\"__typename\":\"Paragraph\",\"id\":\"d9cb07e3fb9d_preview_1\",\"name\":\"df3e\",\"type\":\"H3\",\"href\":null,\"layout\":null,\"metadata\":null,\"text\":\"The Dangerous Animals of Product Management\",\"hasDropCap\":null,\"dropCapImage\":null,\"markups\":[],\"codeBlockMetadata\":null,\"iframe\":null,\"mixtapeMetadata\":null},\"Paragraph:d9cb07e3fb9d_preview_2\":{\"__typename\":\"Paragraph\",\"id\":\"d9cb07e3fb9d_preview_2\",\"name\":\"ae7d\",\"type\":\"H4\",\"href\":null,\"layout\":null,\"metadata\":null,\"text\":\"And ways to hunt them down\",\"hasDropCap\":null,\"dropCapImage\":null,\"markups\":[],\"codeBlockMetadata\":null,\"iframe\":null,\"mixtapeMetadata\":null},\"ImageMetadata:1*TIY5eiK4QE7w-y3ABdB3GA.png\":{\"__typename\":\"ImageMetadata\",\"id\":\"1*TIY5eiK4QE7w-y3ABdB3GA.png\",\"originalHeight\":367,\"originalWidth\":1434,\"focusPercentX\":null,\"focusPercentY\":null,\"alt\":null},\"Paragraph:d9cb07e3fb9d_preview_3\":{\"__typename\":\"Paragraph\",\"id\":\"d9cb07e3fb9d_preview_3\",\"name\":\"c1ad\",\"type\":\"IMG\",\"href\":null,\"layout\":\"INSET_CENTER\",\"metadata\":{\"__ref\":\"ImageMetadata:1*TIY5eiK4QE7w-y3ABdB3GA.png\"},\"text\":\"www.productboard.com\",\"hasDropCap\":null,\"dropCapImage\":null,\"markups\":[{\"__typename\":\"Markup\",\"type\":\"A\",\"start\":0,\"end\":20,\"href\":\"http:\\u002F\\u002Fwww.productboard.com\",\"anchorType\":\"LINK\",\"userId\":null,\"linkMetadata\":null}],\"codeBlockMetadata\":null,\"iframe\":null,\"mixtapeMetadata\":null},\"Paragraph:d9cb07e3fb9d_preview_4\":{\"__typename\":\"Paragraph\",\"id\":\"d9cb07e3fb9d_preview_4\",\"name\":\"8fb8\",\"type\":\"H4\",\"href\":null,\"layout\":null,\"metadata\":null,\"text\":\"Attention! Dangerous Product Management Animals Can Easily Derail Teams\",\"hasDropCap\":null,\"dropCapImage\":null,\"markups\":[],\"codeBlockMetadata\":null,\"iframe\":null,\"mixtapeMetadata\":null},\"Paragraph:d9cb07e3fb9d_preview_5\":{\"__typename\":\"Paragraph\",\"id\":\"d9cb07e3fb9d_preview_5\",\"name\":\"300b\",\"type\":\"P\",\"href\":null,\"layout\":null,\"metadata\":null,\"text\":\"Being a Product Owner in any organization is an adventure in itself; a role that is often misunderstood. Sometimes you are expected to organize Agile product development towards management’s expectations. On other occasions, the job title is only a ‘relabeled’ Business Analyst that is expected to fulfill the roles of…\",\"hasDropCap\":null,\"dropCapImage\":null,\"markups\":[],\"codeBlockMetadata\":null,\"iframe\":null,\"mixtapeMetadata\":null},\"User:3385ff7d728\":{\"__typename\":\"User\",\"id\":\"3385ff7d728\"},\"ImageMetadata:1*0JZsm2BWEc8sCX1kWKyr8Q.jpeg\":{\"__typename\":\"ImageMetadata\",\"id\":\"1*0JZsm2BWEc8sCX1kWKyr8Q.jpeg\"},\"CollectionViewerEdge:collectionId:da549de9a1c2-viewerId:lo_1ce2d93b9899\":{\"__typename\":\"CollectionViewerEdge\",\"id\":\"collectionId:da549de9a1c2-viewerId:lo_1ce2d93b9899\",\"isEditor\":false},\"NewsletterV3:b7712f6beb6f\":{\"__typename\":\"NewsletterV3\",\"id\":\"b7712f6beb6f\",\"subscribersCount\":7},\"Tag:teamwork\":{\"__typename\":\"Tag\",\"id\":\"teamwork\",\"displayTitle\":\"Teamwork\",\"normalizedTagSlug\":\"teamwork\"},\"Tag:leadership\":{\"__typename\":\"Tag\",\"id\":\"leadership\",\"displayTitle\":\"Leadership\",\"normalizedTagSlug\":\"leadership\"},\"Post:2b318f592250\":{\"__typename\":\"Post\",\"id\":\"2b318f592250\",\"creator\":{\"__ref\":\"User:c25bf53f7c81\"},\"collection\":{\"__ref\":\"Collection:da549de9a1c2\"},\"extendedPreviewContent({\\\"truncationConfig\\\":{\\\"minimumWordLengthForTruncation\\\":150,\\\"previewParagraphsWordCountThreshold\\\":400,\\\"shortformMinimumWordLengthForTruncation\\\":30,\\\"shortformPreviewParagraphsWordCountThreshold\\\":30,\\\"showFullImageCaptions\\\":true,\\\"truncateAtEndOfSentence\\\":true}})\":{\"__typename\":\"PreviewContent\",\"bodyModel\":{\"__typename\":\"RichText\",\"sections\":[{\"__typename\":\"Section\",\"name\":\"3279\",\"startIndex\":0,\"textLayout\":null,\"imageLayout\":null,\"backgroundImage\":null,\"videoLayout\":null,\"backgroundVideo\":null}],\"paragraphs\":[{\"__ref\":\"Paragraph:d9cb07e3fb9d_preview_0\"},{\"__ref\":\"Paragraph:d9cb07e3fb9d_preview_1\"},{\"__ref\":\"Paragraph:d9cb07e3fb9d_preview_2\"},{\"__ref\":\"Paragraph:d9cb07e3fb9d_preview_3\"},{\"__ref\":\"Paragraph:d9cb07e3fb9d_preview_4\"},{\"__ref\":\"Paragraph:d9cb07e3fb9d_preview_5\"}]},\"isFullContent\":false,\"subtitle\":\"And ways to hunt them down\"},\"firstPublishedAt\":1671736807670,\"isLocked\":false,\"isSeries\":false,\"isShortform\":false,\"latestPublishedAt\":1671736807670,\"inResponseToCatalogResult\":null,\"previewImage\":{\"__ref\":\"ImageMetadata:1*TIY5eiK4QE7w-y3ABdB3GA.png\"},\"readingTime\":8.531132075471698,\"sequence\":null,\"title\":\"The Dangerous Animals of Product Management\",\"uniqueSlug\":\"the-dangerous-animals-of-product-management-2b318f592250\",\"visibility\":\"PUBLIC\",\"pendingCollection\":null,\"statusForCollection\":\"APPROVED\",\"isPublished\":true,\"allowResponses\":true,\"postResponses\":{\"__typename\":\"PostResponses\",\"count\":0},\"isLimitedState\":false,\"mediumUrl\":\"https:\\u002F\\u002Fmedium.com\\u002Fserious-scrum\\u002Fthe-dangerous-animals-of-product-management-2b318f592250\",\"voterCount\":4,\"recommenders\":[],\"clapCount\":19,\"pinnedAt\":0,\"pinnedByCreatorAt\":0,\"curationEligibleAt\":0,\"responseDistribution\":\"NOT_DISTRIBUTED\",\"inResponseToPostResult\":null,\"isNewsletter\":false,\"isAuthorNewsletter\":true,\"inResponseToEntityType\":null,\"tags\":[{\"__ref\":\"Tag:product-management\"},{\"__ref\":\"Tag:teamwork\"},{\"__ref\":\"Tag:leadership\"},{\"__ref\":\"Tag:product-development\"},{\"__ref\":\"Tag:agile\"}]},\"User:1f527f58f042\":{\"__typename\":\"User\",\"name\":\"Matthew Croker\",\"username\":\"matthewcroker\",\"id\":\"1f527f58f042\",\"mediumMemberAt\":0,\"socialStats\":{\"__typename\":\"SocialStats\",\"followerCount\":62},\"verifications\":{\"__typename\":\"VerifiedInfo\",\"isBookAuthor\":false},\"customDomainState\":null,\"hasSubdomain\":false,\"bio\":\"Agile Coach, Co-creator of Decision Espresso,, Creator of Story Ristretto, Agile Athlete too :)\",\"imageId\":\"2*Cgazy2gGEvsaCAvNq_BxOQ.png\",\"isAuroraVisible\":true,\"newsletterV3\":{\"__ref\":\"NewsletterV3:7305b6b78813\"}},\"Paragraph:ceab78d80da6_preview_0\":{\"__typename\":\"Paragraph\",\"id\":\"ceab78d80da6_preview_0\",\"name\":\"414e\",\"type\":\"H3\",\"href\":null,\"layout\":null,\"metadata\":null,\"text\":\"Story Ristretto — A simple and playful way that helps you write good user stories.\",\"hasDropCap\":null,\"dropCapImage\":null,\"markups\":[],\"codeBlockMetadata\":null,\"iframe\":null,\"mixtapeMetadata\":null},\"Paragraph:ceab78d80da6_preview_1\":{\"__typename\":\"Paragraph\",\"id\":\"ceab78d80da6_preview_1\",\"name\":\"b407\",\"type\":\"P\",\"href\":null,\"layout\":null,\"metadata\":null,\"text\":\"Good user stories have more than a good, standardized structure. They are concise, clear, rooted in user value, and before you know it I’m describing the INVEST principle. With so much to keep in mind while writing user stories, people might feel overwhelmed, at best, perhaps even anxious to miss…\",\"hasDropCap\":null,\"dropCapImage\":null,\"markups\":[{\"__typename\":\"Markup\",\"type\":\"A\",\"start\":154,\"end\":170,\"href\":\"https:\\u002F\\u002Fwww.google.com\\u002Furl?sa=t&source=web&rct=j&url=https:\\u002F\\u002Fwww.agilealliance.org\\u002Fglossary\\u002Finvest\\u002F&ved=2ahUKEwi00-f7h_T7AhWMuKQKHe89BBAQFnoECC4QAQ&usg=AOvVaw0M16kvOVuvU5SiBn2Tg6TT\",\"anchorType\":\"LINK\",\"userId\":null,\"linkMetadata\":null}],\"codeBlockMetadata\":null,\"iframe\":null,\"mixtapeMetadata\":null},\"ImageMetadata:1*GQlTas4lJ9rWOPwTXg-fRA.png\":{\"__typename\":\"ImageMetadata\",\"id\":\"1*GQlTas4lJ9rWOPwTXg-fRA.png\",\"focusPercentX\":null,\"focusPercentY\":null},\"NewsletterV3:7305b6b78813\":{\"__typename\":\"NewsletterV3\",\"id\":\"7305b6b78813\",\"subscribersCount\":0},\"Tag:user-stories\":{\"__typename\":\"Tag\",\"id\":\"user-stories\",\"displayTitle\":\"User Stories\",\"normalizedTagSlug\":\"user-stories\"},\"Tag:scrum\":{\"__typename\":\"Tag\",\"id\":\"scrum\",\"displayTitle\":\"Scrum\",\"normalizedTagSlug\":\"scrum\"},\"Tag:design-thinking\":{\"__typename\":\"Tag\",\"id\":\"design-thinking\",\"displayTitle\":\"Design Thinking\",\"normalizedTagSlug\":\"design-thinking\"},\"Tag:serious-scrum\":{\"__typename\":\"Tag\",\"id\":\"serious-scrum\",\"displayTitle\":\"Serious Scrum\",\"normalizedTagSlug\":\"serious-scrum\"},\"Post:70b0b67b9ebb\":{\"__typename\":\"Post\",\"id\":\"70b0b67b9ebb\",\"creator\":{\"__ref\":\"User:1f527f58f042\"},\"collection\":{\"__ref\":\"Collection:da549de9a1c2\"},\"extendedPreviewContent({\\\"truncationConfig\\\":{\\\"minimumWordLengthForTruncation\\\":150,\\\"previewParagraphsWordCountThreshold\\\":400,\\\"shortformMinimumWordLengthForTruncation\\\":30,\\\"shortformPreviewParagraphsWordCountThreshold\\\":30,\\\"showFullImageCaptions\\\":true,\\\"truncateAtEndOfSentence\\\":true}})\":{\"__typename\":\"PreviewContent\",\"bodyModel\":{\"__typename\":\"RichText\",\"sections\":[{\"__typename\":\"Section\",\"name\":\"d2b6\",\"startIndex\":0,\"textLayout\":\"FLOW\",\"imageLayout\":\"NONE\",\"backgroundImage\":null,\"videoLayout\":\"NO_VIDEO\",\"backgroundVideo\":null}],\"paragraphs\":[{\"__ref\":\"Paragraph:ceab78d80da6_preview_0\"},{\"__ref\":\"Paragraph:ceab78d80da6_preview_1\"}]},\"isFullContent\":false,\"subtitle\":\"Good user stories have more than a good, standardized structure. They are concise, clear, rooted in user value, and before you know it I’m…\"},\"firstPublishedAt\":1671816405592,\"isLocked\":false,\"isSeries\":false,\"isShortform\":false,\"latestPublishedAt\":1671816405592,\"inResponseToCatalogResult\":null,\"previewImage\":{\"__ref\":\"ImageMetadata:1*GQlTas4lJ9rWOPwTXg-fRA.png\"},\"readingTime\":5.580503144654088,\"sequence\":null,\"title\":\"Story Ristretto — A simple and playful way that helps you write good user stories.\",\"uniqueSlug\":\"story-ristretto-a-simple-and-playful-way-that-helps-you-write-good-user-stories-70b0b67b9ebb\",\"visibility\":\"PUBLIC\",\"pendingCollection\":null,\"statusForCollection\":\"APPROVED\",\"isPublished\":true,\"allowResponses\":true,\"postResponses\":{\"__typename\":\"PostResponses\",\"count\":0},\"isLimitedState\":false,\"mediumUrl\":\"https:\\u002F\\u002Fmedium.com\\u002Fserious-scrum\\u002Fstory-ristretto-a-simple-and-playful-way-that-helps-you-write-good-user-stories-70b0b67b9ebb\",\"voterCount\":4,\"recommenders\":[],\"clapCount\":13,\"pinnedAt\":0,\"pinnedByCreatorAt\":0,\"curationEligibleAt\":0,\"responseDistribution\":\"NOT_DISTRIBUTED\",\"inResponseToPostResult\":null,\"isNewsletter\":false,\"isAuthorNewsletter\":false,\"inResponseToEntityType\":null,\"tags\":[{\"__ref\":\"Tag:user-stories\"},{\"__ref\":\"Tag:scrum\"},{\"__ref\":\"Tag:design-thinking\"},{\"__ref\":\"Tag:product-management\"},{\"__ref\":\"Tag:serious-scrum\"}]},\"User:28c05bfacd65\":{\"__typename\":\"User\",\"name\":\"Navneet Maheshwari\",\"username\":\"navneetmaheshwari99\",\"id\":\"28c05bfacd65\",\"mediumMemberAt\":1671818487000,\"socialStats\":{\"__typename\":\"SocialStats\",\"followerCount\":26},\"verifications\":{\"__typename\":\"VerifiedInfo\",\"isBookAuthor\":false},\"customDomainState\":null,\"hasSubdomain\":false,\"bio\":\"A customer centric product manager with a deep experience in understanding customer’s problem and building solutions around it.\",\"imageId\":\"1*t0RPrAUVlLmz5rfrGB5APw.jpeg\",\"isAuroraVisible\":true,\"newsletterV3\":{\"__ref\":\"NewsletterV3:4ba29d873e90\"}},\"Paragraph:d19c237d562c_preview_0\":{\"__typename\":\"Paragraph\",\"id\":\"d19c237d562c_preview_0\",\"name\":\"841a\",\"type\":\"H3\",\"href\":null,\"layout\":null,\"metadata\":null,\"text\":\"SaaS-based Tools for Product Managers\",\"hasDropCap\":null,\"dropCapImage\":null,\"markups\":[],\"codeBlockMetadata\":null,\"iframe\":null,\"mixtapeMetadata\":null},\"Paragraph:d19c237d562c_preview_1\":{\"__typename\":\"Paragraph\",\"id\":\"d19c237d562c_preview_1\",\"name\":\"9158\",\"type\":\"P\",\"href\":null,\"layout\":null,\"metadata\":null,\"text\":\"To start this, one should first understand what a product manager does. On the Meta level, a product manager connects business strategy, design knowledge, and customer needs in order to develop a product that is relevant, feasible, and valuable. PM is a person who understands the customer better than anybody…\",\"hasDropCap\":null,\"dropCapImage\":null,\"markups\":[],\"codeBlockMetadata\":null,\"iframe\":null,\"mixtapeMetadata\":null},\"ImageMetadata:1*jnrGHBDhGP-UFsCCQThQIQ.png\":{\"__typename\":\"ImageMetadata\",\"id\":\"1*jnrGHBDhGP-UFsCCQThQIQ.png\",\"focusPercentX\":null,\"focusPercentY\":null},\"NewsletterV3:4ba29d873e90\":{\"__typename\":\"NewsletterV3\",\"id\":\"4ba29d873e90\",\"subscribersCount\":0},\"Tag:saas\":{\"__typename\":\"Tag\",\"id\":\"saas\",\"displayTitle\":\"SaaS\",\"normalizedTagSlug\":\"saas\"},\"Tag:productivity\":{\"__typename\":\"Tag\",\"id\":\"productivity\",\"displayTitle\":\"Productivity\",\"normalizedTagSlug\":\"productivity\"},\"Post:23a5ffd8f610\":{\"__typename\":\"Post\",\"id\":\"23a5ffd8f610\",\"creator\":{\"__ref\":\"User:28c05bfacd65\"},\"collection\":null,\"extendedPreviewContent({\\\"truncationConfig\\\":{\\\"minimumWordLengthForTruncation\\\":150,\\\"previewParagraphsWordCountThreshold\\\":400,\\\"shortformMinimumWordLengthForTruncation\\\":30,\\\"shortformPreviewParagraphsWordCountThreshold\\\":30,\\\"showFullImageCaptions\\\":true,\\\"truncateAtEndOfSentence\\\":true}})\":{\"__typename\":\"PreviewContent\",\"bodyModel\":{\"__typename\":\"RichText\",\"sections\":[{\"__typename\":\"Section\",\"name\":\"e4e9\",\"startIndex\":0,\"textLayout\":null,\"imageLayout\":null,\"backgroundImage\":null,\"videoLayout\":null,\"backgroundVideo\":null}],\"paragraphs\":[{\"__ref\":\"Paragraph:d19c237d562c_preview_0\"},{\"__ref\":\"Paragraph:d19c237d562c_preview_1\"}]},\"isFullContent\":false,\"subtitle\":\"To start this, one should first understand what a product manager does. On the Meta level, a product manager connects business strategy…\"},\"firstPublishedAt\":1671818118007,\"isLocked\":false,\"isSeries\":false,\"isShortform\":false,\"latestPublishedAt\":1671819261535,\"inResponseToCatalogResult\":null,\"previewImage\":{\"__ref\":\"ImageMetadata:1*jnrGHBDhGP-UFsCCQThQIQ.png\"},\"readingTime\":3.384905660377359,\"sequence\":null,\"title\":\"SaaS-based Tools for Product Managers\",\"uniqueSlug\":\"saas-based-tools-for-product-managers-23a5ffd8f610\",\"visibility\":\"PUBLIC\",\"pendingCollection\":null,\"statusForCollection\":null,\"isPublished\":true,\"allowResponses\":true,\"postResponses\":{\"__typename\":\"PostResponses\",\"count\":0},\"isLimitedState\":false,\"mediumUrl\":\"https:\\u002F\\u002Fmedium.com\\u002F@navneetmaheshwari99\\u002Fsaas-based-tools-for-product-managers-23a5ffd8f610\",\"voterCount\":1,\"recommenders\":[],\"clapCount\":20,\"pinnedAt\":0,\"pinnedByCreatorAt\":0,\"curationEligibleAt\":0,\"responseDistribution\":\"NOT_DISTRIBUTED\",\"inResponseToPostResult\":null,\"isNewsletter\":false,\"isAuthorNewsletter\":false,\"inResponseToEntityType\":null,\"tags\":[{\"__ref\":\"Tag:startup\"},{\"__ref\":\"Tag:product-management\"},{\"__ref\":\"Tag:saas\"},{\"__ref\":\"Tag:technology\"},{\"__ref\":\"Tag:productivity\"}]},\"User:bc5a56cb6bfe\":{\"__typename\":\"User\",\"name\":\"Eric Chung\",\"username\":\"ericchungdesign\",\"id\":\"bc5a56cb6bfe\",\"mediumMemberAt\":0,\"socialStats\":{\"__typename\":\"SocialStats\",\"followerCount\":1418},\"verifications\":{\"__typename\":\"VerifiedInfo\",\"isBookAuthor\":false},\"customDomainState\":null,\"hasSubdomain\":false,\"bio\":\"Product Designer. Writing about UX, business, career advice, and more!\",\"imageId\":\"1*11Rp411_VMkg9TY0R_5Byw.jpeg\",\"isAuroraVisible\":true,\"newsletterV3\":{\"__ref\":\"NewsletterV3:187cb89ec5e3\"}},\"Collection:138adf9c44c\":{\"__typename\":\"Collection\",\"id\":\"138adf9c44c\",\"name\":\"UX Collective\",\"domain\":\"uxdesign.cc\",\"slug\":\"user-experience-design-1\",\"creator\":{\"__ref\":\"User:50e39baefa55\"},\"avatar\":{\"__ref\":\"ImageMetadata:1*mDhF9X4VO0rCrJvWFatyxg.png\"},\"isAuroraEligible\":true,\"isAuroraVisible\":true,\"viewerEdge\":{\"__ref\":\"CollectionViewerEdge:collectionId:138adf9c44c-viewerId:lo_1ce2d93b9899\"}},\"Paragraph:4424fd1c9ecb_preview_0\":{\"__typename\":\"Paragraph\",\"id\":\"4424fd1c9ecb_preview_0\",\"name\":\"ebec\",\"type\":\"H3\",\"href\":null,\"layout\":null,\"metadata\":null,\"text\":\"Demonstrating the ROI of UX design to stakeholders\",\"hasDropCap\":null,\"dropCapImage\":null,\"markups\":[],\"codeBlockMetadata\":null,\"iframe\":null,\"mixtapeMetadata\":null},\"Paragraph:4424fd1c9ecb_preview_1\":{\"__typename\":\"Paragraph\",\"id\":\"4424fd1c9ecb_preview_1\",\"name\":\"2769\",\"type\":\"H4\",\"href\":null,\"layout\":null,\"metadata\":null,\"text\":\"Build a strong business case for UX and advocate for good design\",\"hasDropCap\":null,\"dropCapImage\":null,\"markups\":[],\"codeBlockMetadata\":null,\"iframe\":null,\"mixtapeMetadata\":null},\"ImageMetadata:0*JyeuFWa8WAIUXqbZ.jpeg\":{\"__typename\":\"ImageMetadata\",\"id\":\"0*JyeuFWa8WAIUXqbZ.jpeg\",\"originalHeight\":933,\"originalWidth\":1400,\"focusPercentX\":null,\"focusPercentY\":null,\"alt\":\"Woman in Pink Long Sleeve Shirt Holding White Paper\"},\"Paragraph:4424fd1c9ecb_preview_2\":{\"__typename\":\"Paragraph\",\"id\":\"4424fd1c9ecb_preview_2\",\"name\":\"1b63\",\"type\":\"IMG\",\"href\":null,\"layout\":\"INSET_CENTER\",\"metadata\":{\"__ref\":\"ImageMetadata:0*JyeuFWa8WAIUXqbZ.jpeg\"},\"text\":\"Photo by Alena Darmel on Pexels\",\"hasDropCap\":null,\"dropCapImage\":null,\"markups\":[{\"__typename\":\"Markup\",\"type\":\"A\",\"start\":9,\"end\":21,\"href\":\"https:\\u002F\\u002Fwww.pexels.com\\u002Fphoto\\u002Fwoman-in-pink-long-sleeve-shirt-holding-white-paper-7710120\\u002F\",\"anchorType\":\"LINK\",\"userId\":null,\"linkMetadata\":null},{\"__typename\":\"Markup\",\"type\":\"A\",\"start\":25,\"end\":31,\"href\":\"https:\\u002F\\u002Fwww.pexels.com\\u002F\",\"anchorType\":\"LINK\",\"userId\":null,\"linkMetadata\":null}],\"codeBlockMetadata\":null,\"iframe\":null,\"mixtapeMetadata\":null},\"Paragraph:4424fd1c9ecb_preview_3\":{\"__typename\":\"Paragraph\",\"id\":\"4424fd1c9ecb_preview_3\",\"name\":\"e284\",\"type\":\"P\",\"href\":null,\"layout\":null,\"metadata\":null,\"text\":\"Designers are trained to understand the value that good user experience (UX) can bring to an organization. We learn about metrics and testing methods that can quantify the success of a design.\",\"hasDropCap\":null,\"dropCapImage\":null,\"markups\":[],\"codeBlockMetadata\":null,\"iframe\":null,\"mixtapeMetadata\":null},\"Paragraph:4424fd1c9ecb_preview_4\":{\"__typename\":\"Paragraph\",\"id\":\"4424fd1c9ecb_preview_4\",\"name\":\"afbd\",\"type\":\"P\",\"href\":null,\"layout\":null,\"metadata\":null,\"text\":\"However, it can still be challenging to communicate the value of design to executives and other stakeholders. It…\",\"hasDropCap\":null,\"dropCapImage\":null,\"markups\":[],\"codeBlockMetadata\":null,\"iframe\":null,\"mixtapeMetadata\":null},\"User:50e39baefa55\":{\"__typename\":\"User\",\"id\":\"50e39baefa55\"},\"ImageMetadata:1*mDhF9X4VO0rCrJvWFatyxg.png\":{\"__typename\":\"ImageMetadata\",\"id\":\"1*mDhF9X4VO0rCrJvWFatyxg.png\"},\"CollectionViewerEdge:collectionId:138adf9c44c-viewerId:lo_1ce2d93b9899\":{\"__typename\":\"CollectionViewerEdge\",\"id\":\"collectionId:138adf9c44c-viewerId:lo_1ce2d93b9899\",\"isEditor\":false},\"NewsletterV3:187cb89ec5e3\":{\"__typename\":\"NewsletterV3\",\"id\":\"187cb89ec5e3\",\"subscribersCount\":37},\"Post:7f2ac55ec82c\":{\"__typename\":\"Post\",\"id\":\"7f2ac55ec82c\",\"creator\":{\"__ref\":\"User:bc5a56cb6bfe\"},\"collection\":{\"__ref\":\"Collection:138adf9c44c\"},\"extendedPreviewContent({\\\"truncationConfig\\\":{\\\"minimumWordLengthForTruncation\\\":150,\\\"previewParagraphsWordCountThreshold\\\":400,\\\"shortformMinimumWordLengthForTruncation\\\":30,\\\"shortformPreviewParagraphsWordCountThreshold\\\":30,\\\"showFullImageCaptions\\\":true,\\\"truncateAtEndOfSentence\\\":true}})\":{\"__typename\":\"PreviewContent\",\"bodyModel\":{\"__typename\":\"RichText\",\"sections\":[{\"__typename\":\"Section\",\"name\":\"2086\",\"startIndex\":0,\"textLayout\":null,\"imageLayout\":null,\"backgroundImage\":null,\"videoLayout\":null,\"backgroundVideo\":null}],\"paragraphs\":[{\"__ref\":\"Paragraph:4424fd1c9ecb_preview_0\"},{\"__ref\":\"Paragraph:4424fd1c9ecb_preview_1\"},{\"__ref\":\"Paragraph:4424fd1c9ecb_preview_2\"},{\"__ref\":\"Paragraph:4424fd1c9ecb_preview_3\"},{\"__ref\":\"Paragraph:4424fd1c9ecb_preview_4\"}]},\"isFullContent\":false,\"subtitle\":\"Build a strong business case for UX and advocate for good design\"},\"firstPublishedAt\":1671697124708,\"isLocked\":true,\"isSeries\":false,\"isShortform\":false,\"latestPublishedAt\":1671697124708,\"inResponseToCatalogResult\":null,\"previewImage\":{\"__ref\":\"ImageMetadata:0*JyeuFWa8WAIUXqbZ.jpeg\"},\"readingTime\":4.328301886792453,\"sequence\":null,\"title\":\"Demonstrating the ROI of UX design to stakeholders\",\"uniqueSlug\":\"demonstrating-the-roi-of-ux-design-to-stakeholders-7f2ac55ec82c\",\"visibility\":\"LOCKED\",\"pendingCollection\":null,\"statusForCollection\":\"APPROVED\",\"isPublished\":true,\"allowResponses\":true,\"postResponses\":{\"__typename\":\"PostResponses\",\"count\":0},\"isLimitedState\":false,\"mediumUrl\":\"https:\\u002F\\u002Fuxdesign.cc\\u002Fdemonstrating-the-roi-of-ux-design-to-stakeholders-7f2ac55ec82c\",\"voterCount\":11,\"recommenders\":[],\"clapCount\":290,\"pinnedAt\":0,\"pinnedByCreatorAt\":0,\"curationEligibleAt\":1671644398819,\"responseDistribution\":\"NOT_DISTRIBUTED\",\"inResponseToPostResult\":null,\"isNewsletter\":false,\"isAuthorNewsletter\":true,\"inResponseToEntityType\":null,\"tags\":[{\"__ref\":\"Tag:ux\"},{\"__ref\":\"Tag:design\"},{\"__ref\":\"Tag:product-management\"},{\"__ref\":\"Tag:business\"},{\"__ref\":\"Tag:startup\"}]},\"User:d340a76b55bb\":{\"__typename\":\"User\",\"name\":\"Roman Borisov\",\"username\":\"impostor_syndrome\",\"id\":\"d340a76b55bb\",\"mediumMemberAt\":1670514213000,\"socialStats\":{\"__typename\":\"SocialStats\",\"followerCount\":3},\"verifications\":{\"__typename\":\"VerifiedInfo\",\"isBookAuthor\":false},\"customDomainState\":{\"__typename\":\"CustomDomainState\",\"live\":null},\"hasSubdomain\":false,\"bio\":\"Product manager \\u002F Business analyst\",\"imageId\":\"1*yK87tBdS14_XeBc2HJ7vsA.jpeg\",\"isAuroraVisible\":true,\"newsletterV3\":{\"__ref\":\"NewsletterV3:66fd3e1ca35f\"}},\"Collection:48e972f5c24e\":{\"__typename\":\"Collection\",\"id\":\"48e972f5c24e\",\"name\":\"Bootcamp\",\"domain\":\"bootcamp.uxdesign.cc\",\"slug\":\"design-bootcamp\",\"creator\":{\"__ref\":\"User:50e39baefa55\"},\"avatar\":{\"__ref\":\"ImageMetadata:1*_wDJs77bAPiwuAe9qOK5Zg.png\"},\"isAuroraEligible\":true,\"isAuroraVisible\":true,\"viewerEdge\":{\"__ref\":\"CollectionViewerEdge:collectionId:48e972f5c24e-viewerId:lo_1ce2d93b9899\"}},\"Paragraph:dad0ba3a377_preview_0\":{\"__typename\":\"Paragraph\",\"id\":\"dad0ba3a377_preview_0\",\"name\":\"499e\",\"type\":\"H3\",\"href\":null,\"layout\":null,\"metadata\":null,\"text\":\"How to boost your technical documentation\",\"hasDropCap\":null,\"dropCapImage\":null,\"markups\":[],\"codeBlockMetadata\":null,\"iframe\":null,\"mixtapeMetadata\":null},\"Paragraph:dad0ba3a377_preview_1\":{\"__typename\":\"Paragraph\",\"id\":\"dad0ba3a377_preview_1\",\"name\":\"434c\",\"type\":\"P\",\"href\":null,\"layout\":null,\"metadata\":null,\"text\":\"Everybody knows that technical documentation is something boring and takes time. But as soon as most of your experienced developers change jobs and newcomers are stuck because of uncovered questions — well-described documentation is the most precious thing in the world. Here I’ll tell you how we could improve our…\",\"hasDropCap\":null,\"dropCapImage\":null,\"markups\":[{\"__typename\":\"Markup\",\"type\":\"STRONG\",\"start\":361,\"end\":374,\"href\":null,\"anchorType\":null,\"userId\":null,\"linkMetadata\":null}],\"codeBlockMetadata\":null,\"iframe\":null,\"mixtapeMetadata\":null},\"ImageMetadata:1*C45BbW1HvpRzJvAumrHC9g.png\":{\"__typename\":\"ImageMetadata\",\"id\":\"1*C45BbW1HvpRzJvAumrHC9g.png\",\"focusPercentX\":null,\"focusPercentY\":null},\"ImageMetadata:1*_wDJs77bAPiwuAe9qOK5Zg.png\":{\"__typename\":\"ImageMetadata\",\"id\":\"1*_wDJs77bAPiwuAe9qOK5Zg.png\"},\"CollectionViewerEdge:collectionId:48e972f5c24e-viewerId:lo_1ce2d93b9899\":{\"__typename\":\"CollectionViewerEdge\",\"id\":\"collectionId:48e972f5c24e-viewerId:lo_1ce2d93b9899\",\"isEditor\":false},\"NewsletterV3:66fd3e1ca35f\":{\"__typename\":\"NewsletterV3\",\"id\":\"66fd3e1ca35f\",\"subscribersCount\":0},\"Tag:qa\":{\"__typename\":\"Tag\",\"id\":\"qa\",\"displayTitle\":\"QA\",\"normalizedTagSlug\":\"qa\"},\"Tag:documentation\":{\"__typename\":\"Tag\",\"id\":\"documentation\",\"displayTitle\":\"Documentation\",\"normalizedTagSlug\":\"documentation\"},\"Post:808afb8a5d64\":{\"__typename\":\"Post\",\"id\":\"808afb8a5d64\",\"creator\":{\"__ref\":\"User:d340a76b55bb\"},\"collection\":{\"__ref\":\"Collection:48e972f5c24e\"},\"extendedPreviewContent({\\\"truncationConfig\\\":{\\\"minimumWordLengthForTruncation\\\":150,\\\"previewParagraphsWordCountThreshold\\\":400,\\\"shortformMinimumWordLengthForTruncation\\\":30,\\\"shortformPreviewParagraphsWordCountThreshold\\\":30,\\\"showFullImageCaptions\\\":true,\\\"truncateAtEndOfSentence\\\":true}})\":{\"__typename\":\"PreviewContent\",\"bodyModel\":{\"__typename\":\"RichText\",\"sections\":[{\"__typename\":\"Section\",\"name\":\"f956\",\"startIndex\":0,\"textLayout\":null,\"imageLayout\":null,\"backgroundImage\":null,\"videoLayout\":null,\"backgroundVideo\":null}],\"paragraphs\":[{\"__ref\":\"Paragraph:dad0ba3a377_preview_0\"},{\"__ref\":\"Paragraph:dad0ba3a377_preview_1\"}]},\"isFullContent\":false,\"subtitle\":\"Everybody knows that technical documentation is something boring and takes time. But as soon as most of your experienced developers change…\"},\"firstPublishedAt\":1671784131670,\"isLocked\":false,\"isSeries\":false,\"isShortform\":false,\"latestPublishedAt\":1671784131670,\"inResponseToCatalogResult\":null,\"previewImage\":{\"__ref\":\"ImageMetadata:1*C45BbW1HvpRzJvAumrHC9g.png\"},\"readingTime\":4.85188679245283,\"sequence\":null,\"title\":\"How to boost your technical documentation\",\"uniqueSlug\":\"how-to-boost-your-technical-documentation-808afb8a5d64\",\"visibility\":\"PUBLIC\",\"pendingCollection\":null,\"statusForCollection\":\"APPROVED\",\"isPublished\":true,\"allowResponses\":true,\"postResponses\":{\"__typename\":\"PostResponses\",\"count\":0},\"isLimitedState\":false,\"mediumUrl\":\"https:\\u002F\\u002Fbootcamp.uxdesign.cc\\u002Fhow-to-boost-your-technical-documentation-808afb8a5d64\",\"voterCount\":2,\"recommenders\":[],\"clapCount\":51,\"pinnedAt\":0,\"pinnedByCreatorAt\":0,\"curationEligibleAt\":0,\"responseDistribution\":\"NOT_DISTRIBUTED\",\"inResponseToPostResult\":null,\"isNewsletter\":false,\"isAuthorNewsletter\":false,\"inResponseToEntityType\":null,\"tags\":[{\"__ref\":\"Tag:qa\"},{\"__ref\":\"Tag:scrum\"},{\"__ref\":\"Tag:agile\"},{\"__ref\":\"Tag:documentation\"},{\"__ref\":\"Tag:product-management\"}]},\"User:e13b9581550c\":{\"__typename\":\"User\",\"name\":\"Andrew Grigoriev\",\"username\":\"andrey.promo\",\"id\":\"e13b9581550c\",\"mediumMemberAt\":0,\"socialStats\":{\"__typename\":\"SocialStats\",\"followerCount\":4},\"verifications\":{\"__typename\":\"VerifiedInfo\",\"isBookAuthor\":false},\"customDomainState\":null,\"hasSubdomain\":false,\"bio\":\"Startup mentor | Product management teacher | CEO&Co-founder at GetShop.TV | Help companies better understand their customer and develop better products\",\"imageId\":\"1*N596mPHbDlpSkkdPLvs-9g.jpeg\",\"isAuroraVisible\":true,\"newsletterV3\":null},\"Paragraph:7e1498e17861_preview_0\":{\"__typename\":\"Paragraph\",\"id\":\"7e1498e17861_preview_0\",\"name\":\"b708\",\"type\":\"H3\",\"href\":null,\"layout\":null,\"metadata\":null,\"text\":\"A few tips which will help you better understand respondent through customer interview\",\"hasDropCap\":null,\"dropCapImage\":null,\"markups\":[],\"codeBlockMetadata\":null,\"iframe\":null,\"mixtapeMetadata\":null},\"ImageMetadata:1*yidAcid6UxjtMiYqq1-r4w.jpeg\":{\"__typename\":\"ImageMetadata\",\"id\":\"1*yidAcid6UxjtMiYqq1-r4w.jpeg\",\"originalHeight\":965,\"originalWidth\":1280,\"focusPercentX\":null,\"focusPercentY\":null,\"alt\":\"customer interview\"},\"Paragraph:7e1498e17861_preview_1\":{\"__typename\":\"Paragraph\",\"id\":\"7e1498e17861_preview_1\",\"name\":\"15e8\",\"type\":\"IMG\",\"href\":null,\"layout\":\"INSET_CENTER\",\"metadata\":{\"__ref\":\"ImageMetadata:1*yidAcid6UxjtMiYqq1-r4w.jpeg\"},\"text\":\"illustration: Serg Shest\",\"hasDropCap\":null,\"dropCapImage\":null,\"markups\":[],\"codeBlockMetadata\":null,\"iframe\":null,\"mixtapeMetadata\":null},\"Paragraph:7e1498e17861_preview_2\":{\"__typename\":\"Paragraph\",\"id\":\"7e1498e17861_preview_2\",\"name\":\"4b3f\",\"type\":\"P\",\"href\":null,\"layout\":null,\"metadata\":null,\"text\":\"It’s well-known that the first step is the most difficult thing. When I teach product managers or product marketing managers, I always ask them to conduct customer interviews with minimal 15–20 different people. It doesn’t matter which kind of interview they choose: JTBD interview, problem interview, in-depth interview, etc. In…\",\"hasDropCap\":null,\"dropCapImage\":null,\"markups\":[],\"codeBlockMetadata\":null,\"iframe\":null,\"mixtapeMetadata\":null},\"Tag:jtbd\":{\"__typename\":\"Tag\",\"id\":\"jtbd\",\"displayTitle\":\"Jtbd\",\"normalizedTagSlug\":\"jtbd\"},\"Tag:customer-development\":{\"__typename\":\"Tag\",\"id\":\"customer-development\",\"displayTitle\":\"Customer Development\",\"normalizedTagSlug\":\"customer-development\"},\"Tag:interview\":{\"__typename\":\"Tag\",\"id\":\"interview\",\"displayTitle\":\"Interview\",\"normalizedTagSlug\":\"interview\"},\"Tag:customer-experience\":{\"__typename\":\"Tag\",\"id\":\"customer-experience\",\"displayTitle\":\"Customer Experience\",\"normalizedTagSlug\":\"customer-experience\"},\"Post:25238eff7037\":{\"__typename\":\"Post\",\"id\":\"25238eff7037\",\"creator\":{\"__ref\":\"User:e13b9581550c\"},\"collection\":null,\"extendedPreviewContent({\\\"truncationConfig\\\":{\\\"minimumWordLengthForTruncation\\\":150,\\\"previewParagraphsWordCountThreshold\\\":400,\\\"shortformMinimumWordLengthForTruncation\\\":30,\\\"shortformPreviewParagraphsWordCountThreshold\\\":30,\\\"showFullImageCaptions\\\":true,\\\"truncateAtEndOfSentence\\\":true}})\":{\"__typename\":\"PreviewContent\",\"bodyModel\":{\"__typename\":\"RichText\",\"sections\":[{\"__typename\":\"Section\",\"name\":\"9415\",\"startIndex\":0,\"textLayout\":null,\"imageLayout\":null,\"backgroundImage\":null,\"videoLayout\":null,\"backgroundVideo\":null}],\"paragraphs\":[{\"__ref\":\"Paragraph:7e1498e17861_preview_0\"},{\"__ref\":\"Paragraph:7e1498e17861_preview_1\"},{\"__ref\":\"Paragraph:7e1498e17861_preview_2\"}]},\"isFullContent\":false,\"subtitle\":\"There is some advice which can be useful for better understanding your repondents\"},\"firstPublishedAt\":1671714188014,\"isLocked\":false,\"isSeries\":false,\"isShortform\":false,\"latestPublishedAt\":1671716388009,\"inResponseToCatalogResult\":null,\"previewImage\":{\"__ref\":\"ImageMetadata:1*yidAcid6UxjtMiYqq1-r4w.jpeg\"},\"readingTime\":4.09433962264151,\"sequence\":null,\"title\":\"Few tips which will help you better understand respondent through customer interview\",\"uniqueSlug\":\"few-tips-which-will-help-you-better-understand-respondent-through-customer-interview-25238eff7037\",\"visibility\":\"PUBLIC\",\"pendingCollection\":null,\"statusForCollection\":null,\"isPublished\":true,\"allowResponses\":true,\"postResponses\":{\"__typename\":\"PostResponses\",\"count\":0},\"isLimitedState\":false,\"mediumUrl\":\"https:\\u002F\\u002Fmedium.com\\u002F@andrey.promo\\u002Ffew-tips-which-will-help-you-better-understand-respondent-through-customer-interview-25238eff7037\",\"voterCount\":1,\"recommenders\":[],\"clapCount\":3,\"pinnedAt\":0,\"pinnedByCreatorAt\":0,\"curationEligibleAt\":0,\"responseDistribution\":\"NOT_DISTRIBUTED\",\"inResponseToPostResult\":null,\"isNewsletter\":false,\"isAuthorNewsletter\":false,\"inResponseToEntityType\":null,\"tags\":[{\"__ref\":\"Tag:jtbd\"},{\"__ref\":\"Tag:customer-development\"},{\"__ref\":\"Tag:interview\"},{\"__ref\":\"Tag:product-management\"},{\"__ref\":\"Tag:customer-experience\"}]}}</script><script>window.__MIDDLEWARE_STATE__={\"session\":{\"xsrf\":\"\"},\"cache\":{\"cacheStatus\":\"HIT\",\"inDisabledExperiment\":false}}</script><script src=\"https://cdn-client.medium.com/lite/static/js/manifest.397ffd64.js\"></script><script src=\"https://cdn-client.medium.com/lite/static/js/3555.012b8c42.js\"></script><script src=\"https://cdn-client.medium.com/lite/static/js/main.3b044d3d.js\"></script><script src=\"https://cdn-client.medium.com/lite/static/js/instrumentation.c71f0248.chunk.js\"></script>\n",
      "<script src=\"https://cdn-client.medium.com/lite/static/js/8732.9d4e0df2.chunk.js\"></script>\n",
      "<script src=\"https://cdn-client.medium.com/lite/static/js/3447.9effd0e6.chunk.js\"></script>\n",
      "<script src=\"https://cdn-client.medium.com/lite/static/js/AppLayout.7e1eacf0.chunk.js\"></script>\n",
      "<script src=\"https://cdn-client.medium.com/lite/static/js/reporting.bbdcaa9d.chunk.js\"></script>\n",
      "<script src=\"https://cdn-client.medium.com/lite/static/js/1752.a348f767.chunk.js\"></script>\n",
      "<script src=\"https://cdn-client.medium.com/lite/static/js/1961.72b183c8.chunk.js\"></script>\n",
      "<script src=\"https://cdn-client.medium.com/lite/static/js/3630.3e2b74df.chunk.js\"></script>\n",
      "<script src=\"https://cdn-client.medium.com/lite/static/js/3115.55d8c998.chunk.js\"></script>\n",
      "<script src=\"https://cdn-client.medium.com/lite/static/js/666.038ddc31.chunk.js\"></script>\n",
      "<script src=\"https://cdn-client.medium.com/lite/static/js/6336.6353f868.chunk.js\"></script>\n",
      "<script src=\"https://cdn-client.medium.com/lite/static/js/2964.231aba87.chunk.js\"></script>\n",
      "<script src=\"https://cdn-client.medium.com/lite/static/js/6495.754e829f.chunk.js\"></script>\n",
      "<script src=\"https://cdn-client.medium.com/lite/static/js/3496.2a9856c1.chunk.js\"></script>\n",
      "<script src=\"https://cdn-client.medium.com/lite/static/js/1517.405d5a9d.chunk.js\"></script>\n",
      "<script src=\"https://cdn-client.medium.com/lite/static/js/6804.58ae05c2.chunk.js\"></script>\n",
      "<script src=\"https://cdn-client.medium.com/lite/static/js/864.e8c6e147.chunk.js\"></script>\n",
      "<script src=\"https://cdn-client.medium.com/lite/static/js/6867.2fa06794.chunk.js\"></script>\n",
      "<script src=\"https://cdn-client.medium.com/lite/static/js/2416.5a4ca1e5.chunk.js\"></script>\n",
      "<script src=\"https://cdn-client.medium.com/lite/static/js/6239.563a0fa3.chunk.js\"></script>\n",
      "<script src=\"https://cdn-client.medium.com/lite/static/js/5491.330909df.chunk.js\"></script>\n",
      "<script src=\"https://cdn-client.medium.com/lite/static/js/TopicPage.MainContent.254e890b.chunk.js\"></script>\n",
      "<script src=\"https://cdn-client.medium.com/lite/static/js/773.df59acd8.chunk.js\"></script>\n",
      "<script src=\"https://cdn-client.medium.com/lite/static/js/TopicPage.RightColumnContent.5b966ffe.chunk.js\"></script><script>window.main();</script><script defer=\"\" src=\"https://static.cloudflareinsights.com/beacon.min.js/vaafb692b2aea4879b33c060e79fe94621666317369993\" integrity=\"sha512-0ahDYl866UMhKuYcW078ScMalXqtFJggm7TmlUtp0UlD4eQk0Ixfnm5ykXKvGJNFjLMoortdseTfsRT8oCfgGA==\" data-cf-beacon=\"{&quot;rayId&quot;:&quot;77ed63a98dc80a4d&quot;,&quot;token&quot;:&quot;0b5f665943484354a59c39c6833f7078&quot;,&quot;version&quot;:&quot;2022.11.3&quot;,&quot;si&quot;:100}\" crossorigin=\"anonymous\"></script>\n",
      "</body></html>\n"
     ]
    }
   ],
   "source": [
    "res = driver.execute_script(\"return document.documentElement.outerHTML\")\n",
    "print(res)\n",
    "driver.quit()"
   ]
  },
  {
   "cell_type": "code",
   "execution_count": 7,
   "metadata": {},
   "outputs": [
    {
     "name": "stdout",
     "output_type": "stream",
     "text": [
      "Requirement already satisfied: BeautifulSoup4 in c:\\users\\annas\\appdata\\local\\programs\\python\\python311\\lib\\site-packages (4.11.1)\n",
      "Requirement already satisfied: soupsieve>1.2 in c:\\users\\annas\\appdata\\local\\programs\\python\\python311\\lib\\site-packages (from BeautifulSoup4) (2.3.2.post1)\n",
      "Requirement already satisfied: lxml in c:\\users\\annas\\appdata\\local\\programs\\python\\python311\\lib\\site-packages (4.9.2)\n"
     ]
    }
   ],
   "source": [
    "!pip install BeautifulSoup4\n",
    "!pip install lxml\n",
    "from bs4 import BeautifulSoup\n",
    "\n",
    "soup = BeautifulSoup(res, 'lxml')"
   ]
  },
  {
   "cell_type": "code",
   "execution_count": 35,
   "metadata": {},
   "outputs": [
    {
     "data": {
      "text/plain": [
       "[<div class=\"ke kf kg kh ki l\"><h2 class=\"bd ej kj kk kl km eo kn ko kp kq es kr ks kt ku ew kv kw kx ky fa kz la lb lc fe ff fg fh fj fk bi\">Alternative to classical UX research methods</h2></div>,\n",
       " <div class=\"ke kf kg kh ki l\"><h2 class=\"bd ej kj kk kl km eo kn ko kp kq es kr ks kt ku ew kv kw kx ky fa kz la lb lc fe ff fg fh fj fk bi\">Creating in The Era of Creative Confidence</h2></div>,\n",
       " <div class=\"ke kf kg kh ki l\"><h2 class=\"bd ej kj kk kl km eo kn ko kp kq es kr ks kt ku ew kv kw kx ky fa kz la lb lc fe ff fg fh fj fk bi\">Deconstructing Machine Learning for Product Design</h2></div>,\n",
       " <div class=\"ke kf kg kh ki l\"><h2 class=\"bd ej kj kk kl km eo kn ko kp kq es kr ks kt ku ew kv kw kx ky fa kz la lb lc fe ff fg fh fj fk bi\">My First 90 Days as a Product Manager at Tanium</h2></div>,\n",
       " <div class=\"ke kf kg kh ki l\"><h2 class=\"bd ej kj kk kl km eo kn ko kp kq es kr ks kt ku ew kv kw kx ky fa kz la lb lc fe ff fg fh fj fk bi\">The Dangerous Animals of Product Management</h2></div>,\n",
       " <div class=\"ke kf kg kh ki l\"><h2 class=\"bd ej kj kk kl km eo kn ko kp kq es kr ks kt ku ew kv kw kx ky fa kz la lb lc fe ff fg fh fj fk bi\">Story Ristretto — A simple and playful way that helps you write good user stories.</h2></div>,\n",
       " <div class=\"ke kf kg kh ki l\"><h2 class=\"bd ej kj kk kl km eo kn ko kp kq es kr ks kt ku ew kv kw kx ky fa kz la lb lc fe ff fg fh fj fk bi\">SaaS-based Tools for Product Managers</h2></div>,\n",
       " <div class=\"ke kf kg kh ki l\"><h2 class=\"bd ej kj kk kl km eo kn ko kp kq es kr ks kt ku ew kv kw kx ky fa kz la lb lc fe ff fg fh fj fk bi\">Demonstrating the ROI of UX design to stakeholders</h2></div>,\n",
       " <div class=\"ke kf kg kh ki l\"><h2 class=\"bd ej kj kk kl km eo kn ko kp kq es kr ks kt ku ew kv kw kx ky fa kz la lb lc fe ff fg fh fj fk bi\">How to boost your technical documentation</h2></div>,\n",
       " <div class=\"ke kf kg kh ki l\"><h2 class=\"bd ej kj kk kl km eo kn ko kp kq es kr ks kt ku ew kv kw kx ky fa kz la lb lc fe ff fg fh fj fk bi\">A few tips which will help you better understand respondent through customer interview</h2></div>,\n",
       " <div class=\"ke kf kg kh ki l\"><h2 class=\"bd ej kj kk kl km eo kn ko kp kq es kr ks kt ku ew kv kw kx ky fa kz la lb lc fe ff fg fh fj fk bi\">10 Things I Learned in my First Year as a Product Manager</h2></div>,\n",
       " <div class=\"ke kf kg kh ki l\"><h2 class=\"bd ej kj kk kl km eo kn ko kp kq es kr ks kt ku ew kv kw kx ky fa kz la lb lc fe ff fg fh fj fk bi\">UX metrics series— Part 1 : Introduction</h2></div>,\n",
       " <div class=\"ke kf kg kh ki l\"><h2 class=\"bd ej kj kk kl km eo kn ko kp kq es kr ks kt ku ew kv kw kx ky fa kz la lb lc fe ff fg fh fj fk bi\">Case Study for Any.do</h2></div>,\n",
       " <div class=\"ke kf kg kh ki l\"><h2 class=\"bd ej kj kk kl km eo kn ko kp kq es kr ks kt ku ew kv kw kx ky fa kz la lb lc fe ff fg fh fj fk bi\">The 4 D’s Productivity Hack for Product Managers</h2></div>,\n",
       " <div class=\"ke kf kg kh ki l\"><h2 class=\"bd ej kj kk kl km eo kn ko kp kq es kr ks kt ku ew kv kw kx ky fa kz la lb lc fe ff fg fh fj fk bi\">Top BA Skill — Time Management</h2></div>]"
      ]
     },
     "execution_count": 35,
     "metadata": {},
     "output_type": "execute_result"
    }
   ],
   "source": [
    "b = soup.find_all('div', {\"class\": \"ke kf kg kh ki l\"})\n",
    "b\n",
    "\n"
   ]
  },
  {
   "cell_type": "code",
   "execution_count": 92,
   "metadata": {},
   "outputs": [
    {
     "data": {
      "text/plain": [
       "'Alternative to classical UX research methods'"
      ]
     },
     "execution_count": 92,
     "metadata": {},
     "output_type": "execute_result"
    }
   ],
   "source": [
    "# get text from beautiful soup object and put it in a list\n",
    "\n",
    "\n",
    "\n",
    "text = []\n",
    "for i in b:\n",
    "    text.append(i.text)\n",
    "\n",
    "text[0]\n"
   ]
  },
  {
   "cell_type": "code",
   "execution_count": 93,
   "metadata": {},
   "outputs": [],
   "source": [
    "# get href link from bs object and put in list\n",
    "\n",
    "c = soup.find_all('a', {\"class\": \"ae af ag ah ai aj ak al am an ao ap aq ar as\"})\n",
    "\n",
    "\n",
    "links = []\n",
    "for i in c:\n",
    "    links.append(i.get('href'))\n",
    "\n",
    "\n",
    "links\n",
    "\n",
    "# remove all items that include the word signin from links\n",
    "\n",
    "links2 = [i for i in links if 'signin' not in i]\n",
    "#links2 = [i for i in links2 if '?' not in i]\n",
    "\n",
    "# remove all duplicates form links2\n",
    "\n",
    "links3 = list(dict.fromkeys(links2))\n",
    "\n",
    "\n"
   ]
  },
  {
   "cell_type": "code",
   "execution_count": 94,
   "metadata": {},
   "outputs": [],
   "source": [
    "links3 = links3[4:]\n",
    "\n",
    "# remove even numbered item from list\n",
    "\n",
    "\n",
    "links3 = links3[::2]"
   ]
  },
  {
   "cell_type": "code",
   "execution_count": 95,
   "metadata": {},
   "outputs": [
    {
     "data": {
      "text/plain": [
       "['https://www.medium.com/@doloresmaekivi?source=topics_v2---------0-84--------------------e32e19b0_4754_46c6_93e0_6b8d4aff325a-------17',\n",
       " 'https://www.medium.com/@scottbelsky?source=topics_v2---------1-84--------------------e32e19b0_4754_46c6_93e0_6b8d4aff325a-------17',\n",
       " 'https://www.medium.com/@tina-mai?source=topics_v2---------2-84--------------------e32e19b0_4754_46c6_93e0_6b8d4aff325a-------17',\n",
       " 'https://www.medium.com/@maayan9795?source=topics_v2---------3-84--------------------e32e19b0_4754_46c6_93e0_6b8d4aff325a-------17',\n",
       " 'https://www.medium.com/@martydj?source=topics_v2---------4-84--------------------e32e19b0_4754_46c6_93e0_6b8d4aff325a-------17',\n",
       " 'https://www.medium.com/@matthewcroker?source=topics_v2---------5-84--------------------e32e19b0_4754_46c6_93e0_6b8d4aff325a-------17',\n",
       " 'https://www.medium.com/@navneetmaheshwari99?source=topics_v2---------6-84--------------------e32e19b0_4754_46c6_93e0_6b8d4aff325a-------17',\n",
       " 'https://www.medium.com/@ericchungdesign?source=topics_v2---------7-84--------------------e32e19b0_4754_46c6_93e0_6b8d4aff325a-------17',\n",
       " 'https://www.medium.com/@impostor_syndrome?source=topics_v2---------8-84--------------------e32e19b0_4754_46c6_93e0_6b8d4aff325a-------17',\n",
       " 'https://www.medium.com/@andrey.promo?source=topics_v2---------9-84--------------------e32e19b0_4754_46c6_93e0_6b8d4aff325a-------17',\n",
       " 'https://www.medium.com/@salomeazeal?source=topics_v2---------10-84--------------------e6063c9b_b40f_4997_aa09_4f0f6c04d41e-------17',\n",
       " 'https://www.medium.com/@ajithtech?source=topics_v2---------11-84--------------------e6063c9b_b40f_4997_aa09_4f0f6c04d41e-------17',\n",
       " 'https://www.medium.com/@basil-o?source=topics_v2---------12-84--------------------e6063c9b_b40f_4997_aa09_4f0f6c04d41e-------17',\n",
       " 'https://www.medium.com/@dhavalthakur?source=topics_v2---------13-84--------------------e6063c9b_b40f_4997_aa09_4f0f6c04d41e-------17',\n",
       " 'https://www.medium.com/@mynameisobi_63362?source=topics_v2---------14-84--------------------d3770f5a_4ced_47ff_81c4_33ada85f5735-------17']"
      ]
     },
     "execution_count": 95,
     "metadata": {},
     "output_type": "execute_result"
    }
   ],
   "source": [
    "# add https://www.medium.com to the beginning of each item in the list\n",
    "\n",
    "links4 = ['https://www.medium.com' + i for i in links3]\n",
    "links4"
   ]
  },
  {
   "cell_type": "code",
   "execution_count": 98,
   "metadata": {},
   "outputs": [
    {
     "name": "stdout",
     "output_type": "stream",
     "text": [
      "there are 15 words and 15 links\n"
     ]
    }
   ],
   "source": [
    "len(links4)\n",
    "len(text)\n",
    "\n",
    "print('there are {} words and {} links'.format(len(text), len(links4)))"
   ]
  },
  {
   "cell_type": "code",
   "execution_count": 99,
   "metadata": {},
   "outputs": [
    {
     "name": "stdout",
     "output_type": "stream",
     "text": [
      "good work!!!\n"
     ]
    }
   ],
   "source": [
    "print('good work!!!')"
   ]
  },
  {
   "cell_type": "code",
   "execution_count": 100,
   "metadata": {},
   "outputs": [],
   "source": [
    "import pandas as pd\n",
    "import numpy as np"
   ]
  },
  {
   "cell_type": "code",
   "execution_count": 101,
   "metadata": {},
   "outputs": [
    {
     "data": {
      "text/html": [
       "<div>\n",
       "<style scoped>\n",
       "    .dataframe tbody tr th:only-of-type {\n",
       "        vertical-align: middle;\n",
       "    }\n",
       "\n",
       "    .dataframe tbody tr th {\n",
       "        vertical-align: top;\n",
       "    }\n",
       "\n",
       "    .dataframe thead th {\n",
       "        text-align: right;\n",
       "    }\n",
       "</style>\n",
       "<table border=\"1\" class=\"dataframe\">\n",
       "  <thead>\n",
       "    <tr style=\"text-align: right;\">\n",
       "      <th></th>\n",
       "      <th>text</th>\n",
       "      <th>links</th>\n",
       "    </tr>\n",
       "  </thead>\n",
       "  <tbody>\n",
       "    <tr>\n",
       "      <th>0</th>\n",
       "      <td>Alternative to classical UX research methods</td>\n",
       "      <td>https://www.medium.com/@doloresmaekivi?source=...</td>\n",
       "    </tr>\n",
       "    <tr>\n",
       "      <th>1</th>\n",
       "      <td>Creating in The Era of Creative Confidence</td>\n",
       "      <td>https://www.medium.com/@scottbelsky?source=top...</td>\n",
       "    </tr>\n",
       "    <tr>\n",
       "      <th>2</th>\n",
       "      <td>Deconstructing Machine Learning for Product De...</td>\n",
       "      <td>https://www.medium.com/@tina-mai?source=topics...</td>\n",
       "    </tr>\n",
       "    <tr>\n",
       "      <th>3</th>\n",
       "      <td>My First 90 Days as a Product Manager at Tanium</td>\n",
       "      <td>https://www.medium.com/@maayan9795?source=topi...</td>\n",
       "    </tr>\n",
       "    <tr>\n",
       "      <th>4</th>\n",
       "      <td>The Dangerous Animals of Product Management</td>\n",
       "      <td>https://www.medium.com/@martydj?source=topics_...</td>\n",
       "    </tr>\n",
       "    <tr>\n",
       "      <th>5</th>\n",
       "      <td>Story Ristretto — A simple and playful way tha...</td>\n",
       "      <td>https://www.medium.com/@matthewcroker?source=t...</td>\n",
       "    </tr>\n",
       "    <tr>\n",
       "      <th>6</th>\n",
       "      <td>SaaS-based Tools for Product Managers</td>\n",
       "      <td>https://www.medium.com/@navneetmaheshwari99?so...</td>\n",
       "    </tr>\n",
       "    <tr>\n",
       "      <th>7</th>\n",
       "      <td>Demonstrating the ROI of UX design to stakehol...</td>\n",
       "      <td>https://www.medium.com/@ericchungdesign?source...</td>\n",
       "    </tr>\n",
       "    <tr>\n",
       "      <th>8</th>\n",
       "      <td>How to boost your technical documentation</td>\n",
       "      <td>https://www.medium.com/@impostor_syndrome?sour...</td>\n",
       "    </tr>\n",
       "    <tr>\n",
       "      <th>9</th>\n",
       "      <td>A few tips which will help you better understa...</td>\n",
       "      <td>https://www.medium.com/@andrey.promo?source=to...</td>\n",
       "    </tr>\n",
       "    <tr>\n",
       "      <th>10</th>\n",
       "      <td>10 Things I Learned in my First Year as a Prod...</td>\n",
       "      <td>https://www.medium.com/@salomeazeal?source=top...</td>\n",
       "    </tr>\n",
       "    <tr>\n",
       "      <th>11</th>\n",
       "      <td>UX metrics series— Part 1 : Introduction</td>\n",
       "      <td>https://www.medium.com/@ajithtech?source=topic...</td>\n",
       "    </tr>\n",
       "    <tr>\n",
       "      <th>12</th>\n",
       "      <td>Case Study for Any.do</td>\n",
       "      <td>https://www.medium.com/@basil-o?source=topics_...</td>\n",
       "    </tr>\n",
       "    <tr>\n",
       "      <th>13</th>\n",
       "      <td>The 4 D’s Productivity Hack for Product Managers</td>\n",
       "      <td>https://www.medium.com/@dhavalthakur?source=to...</td>\n",
       "    </tr>\n",
       "    <tr>\n",
       "      <th>14</th>\n",
       "      <td>Top BA Skill — Time Management</td>\n",
       "      <td>https://www.medium.com/@mynameisobi_63362?sour...</td>\n",
       "    </tr>\n",
       "  </tbody>\n",
       "</table>\n",
       "</div>"
      ],
      "text/plain": [
       "                                                 text  \\\n",
       "0        Alternative to classical UX research methods   \n",
       "1          Creating in The Era of Creative Confidence   \n",
       "2   Deconstructing Machine Learning for Product De...   \n",
       "3     My First 90 Days as a Product Manager at Tanium   \n",
       "4         The Dangerous Animals of Product Management   \n",
       "5   Story Ristretto — A simple and playful way tha...   \n",
       "6               SaaS-based Tools for Product Managers   \n",
       "7   Demonstrating the ROI of UX design to stakehol...   \n",
       "8           How to boost your technical documentation   \n",
       "9   A few tips which will help you better understa...   \n",
       "10  10 Things I Learned in my First Year as a Prod...   \n",
       "11           UX metrics series— Part 1 : Introduction   \n",
       "12                              Case Study for Any.do   \n",
       "13   The 4 D’s Productivity Hack for Product Managers   \n",
       "14                     Top BA Skill — Time Management   \n",
       "\n",
       "                                                links  \n",
       "0   https://www.medium.com/@doloresmaekivi?source=...  \n",
       "1   https://www.medium.com/@scottbelsky?source=top...  \n",
       "2   https://www.medium.com/@tina-mai?source=topics...  \n",
       "3   https://www.medium.com/@maayan9795?source=topi...  \n",
       "4   https://www.medium.com/@martydj?source=topics_...  \n",
       "5   https://www.medium.com/@matthewcroker?source=t...  \n",
       "6   https://www.medium.com/@navneetmaheshwari99?so...  \n",
       "7   https://www.medium.com/@ericchungdesign?source...  \n",
       "8   https://www.medium.com/@impostor_syndrome?sour...  \n",
       "9   https://www.medium.com/@andrey.promo?source=to...  \n",
       "10  https://www.medium.com/@salomeazeal?source=top...  \n",
       "11  https://www.medium.com/@ajithtech?source=topic...  \n",
       "12  https://www.medium.com/@basil-o?source=topics_...  \n",
       "13  https://www.medium.com/@dhavalthakur?source=to...  \n",
       "14  https://www.medium.com/@mynameisobi_63362?sour...  "
      ]
     },
     "execution_count": 101,
     "metadata": {},
     "output_type": "execute_result"
    }
   ],
   "source": [
    "df = pd.DataFrame({'text': text, 'links': links4})\n",
    "df"
   ]
  },
  {
   "cell_type": "code",
   "execution_count": null,
   "metadata": {},
   "outputs": [],
   "source": [
    "# scrape all text from each link in links4\n",
    "\n",
    "import urllib.request\n",
    "import requests\n",
    "import bs4\n",
    "from bs4 import BeautifulSoup\n",
    "\n",
    "text2 = []\n",
    "for i in links4:\n",
    "    url = i\n",
    "    response = requests.get(url)\n",
    "    soup = BeautifulSoup(response.text, \"html.parser\")\n",
    "    text2.append(soup.get_text())\n",
    "\n"
   ]
  },
  {
   "cell_type": "code",
   "execution_count": 103,
   "metadata": {},
   "outputs": [],
   "source": [
    "# add text2 to df\n",
    "\n",
    "df['content'] = text2"
   ]
  },
  {
   "cell_type": "code",
   "execution_count": 108,
   "metadata": {},
   "outputs": [
    {
     "data": {
      "text/html": [
       "<div>\n",
       "<style scoped>\n",
       "    .dataframe tbody tr th:only-of-type {\n",
       "        vertical-align: middle;\n",
       "    }\n",
       "\n",
       "    .dataframe tbody tr th {\n",
       "        vertical-align: top;\n",
       "    }\n",
       "\n",
       "    .dataframe thead th {\n",
       "        text-align: right;\n",
       "    }\n",
       "</style>\n",
       "<table border=\"1\" class=\"dataframe\">\n",
       "  <thead>\n",
       "    <tr style=\"text-align: right;\">\n",
       "      <th></th>\n",
       "      <th>text</th>\n",
       "      <th>links</th>\n",
       "      <th>content</th>\n",
       "      <th>content_length</th>\n",
       "    </tr>\n",
       "  </thead>\n",
       "  <tbody>\n",
       "    <tr>\n",
       "      <th>0</th>\n",
       "      <td>Alternative to classical UX research methods</td>\n",
       "      <td>https://www.medium.com/@doloresmaekivi?source=...</td>\n",
       "      <td>Dolores Mäekivi – MediumOpen in appSign upSign...</td>\n",
       "      <td>1254</td>\n",
       "    </tr>\n",
       "    <tr>\n",
       "      <th>1</th>\n",
       "      <td>Creating in The Era of Creative Confidence</td>\n",
       "      <td>https://www.medium.com/@scottbelsky?source=top...</td>\n",
       "      <td>Scott Belsky – MediumOpen in appSign upSign In...</td>\n",
       "      <td>5384</td>\n",
       "    </tr>\n",
       "    <tr>\n",
       "      <th>2</th>\n",
       "      <td>Deconstructing Machine Learning for Product De...</td>\n",
       "      <td>https://www.medium.com/@tina-mai?source=topics...</td>\n",
       "      <td>Tina Mai – MediumOpen in appSign upSign InWrit...</td>\n",
       "      <td>2208</td>\n",
       "    </tr>\n",
       "    <tr>\n",
       "      <th>3</th>\n",
       "      <td>My First 90 Days as a Product Manager at Tanium</td>\n",
       "      <td>https://www.medium.com/@maayan9795?source=topi...</td>\n",
       "      <td>Maayan Sela – MediumOpen in appSign upSign InW...</td>\n",
       "      <td>689</td>\n",
       "    </tr>\n",
       "    <tr>\n",
       "      <th>4</th>\n",
       "      <td>The Dangerous Animals of Product Management</td>\n",
       "      <td>https://www.medium.com/@martydj?source=topics_...</td>\n",
       "      <td>Marty de Jonge – MediumOpen in appSign upSign ...</td>\n",
       "      <td>5170</td>\n",
       "    </tr>\n",
       "    <tr>\n",
       "      <th>5</th>\n",
       "      <td>Story Ristretto — A simple and playful way tha...</td>\n",
       "      <td>https://www.medium.com/@matthewcroker?source=t...</td>\n",
       "      <td>Matthew Croker – MediumOpen in appSign upSign ...</td>\n",
       "      <td>4437</td>\n",
       "    </tr>\n",
       "    <tr>\n",
       "      <th>6</th>\n",
       "      <td>SaaS-based Tools for Product Managers</td>\n",
       "      <td>https://www.medium.com/@navneetmaheshwari99?so...</td>\n",
       "      <td>Navneet Maheshwari – MediumOpen in appSign upS...</td>\n",
       "      <td>4241</td>\n",
       "    </tr>\n",
       "    <tr>\n",
       "      <th>7</th>\n",
       "      <td>Demonstrating the ROI of UX design to stakehol...</td>\n",
       "      <td>https://www.medium.com/@ericchungdesign?source...</td>\n",
       "      <td>Eric Chung – MediumOpen in appSign upSign InWr...</td>\n",
       "      <td>5258</td>\n",
       "    </tr>\n",
       "    <tr>\n",
       "      <th>8</th>\n",
       "      <td>How to boost your technical documentation</td>\n",
       "      <td>https://www.medium.com/@impostor_syndrome?sour...</td>\n",
       "      <td>Roman Borisov – MediumOpen in appSign upSign I...</td>\n",
       "      <td>965</td>\n",
       "    </tr>\n",
       "    <tr>\n",
       "      <th>9</th>\n",
       "      <td>A few tips which will help you better understa...</td>\n",
       "      <td>https://www.medium.com/@andrey.promo?source=to...</td>\n",
       "      <td>Andrew Grigoriev – MediumOpen in appSign upSig...</td>\n",
       "      <td>1707</td>\n",
       "    </tr>\n",
       "    <tr>\n",
       "      <th>10</th>\n",
       "      <td>10 Things I Learned in my First Year as a Prod...</td>\n",
       "      <td>https://www.medium.com/@salomeazeal?source=top...</td>\n",
       "      <td>Salome Ogbijoko – MediumOpen in appSign upSign...</td>\n",
       "      <td>851</td>\n",
       "    </tr>\n",
       "    <tr>\n",
       "      <th>11</th>\n",
       "      <td>UX metrics series— Part 1 : Introduction</td>\n",
       "      <td>https://www.medium.com/@ajithtech?source=topic...</td>\n",
       "      <td>Ajith R – MediumOpen in appSign upSign InWrite...</td>\n",
       "      <td>2458</td>\n",
       "    </tr>\n",
       "    <tr>\n",
       "      <th>12</th>\n",
       "      <td>Case Study for Any.do</td>\n",
       "      <td>https://www.medium.com/@basil-o?source=topics_...</td>\n",
       "      <td>Basil – MediumOpen in appSign upSign InWriteSi...</td>\n",
       "      <td>4378</td>\n",
       "    </tr>\n",
       "    <tr>\n",
       "      <th>13</th>\n",
       "      <td>The 4 D’s Productivity Hack for Product Managers</td>\n",
       "      <td>https://www.medium.com/@dhavalthakur?source=to...</td>\n",
       "      <td>Dhaval Thakur – MediumOpen in appSign upSign I...</td>\n",
       "      <td>4399</td>\n",
       "    </tr>\n",
       "    <tr>\n",
       "      <th>14</th>\n",
       "      <td>Top BA Skill — Time Management</td>\n",
       "      <td>https://www.medium.com/@mynameisobi_63362?sour...</td>\n",
       "      <td>Obi Nwokedi – MediumOpen in appSign upSign InW...</td>\n",
       "      <td>3478</td>\n",
       "    </tr>\n",
       "  </tbody>\n",
       "</table>\n",
       "</div>"
      ],
      "text/plain": [
       "                                                 text  \\\n",
       "0        Alternative to classical UX research methods   \n",
       "1          Creating in The Era of Creative Confidence   \n",
       "2   Deconstructing Machine Learning for Product De...   \n",
       "3     My First 90 Days as a Product Manager at Tanium   \n",
       "4         The Dangerous Animals of Product Management   \n",
       "5   Story Ristretto — A simple and playful way tha...   \n",
       "6               SaaS-based Tools for Product Managers   \n",
       "7   Demonstrating the ROI of UX design to stakehol...   \n",
       "8           How to boost your technical documentation   \n",
       "9   A few tips which will help you better understa...   \n",
       "10  10 Things I Learned in my First Year as a Prod...   \n",
       "11           UX metrics series— Part 1 : Introduction   \n",
       "12                              Case Study for Any.do   \n",
       "13   The 4 D’s Productivity Hack for Product Managers   \n",
       "14                     Top BA Skill — Time Management   \n",
       "\n",
       "                                                links  \\\n",
       "0   https://www.medium.com/@doloresmaekivi?source=...   \n",
       "1   https://www.medium.com/@scottbelsky?source=top...   \n",
       "2   https://www.medium.com/@tina-mai?source=topics...   \n",
       "3   https://www.medium.com/@maayan9795?source=topi...   \n",
       "4   https://www.medium.com/@martydj?source=topics_...   \n",
       "5   https://www.medium.com/@matthewcroker?source=t...   \n",
       "6   https://www.medium.com/@navneetmaheshwari99?so...   \n",
       "7   https://www.medium.com/@ericchungdesign?source...   \n",
       "8   https://www.medium.com/@impostor_syndrome?sour...   \n",
       "9   https://www.medium.com/@andrey.promo?source=to...   \n",
       "10  https://www.medium.com/@salomeazeal?source=top...   \n",
       "11  https://www.medium.com/@ajithtech?source=topic...   \n",
       "12  https://www.medium.com/@basil-o?source=topics_...   \n",
       "13  https://www.medium.com/@dhavalthakur?source=to...   \n",
       "14  https://www.medium.com/@mynameisobi_63362?sour...   \n",
       "\n",
       "                                              content  content_length  \n",
       "0   Dolores Mäekivi – MediumOpen in appSign upSign...            1254  \n",
       "1   Scott Belsky – MediumOpen in appSign upSign In...            5384  \n",
       "2   Tina Mai – MediumOpen in appSign upSign InWrit...            2208  \n",
       "3   Maayan Sela – MediumOpen in appSign upSign InW...             689  \n",
       "4   Marty de Jonge – MediumOpen in appSign upSign ...            5170  \n",
       "5   Matthew Croker – MediumOpen in appSign upSign ...            4437  \n",
       "6   Navneet Maheshwari – MediumOpen in appSign upS...            4241  \n",
       "7   Eric Chung – MediumOpen in appSign upSign InWr...            5258  \n",
       "8   Roman Borisov – MediumOpen in appSign upSign I...             965  \n",
       "9   Andrew Grigoriev – MediumOpen in appSign upSig...            1707  \n",
       "10  Salome Ogbijoko – MediumOpen in appSign upSign...             851  \n",
       "11  Ajith R – MediumOpen in appSign upSign InWrite...            2458  \n",
       "12  Basil – MediumOpen in appSign upSign InWriteSi...            4378  \n",
       "13  Dhaval Thakur – MediumOpen in appSign upSign I...            4399  \n",
       "14  Obi Nwokedi – MediumOpen in appSign upSign InW...            3478  "
      ]
     },
     "execution_count": 108,
     "metadata": {},
     "output_type": "execute_result"
    }
   ],
   "source": [
    "df['content'][0]\n",
    "\n",
    "# add a column to df which shows the length of each article\n",
    "\n",
    "df['content_length'] = df['content'].str.len()\n",
    "\n",
    "df"
   ]
  },
  {
   "cell_type": "markdown",
   "metadata": {},
   "source": [
    "# Articles tagged in ARTIFICIAL INTELLIGENCE"
   ]
  },
  {
   "cell_type": "code",
   "execution_count": 10,
   "metadata": {},
   "outputs": [],
   "source": [
    "# Input all work data into the array\n",
    "work=[]\n",
    "for my_tag in soup.find_all(class_=\"bu of rn ro rp rq rr rs rt ru rv rw rx ry rz sa sb sc sd se sf sg sh si sj sk sl cs pc pd pf ph bx\"):\n",
    "    work.append(my_tag.text)"
   ]
  },
  {
   "cell_type": "code",
   "execution_count": 11,
   "metadata": {},
   "outputs": [
    {
     "name": "stdout",
     "output_type": "stream",
     "text": [
      "[]\n"
     ]
    }
   ],
   "source": [
    "print(work)"
   ]
  },
  {
   "cell_type": "code",
   "execution_count": 12,
   "metadata": {},
   "outputs": [],
   "source": [
    "para=[]\n",
    "for my_tag in soup.find_all(True,{'class':['graf graf--h4 graf-after--h3 graf--trailing graf--subtitle','graf graf--p graf-after--figure','graf graf--p graf-after--h3 graf--trailing']}):\n",
    "    para.append(my_tag.text)"
   ]
  },
  {
   "cell_type": "code",
   "execution_count": 13,
   "metadata": {},
   "outputs": [
    {
     "data": {
      "text/plain": [
       "0"
      ]
     },
     "execution_count": 13,
     "metadata": {},
     "output_type": "execute_result"
    }
   ],
   "source": [
    "len(para)"
   ]
  },
  {
   "cell_type": "code",
   "execution_count": 470,
   "metadata": {},
   "outputs": [],
   "source": [
    "title=[]\n",
    "for my_tag in soup.find_all(True,{'class':['graf graf--h3 graf-after--figure graf--title','graf graf--h3 graf--leading graf--title','graf graf--h3 graf-after--figure graf--trailing graf--title']}):\n",
    "    title.append(my_tag.text)"
   ]
  },
  {
   "cell_type": "code",
   "execution_count": 543,
   "metadata": {},
   "outputs": [
    {
     "data": {
      "text/plain": [
       "'GAME-CHANGING TRENDS TO LOOK OUT FOR WITH\\xa0AI'"
      ]
     },
     "execution_count": 543,
     "metadata": {},
     "output_type": "execute_result"
    }
   ],
   "source": [
    "title[0]"
   ]
  },
  {
   "cell_type": "code",
   "execution_count": 471,
   "metadata": {},
   "outputs": [],
   "source": [
    "read=[]\n",
    "for my_tag in soup.find_all(class_=\"readingTime\"):\n",
    "    read.append(my_tag.get('title'))"
   ]
  },
  {
   "cell_type": "markdown",
   "metadata": {},
   "source": [
    "### Input the number of votes, name, date and other information into seperate arrays"
   ]
  },
  {
   "cell_type": "code",
   "execution_count": 472,
   "metadata": {},
   "outputs": [],
   "source": [
    "upvotes=[]\n",
    "for my_tag in soup.find_all('span',{'class':'u-textAlignCenter u-relative u-background js-actionMultirecommendCount u-marginLeft5'}):\n",
    "    upvotes.append(my_tag.text)"
   ]
  },
  {
   "cell_type": "code",
   "execution_count": 473,
   "metadata": {},
   "outputs": [],
   "source": [
    "date=[]\n",
    "for my_tag in soup.find_all('time'):\n",
    "    date.append(my_tag.text)"
   ]
  },
  {
   "cell_type": "code",
   "execution_count": 474,
   "metadata": {
    "scrolled": false
   },
   "outputs": [],
   "source": [
    "name = []\n",
    "for my_tag in soup.find_all(class_=\"ds-link ds-link--styleSubtle link link--darken link--accent u-accentColor--textNormal u-accentColor--textDarken\"):\n",
    "    name.append(my_tag.text)"
   ]
  },
  {
   "cell_type": "code",
   "execution_count": 550,
   "metadata": {
    "scrolled": false
   },
   "outputs": [],
   "source": [
    "content=[]\n",
    "alllink=[]\n",
    "for my_tag in soup.find_all(class_=\"postArticle postArticle--short js-postArticle js-trackedPost\"):\n",
    "        content.append(my_tag.text)\n",
    "        for link in my_tag.find_all('a'):\n",
    "            alllink.append(link.get('href'))"
   ]
  },
  {
   "cell_type": "code",
   "execution_count": 551,
   "metadata": {},
   "outputs": [],
   "source": [
    "for i in range(0,len(content)):\n",
    "    content[i]=content[i].replace(name[i],'')\n",
    "    content[i]=content[i].replace(date[i],'')\n",
    "    content[i]=content[i].replace(upvotes[i],'')\n",
    "    content[i]=content[i].replace(title[i],'')\n",
    "    content[i]=content[i].replace('…Read more…','*')\n",
    "    content[i]=content[i].replace('Read more…','*')\n",
    "    content[i]=content[i].replace('\\xa0',' ')\n",
    "    content[i]=content[i].replace(' in ', '')\n",
    "    for tag in work:\n",
    "        content[i] = content[i].replace(tag, '')\n",
    "    content[i]=content[i].split('*')"
   ]
  },
  {
   "cell_type": "code",
   "execution_count": 552,
   "metadata": {},
   "outputs": [
    {
     "data": {
      "text/plain": [
       "50"
      ]
     },
     "execution_count": 552,
     "metadata": {},
     "output_type": "execute_result"
    }
   ],
   "source": [
    "len(content)"
   ]
  },
  {
   "cell_type": "code",
   "execution_count": 553,
   "metadata": {},
   "outputs": [],
   "source": [
    "body=[]\n",
    "for i in range(0,len(content)):\n",
    "    body.append(content[i][0])"
   ]
  },
  {
   "cell_type": "code",
   "execution_count": 554,
   "metadata": {},
   "outputs": [
    {
     "data": {
      "text/plain": [
       "50"
      ]
     },
     "execution_count": 554,
     "metadata": {},
     "output_type": "execute_result"
    }
   ],
   "source": [
    "len(body)"
   ]
  },
  {
   "cell_type": "markdown",
   "metadata": {},
   "source": [
    "### Check if all arrays have an equal length of 50 (There are 50 articles loaded)"
   ]
  },
  {
   "cell_type": "code",
   "execution_count": 524,
   "metadata": {},
   "outputs": [],
   "source": [
    "res =[]\n",
    "for i in range(0,len(content)):\n",
    "    if (len(content[i]) == 1):\n",
    "        res.append('')\n",
    "    else:\n",
    "        res.append(content[i][1])"
   ]
  },
  {
   "cell_type": "markdown",
   "metadata": {},
   "source": [
    "### Accept the links for that redirects to the articles (Read more...portion)"
   ]
  },
  {
   "cell_type": "code",
   "execution_count": 601,
   "metadata": {},
   "outputs": [],
   "source": [
    "links=[]\n",
    "for my_tag in soup.find_all(class_=\"button button--smaller button--chromeless u-baseColor--buttonNormal\"):\n",
    "        links.append(my_tag.get('href'))"
   ]
  },
  {
   "cell_type": "markdown",
   "metadata": {},
   "source": [
    "### Add the mising link in the 47th index"
   ]
  },
  {
   "cell_type": "code",
   "execution_count": 629,
   "metadata": {},
   "outputs": [],
   "source": [
    "## add missing link\n",
    "links.insert(47,'https://medium.com/@matrixainetwork')"
   ]
  },
  {
   "cell_type": "code",
   "execution_count": 531,
   "metadata": {
    "collapsed": true
   },
   "outputs": [],
   "source": [
    "import pandas as pd"
   ]
  },
  {
   "cell_type": "markdown",
   "metadata": {},
   "source": [
    "## Convert all arrays into a Pandas Dataframe"
   ]
  },
  {
   "cell_type": "code",
   "execution_count": 631,
   "metadata": {},
   "outputs": [],
   "source": [
    "data = pd.DataFrame({'1.Tag':'Artificial Intelligence','2.Name':name,'3.Title':title,'4.Body':body,'5.Upvotes':upvotes,'6.Date':date,'7.Comments':res,'8.Link':links}) "
   ]
  },
  {
   "cell_type": "code",
   "execution_count": 719,
   "metadata": {
    "scrolled": false
   },
   "outputs": [
    {
     "data": {
      "text/html": [
       "<div>\n",
       "<style>\n",
       "    .dataframe thead tr:only-child th {\n",
       "        text-align: right;\n",
       "    }\n",
       "\n",
       "    .dataframe thead th {\n",
       "        text-align: left;\n",
       "    }\n",
       "\n",
       "    .dataframe tbody tr th {\n",
       "        vertical-align: top;\n",
       "    }\n",
       "</style>\n",
       "<table border=\"1\" class=\"dataframe\">\n",
       "  <thead>\n",
       "    <tr style=\"text-align: right;\">\n",
       "      <th></th>\n",
       "      <th>1.Tag</th>\n",
       "      <th>2.Name</th>\n",
       "      <th>3.Title</th>\n",
       "      <th>4.Body</th>\n",
       "      <th>5.Upvotes</th>\n",
       "      <th>6.Date</th>\n",
       "      <th>7.Comments</th>\n",
       "      <th>8.Link</th>\n",
       "    </tr>\n",
       "  </thead>\n",
       "  <tbody>\n",
       "    <tr>\n",
       "      <th>0</th>\n",
       "      <td>Artificial Intelligence</td>\n",
       "      <td>WiseWolf Fund</td>\n",
       "      <td>GAME-CHANGING TRENDS TO LOOK OUT FOR WITH AI</td>\n",
       "      <td>Artificial Intelligence is a state-of-the-art ...</td>\n",
       "      <td>12.9K</td>\n",
       "      <td>Apr 30</td>\n",
       "      <td>10 responses</td>\n",
       "      <td>https://medium.com/@wisewolf_fund/unique-trend...</td>\n",
       "    </tr>\n",
       "    <tr>\n",
       "      <th>1</th>\n",
       "      <td>Artificial Intelligence</td>\n",
       "      <td>Justin Lee</td>\n",
       "      <td>Chatbots were the next big thing: what happened?</td>\n",
       "      <td>Oh, how the headlines blared:“…the 2016 bot</td>\n",
       "      <td>7.7K</td>\n",
       "      <td>Jun 5</td>\n",
       "      <td>41 responses</td>\n",
       "      <td>https://medium.com/swlh/chatbots-were-the-next...</td>\n",
       "    </tr>\n",
       "    <tr>\n",
       "      <th>2</th>\n",
       "      <td>Artificial Intelligence</td>\n",
       "      <td>Emmanuel Ameisen</td>\n",
       "      <td>Reinforcement Learning from scratch</td>\n",
       "      <td>Inspired by a great tutorial at O’Reilly AI</td>\n",
       "      <td>907</td>\n",
       "      <td>Jun 7</td>\n",
       "      <td>1 response</td>\n",
       "      <td>https://blog.insightdatascience.com/reinforcem...</td>\n",
       "    </tr>\n",
       "    <tr>\n",
       "      <th>3</th>\n",
       "      <td>Artificial Intelligence</td>\n",
       "      <td>Irhum Shafkat</td>\n",
       "      <td>Intuitively Understanding Convolutions for Dee...</td>\n",
       "      <td>Exploring the strong visual hierarchies that</td>\n",
       "      <td>1.92K</td>\n",
       "      <td>Jun 1</td>\n",
       "      <td>2 responses</td>\n",
       "      <td>https://towardsdatascience.com/intuitively-und...</td>\n",
       "    </tr>\n",
       "    <tr>\n",
       "      <th>4</th>\n",
       "      <td>Artificial Intelligence</td>\n",
       "      <td>Sam Drozdov</td>\n",
       "      <td>An intro to Machine Learning for designers</td>\n",
       "      <td>The basics of machine learning and how to appl...</td>\n",
       "      <td>2.3K</td>\n",
       "      <td>May 30</td>\n",
       "      <td>10 responses</td>\n",
       "      <td>https://uxdesign.cc/an-intro-to-machine-learni...</td>\n",
       "    </tr>\n",
       "  </tbody>\n",
       "</table>\n",
       "</div>"
      ],
      "text/plain": [
       "                     1.Tag            2.Name  \\\n",
       "0  Artificial Intelligence     WiseWolf Fund   \n",
       "1  Artificial Intelligence        Justin Lee   \n",
       "2  Artificial Intelligence  Emmanuel Ameisen   \n",
       "3  Artificial Intelligence     Irhum Shafkat   \n",
       "4  Artificial Intelligence       Sam Drozdov   \n",
       "\n",
       "                                             3.Title  \\\n",
       "0       GAME-CHANGING TRENDS TO LOOK OUT FOR WITH AI   \n",
       "1   Chatbots were the next big thing: what happened?   \n",
       "2                Reinforcement Learning from scratch   \n",
       "3  Intuitively Understanding Convolutions for Dee...   \n",
       "4         An intro to Machine Learning for designers   \n",
       "\n",
       "                                              4.Body 5.Upvotes  6.Date  \\\n",
       "0  Artificial Intelligence is a state-of-the-art ...     12.9K  Apr 30   \n",
       "1        Oh, how the headlines blared:“…the 2016 bot      7.7K   Jun 5   \n",
       "2        Inspired by a great tutorial at O’Reilly AI       907   Jun 7   \n",
       "3       Exploring the strong visual hierarchies that     1.92K   Jun 1   \n",
       "4  The basics of machine learning and how to appl...      2.3K  May 30   \n",
       "\n",
       "     7.Comments                                             8.Link  \n",
       "0  10 responses  https://medium.com/@wisewolf_fund/unique-trend...  \n",
       "1  41 responses  https://medium.com/swlh/chatbots-were-the-next...  \n",
       "2    1 response  https://blog.insightdatascience.com/reinforcem...  \n",
       "3   2 responses  https://towardsdatascience.com/intuitively-und...  \n",
       "4  10 responses  https://uxdesign.cc/an-intro-to-machine-learni...  "
      ]
     },
     "execution_count": 719,
     "metadata": {},
     "output_type": "execute_result"
    }
   ],
   "source": [
    "data.head()"
   ]
  },
  {
   "cell_type": "markdown",
   "metadata": {},
   "source": [
    "# Articles tagged in MACHINE LEARNING"
   ]
  },
  {
   "cell_type": "code",
   "execution_count": 710,
   "metadata": {},
   "outputs": [],
   "source": [
    "driver = webdriver.Chrome('C:/Users/Sangarshanan Veera/Desktop/chromedriver.exe')\n",
    "driver.get(machine_learning)"
   ]
  },
  {
   "cell_type": "code",
   "execution_count": 711,
   "metadata": {
    "collapsed": true
   },
   "outputs": [],
   "source": [
    "res = driver.execute_script(\"return document.documentElement.outerHTML\")\n",
    "driver.quit()"
   ]
  },
  {
   "cell_type": "code",
   "execution_count": 712,
   "metadata": {
    "collapsed": true
   },
   "outputs": [],
   "source": [
    "soup = BeautifulSoup(res, 'lxml')"
   ]
  },
  {
   "cell_type": "markdown",
   "metadata": {},
   "source": [
    "## Repeat the process again for the ML tag"
   ]
  },
  {
   "cell_type": "code",
   "execution_count": 713,
   "metadata": {
    "collapsed": true
   },
   "outputs": [],
   "source": [
    "work=[]\n",
    "for my_tag in soup.find_all(class_=\"ds-link ds-link--styleSubtle link--darken link--accent u-accentColor--textNormal\"):\n",
    "    work.append(my_tag.text)\n",
    "para=[]\n",
    "for my_tag in soup.find_all(True,{'class':['graf graf--h4 graf-after--h3 graf--trailing graf--subtitle','graf graf--p graf-after--figure','graf graf--p graf-after--h3 graf--trailing']}):\n",
    "    para.append(my_tag.text)\n",
    "title=[]\n",
    "for my_tag in soup.find_all(True,{'class':['graf graf--h3 graf-after--figure graf--title','graf graf--h3 graf--leading graf--title','graf graf--h3 graf-after--figure graf--trailing graf--title']}):\n",
    "    title.append(my_tag.text)\n",
    "read=[]\n",
    "for my_tag in soup.find_all(class_=\"readingTime\"):\n",
    "    read.append(my_tag.get('title'))\n",
    "upvotes=[]\n",
    "for my_tag in soup.find_all('span',{'class':'u-textAlignCenter u-relative u-background js-actionMultirecommendCount u-marginLeft5'}):\n",
    "    upvotes.append(my_tag.text)\n",
    "date=[]\n",
    "for my_tag in soup.find_all('time'):\n",
    "    date.append(my_tag.text)\n",
    "name = []\n",
    "for my_tag in soup.find_all(class_=\"ds-link ds-link--styleSubtle link link--darken link--accent u-accentColor--textNormal u-accentColor--textDarken\"):\n",
    "    name.append(my_tag.text)\n",
    "content=[]\n",
    "alllink=[]\n",
    "for my_tag in soup.find_all(class_=\"postArticle postArticle--short js-postArticle js-trackedPost\"):\n",
    "        content.append(my_tag.text)\n",
    "        for link in my_tag.find_all('a'):\n",
    "            alllink.append(link.get('href'))\n",
    "for i in range(0,len(content)):\n",
    "    content[i]=content[i].replace(name[i],'')\n",
    "    content[i]=content[i].replace(date[i],'')\n",
    "    content[i]=content[i].replace(upvotes[i],'')\n",
    "    content[i]=content[i].replace(title[i],'')\n",
    "    content[i]=content[i].replace('…Read more…','*')\n",
    "    content[i]=content[i].replace('Read more…','*')\n",
    "    content[i]=content[i].replace('\\xa0',' ')\n",
    "    content[i]=content[i].replace(' in ', '')\n",
    "    for tag in work:\n",
    "        content[i] = content[i].replace(tag, '')\n",
    "    content[i]=content[i].split('*')\n",
    "body=[]\n",
    "for i in range(0,len(content)):\n",
    "    body.append(content[i][0])\n",
    "\n",
    "res =[]\n",
    "for i in range(0,len(content)):\n",
    "    if (len(content[i]) == 1):\n",
    "        res.append('')\n",
    "    else:\n",
    "        res.append(content[i][1])\n",
    "\n",
    "links=[]\n",
    "for my_tag in soup.find_all(class_=\"button button--smaller button--chromeless u-baseColor--buttonNormal\"):\n",
    "        links.append(my_tag.get('href'))"
   ]
  },
  {
   "cell_type": "markdown",
   "metadata": {},
   "source": [
    "### No length issues...so directly include into pandas dataframe"
   ]
  },
  {
   "cell_type": "code",
   "execution_count": 714,
   "metadata": {},
   "outputs": [],
   "source": [
    "data1 = pd.DataFrame({'1.Tag':'Machine Learning','2.Name':name,'3.Title':title,'4.Body':body,'5.Upvotes':upvotes,'6.Date':date,'7.Comments':res,'8.Link':links}) "
   ]
  },
  {
   "cell_type": "code",
   "execution_count": 718,
   "metadata": {},
   "outputs": [
    {
     "data": {
      "text/html": [
       "<div>\n",
       "<style>\n",
       "    .dataframe thead tr:only-child th {\n",
       "        text-align: right;\n",
       "    }\n",
       "\n",
       "    .dataframe thead th {\n",
       "        text-align: left;\n",
       "    }\n",
       "\n",
       "    .dataframe tbody tr th {\n",
       "        vertical-align: top;\n",
       "    }\n",
       "</style>\n",
       "<table border=\"1\" class=\"dataframe\">\n",
       "  <thead>\n",
       "    <tr style=\"text-align: right;\">\n",
       "      <th></th>\n",
       "      <th>1.Tag</th>\n",
       "      <th>2.Name</th>\n",
       "      <th>3.Title</th>\n",
       "      <th>4.Body</th>\n",
       "      <th>5.Upvotes</th>\n",
       "      <th>6.Date</th>\n",
       "      <th>7.Comments</th>\n",
       "      <th>8.Link</th>\n",
       "    </tr>\n",
       "  </thead>\n",
       "  <tbody>\n",
       "    <tr>\n",
       "      <th>0</th>\n",
       "      <td>Machine Learning</td>\n",
       "      <td>Justin Lee</td>\n",
       "      <td>Chatbots were the next big thing: what happened?</td>\n",
       "      <td>Oh, how the headlines blared:“…the 2016 bot</td>\n",
       "      <td>7.9K</td>\n",
       "      <td>Jun 5</td>\n",
       "      <td>42 responses</td>\n",
       "      <td>https://medium.com/swlh/chatbots-were-the-next...</td>\n",
       "    </tr>\n",
       "    <tr>\n",
       "      <th>1</th>\n",
       "      <td>Machine Learning</td>\n",
       "      <td>Conor Dewey</td>\n",
       "      <td>Python for Data Science: 8 Concepts You May Ha...</td>\n",
       "      <td>Mastering the little thingsPython</td>\n",
       "      <td>1.1K</td>\n",
       "      <td>Jun 5</td>\n",
       "      <td>5 responses</td>\n",
       "      <td>https://towardsdatascience.com/python-for-data...</td>\n",
       "    </tr>\n",
       "    <tr>\n",
       "      <th>2</th>\n",
       "      <td>Machine Learning</td>\n",
       "      <td>Emmanuel Ameisen</td>\n",
       "      <td>Reinforcement Learning from scratch</td>\n",
       "      <td>Inspired by a great tutorial at O’Reilly AI</td>\n",
       "      <td>912</td>\n",
       "      <td>Jun 7</td>\n",
       "      <td>2 responses</td>\n",
       "      <td>https://blog.insightdatascience.com/reinforcem...</td>\n",
       "    </tr>\n",
       "    <tr>\n",
       "      <th>3</th>\n",
       "      <td>Machine Learning</td>\n",
       "      <td>Irhum Shafkat</td>\n",
       "      <td>Intuitively Understanding Convolutions for Dee...</td>\n",
       "      <td>Exploring the strong visual hierarchies that</td>\n",
       "      <td>1.98K</td>\n",
       "      <td>Jun 1</td>\n",
       "      <td>2 responses</td>\n",
       "      <td>https://towardsdatascience.com/intuitively-und...</td>\n",
       "    </tr>\n",
       "    <tr>\n",
       "      <th>4</th>\n",
       "      <td>Machine Learning</td>\n",
       "      <td>Gant Laborde</td>\n",
       "      <td>Machine Learning: how to go from Zero to Hero</td>\n",
       "      <td>Start with “Why?” and end with “I’m ready!”</td>\n",
       "      <td>1.1K</td>\n",
       "      <td>Jun 6</td>\n",
       "      <td>2 responses</td>\n",
       "      <td>https://medium.freecodecamp.org/machine-learni...</td>\n",
       "    </tr>\n",
       "  </tbody>\n",
       "</table>\n",
       "</div>"
      ],
      "text/plain": [
       "              1.Tag            2.Name  \\\n",
       "0  Machine Learning        Justin Lee   \n",
       "1  Machine Learning       Conor Dewey   \n",
       "2  Machine Learning  Emmanuel Ameisen   \n",
       "3  Machine Learning     Irhum Shafkat   \n",
       "4  Machine Learning      Gant Laborde   \n",
       "\n",
       "                                             3.Title  \\\n",
       "0   Chatbots were the next big thing: what happened?   \n",
       "1  Python for Data Science: 8 Concepts You May Ha...   \n",
       "2                Reinforcement Learning from scratch   \n",
       "3  Intuitively Understanding Convolutions for Dee...   \n",
       "4      Machine Learning: how to go from Zero to Hero   \n",
       "\n",
       "                                         4.Body 5.Upvotes 6.Date  \\\n",
       "0   Oh, how the headlines blared:“…the 2016 bot      7.9K  Jun 5   \n",
       "1             Mastering the little thingsPython      1.1K  Jun 5   \n",
       "2   Inspired by a great tutorial at O’Reilly AI       912  Jun 7   \n",
       "3  Exploring the strong visual hierarchies that     1.98K  Jun 1   \n",
       "4   Start with “Why?” and end with “I’m ready!”      1.1K  Jun 6   \n",
       "\n",
       "     7.Comments                                             8.Link  \n",
       "0  42 responses  https://medium.com/swlh/chatbots-were-the-next...  \n",
       "1   5 responses  https://towardsdatascience.com/python-for-data...  \n",
       "2   2 responses  https://blog.insightdatascience.com/reinforcem...  \n",
       "3   2 responses  https://towardsdatascience.com/intuitively-und...  \n",
       "4   2 responses  https://medium.freecodecamp.org/machine-learni...  "
      ]
     },
     "execution_count": 718,
     "metadata": {},
     "output_type": "execute_result"
    }
   ],
   "source": [
    "data1.head()"
   ]
  },
  {
   "cell_type": "markdown",
   "metadata": {},
   "source": [
    "# Articles tagged in DEEP LEARNING"
   ]
  },
  {
   "cell_type": "code",
   "execution_count": 650,
   "metadata": {
    "collapsed": true
   },
   "outputs": [],
   "source": [
    "driver = webdriver.Chrome('C:/Users/Sangarshanan Veera/Desktop/chromedriver.exe')\n",
    "driver.get(deep_learning)"
   ]
  },
  {
   "cell_type": "code",
   "execution_count": 651,
   "metadata": {
    "collapsed": true
   },
   "outputs": [],
   "source": [
    "res = driver.execute_script(\"return document.documentElement.outerHTML\")\n",
    "driver.quit()"
   ]
  },
  {
   "cell_type": "code",
   "execution_count": 652,
   "metadata": {
    "collapsed": true
   },
   "outputs": [],
   "source": [
    "soup = BeautifulSoup(res, 'lxml')"
   ]
  },
  {
   "cell_type": "code",
   "execution_count": 704,
   "metadata": {},
   "outputs": [],
   "source": [
    "work=[]\n",
    "for my_tag in soup.find_all(class_=\"ds-link ds-link--styleSubtle link--darken link--accent u-accentColor--textNormal\"):\n",
    "    work.append(my_tag.text)\n",
    "para=[]\n",
    "for my_tag in soup.find_all(True,{'class':['graf graf--h4 graf-after--h3 graf--trailing graf--subtitle','graf graf--p graf-after--figure','graf graf--p graf-after--h3 graf--trailing']}):\n",
    "    para.append(my_tag.text)\n",
    "title=[]\n",
    "for my_tag in soup.find_all(True,{'class':['graf graf--h3 graf-after--figure graf--title','graf graf--h3 graf--leading graf--title','graf graf--h3 graf-after--figure graf--trailing graf--title']}):\n",
    "    title.append(my_tag.text)\n",
    "read=[]\n",
    "for my_tag in soup.find_all(class_=\"readingTime\"):\n",
    "    read.append(my_tag.get('title'))\n",
    "upvotes=[]\n",
    "for my_tag in soup.find_all('span',{'class':'u-textAlignCenter u-relative u-background js-actionMultirecommendCount u-marginLeft5'}):\n",
    "    upvotes.append(my_tag.text)\n",
    "date=[]\n",
    "for my_tag in soup.find_all('time'):\n",
    "    date.append(my_tag.text)\n",
    "name = []\n",
    "for my_tag in soup.find_all(class_=\"ds-link ds-link--styleSubtle link link--darken link--accent u-accentColor--textNormal u-accentColor--textDarken\"):\n",
    "    name.append(my_tag.text)\n",
    "content=[]\n",
    "alllink=[]\n",
    "for my_tag in soup.find_all(class_=\"postArticle postArticle--short js-postArticle js-trackedPost\"):\n",
    "        content.append(my_tag.text)\n",
    "        for link in my_tag.find_all('a'):\n",
    "            alllink.append(link.get('href'))\n"
   ]
  },
  {
   "cell_type": "markdown",
   "metadata": {},
   "source": [
    "### Add the missing title in the 33rd index"
   ]
  },
  {
   "cell_type": "code",
   "execution_count": 705,
   "metadata": {
    "collapsed": true
   },
   "outputs": [],
   "source": [
    "title.insert(33,'“WTH does a neural network even learn?” — A newcomer’s dilemma')"
   ]
  },
  {
   "cell_type": "code",
   "execution_count": 706,
   "metadata": {},
   "outputs": [],
   "source": [
    "for i in range(0,len(content)):\n",
    "    content[i]=content[i].replace(name[i],'')\n",
    "    content[i]=content[i].replace(date[i],'')\n",
    "    content[i]=content[i].replace(upvotes[i],'')\n",
    "    content[i]=content[i].replace(title[i],'')\n",
    "    content[i]=content[i].replace('…Read more…','*')\n",
    "    content[i]=content[i].replace('Read more…','*')\n",
    "    content[i]=content[i].replace('\\xa0',' ')\n",
    "    content[i]=content[i].replace(' in ', '')\n",
    "    for tag in work:\n",
    "        content[i] = content[i].replace(tag, '')\n",
    "    content[i]=content[i].split('*')\n",
    "body=[]\n",
    "for i in range(0,len(content)):\n",
    "    body.append(content[i][0])\n",
    "\n",
    "res =[]\n",
    "for i in range(0,len(content)):\n",
    "    if (len(content[i]) == 1):\n",
    "        res.append('')\n",
    "    else:\n",
    "        res.append(content[i][1])\n",
    "\n",
    "links=[]\n",
    "for my_tag in soup.find_all(class_=\"button button--smaller button--chromeless u-baseColor--buttonNormal\"):\n",
    "        links.append(my_tag.get('href'))"
   ]
  },
  {
   "cell_type": "code",
   "execution_count": 707,
   "metadata": {},
   "outputs": [],
   "source": [
    "data2 = pd.DataFrame({'1.Tag':'Deep Learning','2.Name':name,'3.Title':title,'4.Body':body,'5.Upvotes':upvotes,'6.Date':date,'7.Comments':res,'8.Link':links}) "
   ]
  },
  {
   "cell_type": "code",
   "execution_count": 708,
   "metadata": {},
   "outputs": [
    {
     "data": {
      "text/html": [
       "<div>\n",
       "<style>\n",
       "    .dataframe thead tr:only-child th {\n",
       "        text-align: right;\n",
       "    }\n",
       "\n",
       "    .dataframe thead th {\n",
       "        text-align: left;\n",
       "    }\n",
       "\n",
       "    .dataframe tbody tr th {\n",
       "        vertical-align: top;\n",
       "    }\n",
       "</style>\n",
       "<table border=\"1\" class=\"dataframe\">\n",
       "  <thead>\n",
       "    <tr style=\"text-align: right;\">\n",
       "      <th></th>\n",
       "      <th>1.Tag</th>\n",
       "      <th>2.Name</th>\n",
       "      <th>3.Title</th>\n",
       "      <th>4.Body</th>\n",
       "      <th>5.Upvotes</th>\n",
       "      <th>6.Date</th>\n",
       "      <th>7.Comments</th>\n",
       "      <th>8.Link</th>\n",
       "    </tr>\n",
       "  </thead>\n",
       "  <tbody>\n",
       "    <tr>\n",
       "      <th>0</th>\n",
       "      <td>Deep Learning</td>\n",
       "      <td>Emmanuel Ameisen</td>\n",
       "      <td>Reinforcement Learning from scratch</td>\n",
       "      <td>Inspired by a great tutorial at O’Reilly AI</td>\n",
       "      <td>912</td>\n",
       "      <td>Jun 7</td>\n",
       "      <td>2 responses</td>\n",
       "      <td>https://blog.insightdatascience.com/reinforcem...</td>\n",
       "    </tr>\n",
       "    <tr>\n",
       "      <th>1</th>\n",
       "      <td>Deep Learning</td>\n",
       "      <td>Irhum Shafkat</td>\n",
       "      <td>Intuitively Understanding Convolutions for Dee...</td>\n",
       "      <td>Exploring the strong visual hierarchies that</td>\n",
       "      <td>1.98K</td>\n",
       "      <td>Jun 1</td>\n",
       "      <td>2 responses</td>\n",
       "      <td>https://towardsdatascience.com/intuitively-und...</td>\n",
       "    </tr>\n",
       "    <tr>\n",
       "      <th>2</th>\n",
       "      <td>Deep Learning</td>\n",
       "      <td>Gant Laborde</td>\n",
       "      <td>Machine Learning: how to go from Zero to Hero</td>\n",
       "      <td>Start with “Why?” and end with “I’m ready!”</td>\n",
       "      <td>1.1K</td>\n",
       "      <td>Jun 6</td>\n",
       "      <td>2 responses</td>\n",
       "      <td>https://medium.freecodecamp.org/machine-learni...</td>\n",
       "    </tr>\n",
       "    <tr>\n",
       "      <th>3</th>\n",
       "      <td>Deep Learning</td>\n",
       "      <td>Aman Dalmia</td>\n",
       "      <td>What I learned from interviewing at multiple A...</td>\n",
       "      <td></td>\n",
       "      <td>2.3K</td>\n",
       "      <td>May 27</td>\n",
       "      <td>13 responses</td>\n",
       "      <td>https://blog.usejournal.com/what-i-learned-fro...</td>\n",
       "    </tr>\n",
       "    <tr>\n",
       "      <th>4</th>\n",
       "      <td>Deep Learning</td>\n",
       "      <td>Abhishek Parbhakar</td>\n",
       "      <td>Must know Information Theory concepts in Deep ...</td>\n",
       "      <td></td>\n",
       "      <td>846</td>\n",
       "      <td>Jun 3</td>\n",
       "      <td>1 response</td>\n",
       "      <td>https://towardsdatascience.com/must-know-infor...</td>\n",
       "    </tr>\n",
       "  </tbody>\n",
       "</table>\n",
       "</div>"
      ],
      "text/plain": [
       "           1.Tag              2.Name  \\\n",
       "0  Deep Learning    Emmanuel Ameisen   \n",
       "1  Deep Learning       Irhum Shafkat   \n",
       "2  Deep Learning        Gant Laborde   \n",
       "3  Deep Learning         Aman Dalmia   \n",
       "4  Deep Learning  Abhishek Parbhakar   \n",
       "\n",
       "                                             3.Title  \\\n",
       "0                Reinforcement Learning from scratch   \n",
       "1  Intuitively Understanding Convolutions for Dee...   \n",
       "2      Machine Learning: how to go from Zero to Hero   \n",
       "3  What I learned from interviewing at multiple A...   \n",
       "4  Must know Information Theory concepts in Deep ...   \n",
       "\n",
       "                                         4.Body 5.Upvotes  6.Date  \\\n",
       "0   Inspired by a great tutorial at O’Reilly AI       912   Jun 7   \n",
       "1  Exploring the strong visual hierarchies that     1.98K   Jun 1   \n",
       "2   Start with “Why?” and end with “I’m ready!”      1.1K   Jun 6   \n",
       "3                                                    2.3K  May 27   \n",
       "4                                                     846   Jun 3   \n",
       "\n",
       "     7.Comments                                             8.Link  \n",
       "0   2 responses  https://blog.insightdatascience.com/reinforcem...  \n",
       "1   2 responses  https://towardsdatascience.com/intuitively-und...  \n",
       "2   2 responses  https://medium.freecodecamp.org/machine-learni...  \n",
       "3  13 responses  https://blog.usejournal.com/what-i-learned-fro...  \n",
       "4    1 response  https://towardsdatascience.com/must-know-infor...  "
      ]
     },
     "execution_count": 708,
     "metadata": {},
     "output_type": "execute_result"
    }
   ],
   "source": [
    "data2.head()"
   ]
  },
  {
   "cell_type": "markdown",
   "metadata": {},
   "source": [
    "## Combine all three tags"
   ]
  },
  {
   "cell_type": "code",
   "execution_count": 720,
   "metadata": {
    "collapsed": true
   },
   "outputs": [],
   "source": [
    "f = data.append(data1, ignore_index=True)"
   ]
  },
  {
   "cell_type": "code",
   "execution_count": 722,
   "metadata": {},
   "outputs": [],
   "source": [
    "alldata = f.append(data2,ignore_index=True)"
   ]
  },
  {
   "cell_type": "code",
   "execution_count": 724,
   "metadata": {},
   "outputs": [
    {
     "data": {
      "text/plain": [
       "(185, 8)"
      ]
     },
     "execution_count": 724,
     "metadata": {},
     "output_type": "execute_result"
    }
   ],
   "source": [
    "alldata.shape"
   ]
  },
  {
   "cell_type": "markdown",
   "metadata": {},
   "source": [
    "## Convert to csv format"
   ]
  },
  {
   "cell_type": "code",
   "execution_count": 740,
   "metadata": {},
   "outputs": [],
   "source": [
    "alldata.to_csv('medium.csv',encoding='utf-8')"
   ]
  },
  {
   "cell_type": "code",
   "execution_count": 741,
   "metadata": {},
   "outputs": [],
   "source": [
    "df = pd.read_csv('medium.csv')"
   ]
  },
  {
   "cell_type": "code",
   "execution_count": 744,
   "metadata": {},
   "outputs": [
    {
     "data": {
      "text/html": [
       "<div>\n",
       "<style>\n",
       "    .dataframe thead tr:only-child th {\n",
       "        text-align: right;\n",
       "    }\n",
       "\n",
       "    .dataframe thead th {\n",
       "        text-align: left;\n",
       "    }\n",
       "\n",
       "    .dataframe tbody tr th {\n",
       "        vertical-align: top;\n",
       "    }\n",
       "</style>\n",
       "<table border=\"1\" class=\"dataframe\">\n",
       "  <thead>\n",
       "    <tr style=\"text-align: right;\">\n",
       "      <th></th>\n",
       "      <th>Unnamed: 0</th>\n",
       "      <th>1.Tag</th>\n",
       "      <th>2.Name</th>\n",
       "      <th>3.Title</th>\n",
       "      <th>4.Body</th>\n",
       "      <th>5.Upvotes</th>\n",
       "      <th>6.Date</th>\n",
       "      <th>7.Comments</th>\n",
       "      <th>8.Link</th>\n",
       "    </tr>\n",
       "  </thead>\n",
       "  <tbody>\n",
       "    <tr>\n",
       "      <th>0</th>\n",
       "      <td>0</td>\n",
       "      <td>Artificial Intelligence</td>\n",
       "      <td>WiseWolf Fund</td>\n",
       "      <td>GAME-CHANGING TRENDS TO LOOK OUT FOR WITH AI</td>\n",
       "      <td>Artificial Intelligence is a state-of-the-art ...</td>\n",
       "      <td>12.9K</td>\n",
       "      <td>Apr 30</td>\n",
       "      <td>10 responses</td>\n",
       "      <td>https://medium.com/@wisewolf_fund/unique-trend...</td>\n",
       "    </tr>\n",
       "    <tr>\n",
       "      <th>1</th>\n",
       "      <td>1</td>\n",
       "      <td>Artificial Intelligence</td>\n",
       "      <td>Justin Lee</td>\n",
       "      <td>Chatbots were the next big thing: what happened?</td>\n",
       "      <td>Oh, how the headlines blared:“…the 2016 bot</td>\n",
       "      <td>7.7K</td>\n",
       "      <td>Jun 5</td>\n",
       "      <td>41 responses</td>\n",
       "      <td>https://medium.com/swlh/chatbots-were-the-next...</td>\n",
       "    </tr>\n",
       "    <tr>\n",
       "      <th>2</th>\n",
       "      <td>2</td>\n",
       "      <td>Artificial Intelligence</td>\n",
       "      <td>Emmanuel Ameisen</td>\n",
       "      <td>Reinforcement Learning from scratch</td>\n",
       "      <td>Inspired by a great tutorial at O’Reilly AI</td>\n",
       "      <td>907</td>\n",
       "      <td>Jun 7</td>\n",
       "      <td>1 response</td>\n",
       "      <td>https://blog.insightdatascience.com/reinforcem...</td>\n",
       "    </tr>\n",
       "    <tr>\n",
       "      <th>3</th>\n",
       "      <td>3</td>\n",
       "      <td>Artificial Intelligence</td>\n",
       "      <td>Irhum Shafkat</td>\n",
       "      <td>Intuitively Understanding Convolutions for Dee...</td>\n",
       "      <td>Exploring the strong visual hierarchies that</td>\n",
       "      <td>1.92K</td>\n",
       "      <td>Jun 1</td>\n",
       "      <td>2 responses</td>\n",
       "      <td>https://towardsdatascience.com/intuitively-und...</td>\n",
       "    </tr>\n",
       "    <tr>\n",
       "      <th>4</th>\n",
       "      <td>4</td>\n",
       "      <td>Artificial Intelligence</td>\n",
       "      <td>Sam Drozdov</td>\n",
       "      <td>An intro to Machine Learning for designers</td>\n",
       "      <td>The basics of machine learning and how to appl...</td>\n",
       "      <td>2.3K</td>\n",
       "      <td>May 30</td>\n",
       "      <td>10 responses</td>\n",
       "      <td>https://uxdesign.cc/an-intro-to-machine-learni...</td>\n",
       "    </tr>\n",
       "  </tbody>\n",
       "</table>\n",
       "</div>"
      ],
      "text/plain": [
       "   Unnamed: 0                    1.Tag            2.Name  \\\n",
       "0           0  Artificial Intelligence     WiseWolf Fund   \n",
       "1           1  Artificial Intelligence        Justin Lee   \n",
       "2           2  Artificial Intelligence  Emmanuel Ameisen   \n",
       "3           3  Artificial Intelligence     Irhum Shafkat   \n",
       "4           4  Artificial Intelligence       Sam Drozdov   \n",
       "\n",
       "                                             3.Title  \\\n",
       "0       GAME-CHANGING TRENDS TO LOOK OUT FOR WITH AI   \n",
       "1   Chatbots were the next big thing: what happened?   \n",
       "2                Reinforcement Learning from scratch   \n",
       "3  Intuitively Understanding Convolutions for Dee...   \n",
       "4         An intro to Machine Learning for designers   \n",
       "\n",
       "                                              4.Body 5.Upvotes  6.Date  \\\n",
       "0  Artificial Intelligence is a state-of-the-art ...     12.9K  Apr 30   \n",
       "1        Oh, how the headlines blared:“…the 2016 bot      7.7K   Jun 5   \n",
       "2        Inspired by a great tutorial at O’Reilly AI       907   Jun 7   \n",
       "3       Exploring the strong visual hierarchies that     1.92K   Jun 1   \n",
       "4  The basics of machine learning and how to appl...      2.3K  May 30   \n",
       "\n",
       "     7.Comments                                             8.Link  \n",
       "0  10 responses  https://medium.com/@wisewolf_fund/unique-trend...  \n",
       "1  41 responses  https://medium.com/swlh/chatbots-were-the-next...  \n",
       "2    1 response  https://blog.insightdatascience.com/reinforcem...  \n",
       "3   2 responses  https://towardsdatascience.com/intuitively-und...  \n",
       "4  10 responses  https://uxdesign.cc/an-intro-to-machine-learni...  "
      ]
     },
     "execution_count": 744,
     "metadata": {},
     "output_type": "execute_result"
    }
   ],
   "source": [
    "df.head()"
   ]
  }
 ],
 "metadata": {
  "kernelspec": {
   "display_name": "Python 3",
   "language": "python",
   "name": "python3"
  },
  "language_info": {
   "codemirror_mode": {
    "name": "ipython",
    "version": 3
   },
   "file_extension": ".py",
   "mimetype": "text/x-python",
   "name": "python",
   "nbconvert_exporter": "python",
   "pygments_lexer": "ipython3",
   "version": "3.11.1"
  },
  "vscode": {
   "interpreter": {
    "hash": "c1efa8da88f1a547ece805b348be336bfd12fbe90d460a14aa759d01b5dfa4db"
   }
  }
 },
 "nbformat": 4,
 "nbformat_minor": 2
}
